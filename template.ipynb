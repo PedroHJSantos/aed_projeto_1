{
 "cells": [
  {
   "cell_type": "markdown",
   "metadata": {},
   "outputs": [],
   "source": [
    "# Projeto #1 - Análise Exploratória de Dados\n",
    "\n",
    "Antes de começar, leia as [Instruções](https://github.com/thvmm/pos-ds-ia/tree/master/projeto_1#instru%C3%A7%C3%B5es) e os [Critérios de Avaliação](https://github.com/thvmm/pos-ds-ia/tree/master/projeto_1#crit%C3%A9rios-de-avalia%C3%A7%C3%A3o)\n"
   ]
  },
  {
   "cell_type": "markdown",
   "metadata": {},
   "outputs": [],
   "source": [
    "### 1) **(5%)** Qual a base escolhida e qual seu interesse nela?"
   ]
  },
  {
   "cell_type": "markdown",
   "metadata": {},
   "outputs": [],
   "source": [
    "Neste projeto, apresento uma análise exploratória de dados realizada no dataset de Registro Digital de Ocorrências do Estado de São Paulo nos anos 2013, 2014 e 2015.\n",
    "\n",
    "A escolha pelo dataset é dada devido ao crescente índice de criminalidade no Brasil. Tendo assim, o objetivo de obter uma mellhor visualização dessas informações, como por exemplo: quais crimes ocorreram com mais frequência em determinada cidade.\n",
    "\n",
    "A base está disponível em https://www.kaggle.com/inquisitivecrow/crime-data-in-brazil e contém informações de ocorrências nos anos de 2007 a 2016.\n",
    "\n",
    "**Obs:** A análise proposta trabalha apenas com parte da informação disponibilizada (dados de 2013, 2014 e 2015) pois, para trabalhar com a sua totalidade, seria necessário unir todos os arquivos, onde, boa parte não possui features julgadas como importantes para a análise (como os dados das vítimas e autores das ocorrências)."
   ]
  },
  {
   "cell_type": "markdown",
   "metadata": {},
   "outputs": [],
   "source": [
    "### 2) **(5%)** Descrição básica do conjunto de dados escolhido pelo aluno (1 parágrafo).\n",
    "- Identificação da variável a serem trabalhadas\n",
    "- Classificação das variáveis como: contínua ou discreta.\n"
   ]
  },
  {
   "cell_type": "markdown",
   "metadata": {},
   "outputs": [],
   "source": [
    "As variáveis escolhidas para serem trabalhadas são:\n",
    "\n",
    "- CIDADE (descritiva): cidade da ocorrência\n",
    "- ANO_BO (continua): ano do boletim de ocorrência\n",
    "- DATA_OCORRENCIA_BO (continua): data de ocorrência\n",
    "- HORA_OCORRENCIA_BO (continua): horário da ocorrência\n",
    "- FLAG_STATUS (categorica): informa se o crime foi consumado ou tentado\n",
    "- RUBRICA (descritiva): ato da ocorrência (ex: roubo, furto, lesão corporal...)\n",
    "- DESCR_CONDUTA (descritiva): descrição da conduta\n",
    "- DESCR_TIPOLOCAL (descritiva): local da ocorrência\n",
    "- DESCR_TIPO_PESSOA (categotica): classificação de pessoa (ex: vítima)\n",
    "- SEXO_PESSOA (categorica): sexo da pessoa\n",
    "- IDADE_PESSOA (continua): idade da pessoa"
   ]
  },
  {
   "cell_type": "markdown",
   "metadata": {},
   "outputs": [],
   "source": [
    "### 3) **(15%)** Faça uma avaliação descritiva da sua base. Quantas linhas ela possui? Quais os tipos de dados? Quantas e quais features possuem?\n",
    "\n",
    "Cada variável escolhida pelo aluno precisa passar por ao menos 1 pré-processamento. O pré-processamento pode ser (mas não está limitado a):\n",
    "- Checagem se os valores estão dentro de um limite permitido ou razoável.\n",
    "- Tratamento de valores ausentes por eliminação ou substituição.\n",
    "- Conversão do tipo de dados.\n"
   ]
  },
  {
   "cell_type": "code",
   "execution_count": 1,
   "metadata": {},
   "outputs": [],
   "source": [
    "# Importação de bibliotecas\n",
    "import pandas as pd\n",
    "import matplotlib.pyplot as plt"
   ]
  },
  {
   "cell_type": "code",
   "execution_count": 2,
   "metadata": {},
   "outputs": [
    {
     "name": "stderr",
     "output_type": "stream",
     "text": "/home/pedro/anaconda3/envs/pos-ds-ia-37/lib/python3.7/site-packages/IPython/core/interactiveshell.py:3058: DtypeWarning: Columns (22,23,24,28,30) have mixed types. Specify dtype option on import or set low_memory=False.\n  interactivity=interactivity, compiler=compiler, result=result)\n"
    },
    {
     "data": {
      "text/html": "<div>\n<style scoped>\n    .dataframe tbody tr th:only-of-type {\n        vertical-align: middle;\n    }\n\n    .dataframe tbody tr th {\n        vertical-align: top;\n    }\n\n    .dataframe thead th {\n        text-align: right;\n    }\n</style>\n<table border=\"1\" class=\"dataframe\">\n  <thead>\n    <tr style=\"text-align: right;\">\n      <th></th>\n      <th>ID_DELEGACIA</th>\n      <th>NOME_DEPARTAMENTO</th>\n      <th>NOME_SECCIONAL</th>\n      <th>NOME_DELEGACIA</th>\n      <th>CIDADE</th>\n      <th>ANO_BO</th>\n      <th>NUM_BO</th>\n      <th>NOME_DEPARTAMENTO_CIRC</th>\n      <th>NOME_SECCIONAL_CIRC</th>\n      <th>NOME_DELEGACIA_CIRC</th>\n      <th>...</th>\n      <th>DESCR_SUBTIPOLOCAL</th>\n      <th>LOGRADOURO</th>\n      <th>NUMERO_LOGRADOURO</th>\n      <th>LATITUDE</th>\n      <th>LONGITUDE</th>\n      <th>DESCR_TIPO_PESSOA</th>\n      <th>FLAG_VITIMA_FATAL</th>\n      <th>SEXO_PESSOA</th>\n      <th>IDADE_PESSOA</th>\n      <th>COR_CUTIS</th>\n    </tr>\n  </thead>\n  <tbody>\n    <tr>\n      <th>0</th>\n      <td>10004</td>\n      <td>DIRD - DEPTO IDENT.REG.DIV</td>\n      <td>DIV.POL.PORTO/AERO/PROT.TURIS-DECADE</td>\n      <td>06º D.P. METROPOLITANO</td>\n      <td>S.PAULO</td>\n      <td>2013</td>\n      <td>3</td>\n      <td>DECAP</td>\n      <td>DEL.SEC.8º SAO MATEUS</td>\n      <td>44º D.P.  GUAIANAZES</td>\n      <td>...</td>\n      <td>Metrov. e ferroviário metrop.-acesso/escada/el...</td>\n      <td>ESTACAO GUAIANAZES - CPTM</td>\n      <td>0</td>\n      <td>-23.54398268</td>\n      <td>-46.4219843</td>\n      <td>Vítima</td>\n      <td>NaN</td>\n      <td>M</td>\n      <td>29</td>\n      <td>Branca</td>\n    </tr>\n    <tr>\n      <th>1</th>\n      <td>10004</td>\n      <td>DIRD - DEPTO IDENT.REG.DIV</td>\n      <td>DIV.POL.PORTO/AERO/PROT.TURIS-DECADE</td>\n      <td>06º D.P. METROPOLITANO</td>\n      <td>S.PAULO</td>\n      <td>2013</td>\n      <td>10</td>\n      <td>DECAP</td>\n      <td>DEL.SEC.3º OESTE</td>\n      <td>23º D.P.  PERDIZES</td>\n      <td>...</td>\n      <td>Via pública                                   ...</td>\n      <td>RUA JOAO RAMALHO</td>\n      <td>0</td>\n      <td>-23.54006897</td>\n      <td>-46.66791385</td>\n      <td>Vítima</td>\n      <td>NaN</td>\n      <td>F</td>\n      <td>41</td>\n      <td>Branca</td>\n    </tr>\n    <tr>\n      <th>2</th>\n      <td>10004</td>\n      <td>DIRD - DEPTO IDENT.REG.DIV</td>\n      <td>DIV.POL.PORTO/AERO/PROT.TURIS-DECADE</td>\n      <td>06º D.P. METROPOLITANO</td>\n      <td>S.PAULO</td>\n      <td>2013</td>\n      <td>21</td>\n      <td>DECAP</td>\n      <td>DEL.SEC.7º ITAQUERA</td>\n      <td>64º D.P. CID.AE CARVALHO</td>\n      <td>...</td>\n      <td>Metrov. e ferroviário metrop.-outros          ...</td>\n      <td>AV DO CONTORNO</td>\n      <td>60</td>\n      <td>-23.53967047</td>\n      <td>-46.46252708</td>\n      <td>Vítima</td>\n      <td>NaN</td>\n      <td>M</td>\n      <td>29</td>\n      <td>Parda</td>\n    </tr>\n    <tr>\n      <th>3</th>\n      <td>10004</td>\n      <td>DIRD - DEPTO IDENT.REG.DIV</td>\n      <td>DIV.POL.PORTO/AERO/PROT.TURIS-DECADE</td>\n      <td>06º D.P. METROPOLITANO</td>\n      <td>S.PAULO</td>\n      <td>2013</td>\n      <td>37</td>\n      <td>DECAP</td>\n      <td>DEL.SEC.3º OESTE</td>\n      <td>23º D.P.  PERDIZES</td>\n      <td>...</td>\n      <td>Metrov. e ferroviário metrop.-acesso/escada/el...</td>\n      <td>ESTACAO BARRA FUNDA - METRO</td>\n      <td>0</td>\n      <td>-23.53347685</td>\n      <td>-46.65267016</td>\n      <td>Vítima</td>\n      <td>NaN</td>\n      <td>M</td>\n      <td>39</td>\n      <td>Branca</td>\n    </tr>\n    <tr>\n      <th>4</th>\n      <td>10004</td>\n      <td>DIRD - DEPTO IDENT.REG.DIV</td>\n      <td>DIV.POL.PORTO/AERO/PROT.TURIS-DECADE</td>\n      <td>06º D.P. METROPOLITANO</td>\n      <td>S.PAULO</td>\n      <td>2013</td>\n      <td>43</td>\n      <td>DECAP</td>\n      <td>DEL.SEC.1º CENTRO</td>\n      <td>02º D.P. BOM RETIRO</td>\n      <td>...</td>\n      <td>Metrov. e ferroviário metrop.-acesso/escada/el...</td>\n      <td>ESTACAO LUZ/ESCADA ROLANTE</td>\n      <td>999</td>\n      <td>-23.53498802</td>\n      <td>-46.63984656</td>\n      <td>Vítima</td>\n      <td>NaN</td>\n      <td>F</td>\n      <td>34</td>\n      <td>Branca</td>\n    </tr>\n  </tbody>\n</table>\n<p>5 rows × 30 columns</p>\n</div>",
      "text/plain": "   ID_DELEGACIA                         NOME_DEPARTAMENTO  \\\n0         10004  DIRD - DEPTO IDENT.REG.DIV                 \n1         10004  DIRD - DEPTO IDENT.REG.DIV                 \n2         10004  DIRD - DEPTO IDENT.REG.DIV                 \n3         10004  DIRD - DEPTO IDENT.REG.DIV                 \n4         10004  DIRD - DEPTO IDENT.REG.DIV                 \n\n                             NOME_SECCIONAL                  NOME_DELEGACIA  \\\n0  DIV.POL.PORTO/AERO/PROT.TURIS-DECADE      06º D.P. METROPOLITANO           \n1  DIV.POL.PORTO/AERO/PROT.TURIS-DECADE      06º D.P. METROPOLITANO           \n2  DIV.POL.PORTO/AERO/PROT.TURIS-DECADE      06º D.P. METROPOLITANO           \n3  DIV.POL.PORTO/AERO/PROT.TURIS-DECADE      06º D.P. METROPOLITANO           \n4  DIV.POL.PORTO/AERO/PROT.TURIS-DECADE      06º D.P. METROPOLITANO           \n\n                                     CIDADE  ANO_BO  NUM_BO  \\\n0  S.PAULO                                     2013       3   \n1  S.PAULO                                     2013      10   \n2  S.PAULO                                     2013      21   \n3  S.PAULO                                     2013      37   \n4  S.PAULO                                     2013      43   \n\n                     NOME_DEPARTAMENTO_CIRC  \\\n0  DECAP                                      \n1  DECAP                                      \n2  DECAP                                      \n3  DECAP                                      \n4  DECAP                                      \n\n                        NOME_SECCIONAL_CIRC             NOME_DELEGACIA_CIRC  \\\n0  DEL.SEC.8º SAO MATEUS                     44º D.P.  GUAIANAZES             \n1  DEL.SEC.3º OESTE                          23º D.P.  PERDIZES               \n2  DEL.SEC.7º ITAQUERA                       64º D.P. CID.AE CARVALHO         \n3  DEL.SEC.3º OESTE                          23º D.P.  PERDIZES               \n4  DEL.SEC.1º CENTRO                         02º D.P. BOM RETIRO              \n\n   ...                                 DESCR_SUBTIPOLOCAL  \\\n0  ...  Metrov. e ferroviário metrop.-acesso/escada/el...   \n1  ...  Via pública                                   ...   \n2  ...  Metrov. e ferroviário metrop.-outros          ...   \n3  ...  Metrov. e ferroviário metrop.-acesso/escada/el...   \n4  ...  Metrov. e ferroviário metrop.-acesso/escada/el...   \n\n                                 LOGRADOURO NUMERO_LOGRADOURO      LATITUDE  \\\n0  ESTACAO GUAIANAZES - CPTM                                0  -23.54398268   \n1  RUA JOAO RAMALHO                                         0  -23.54006897   \n2  AV DO CONTORNO                                          60  -23.53967047   \n3  ESTACAO BARRA FUNDA - METRO                              0  -23.53347685   \n4  ESTACAO LUZ/ESCADA ROLANTE                             999  -23.53498802   \n\n      LONGITUDE     DESCR_TIPO_PESSOA FLAG_VITIMA_FATAL SEXO_PESSOA  \\\n0   -46.4219843  Vítima                             NaN           M   \n1  -46.66791385  Vítima                             NaN           F   \n2  -46.46252708  Vítima                             NaN           M   \n3  -46.65267016  Vítima                             NaN           M   \n4  -46.63984656  Vítima                             NaN           F   \n\n  IDADE_PESSOA             COR_CUTIS  \n0           29  Branca                \n1           41  Branca                \n2           29  Parda                 \n3           39  Branca                \n4           34  Branca                \n\n[5 rows x 30 columns]"
     },
     "execution_count": 2,
     "metadata": {},
     "output_type": "execute_result"
    }
   ],
   "source": [
    "# Leitura do dataset\n",
    "df = pd.read_csv(\"RDO_2.csv\")\n",
    "df.drop(df.columns[df.columns.str.contains(\"unnamed\", case=False)], axis=1, inplace=True)\n",
    "df.head()"
   ]
  },
  {
   "cell_type": "code",
   "execution_count": 3,
   "metadata": {},
   "outputs": [
    {
     "name": "stdout",
     "output_type": "stream",
     "text": "Quantidade de registros do DataFrame: 1048575\n"
    },
    {
     "data": {
      "text/plain": "ID_DELEGACIA                 int64\nNOME_DEPARTAMENTO           object\nNOME_SECCIONAL              object\nNOME_DELEGACIA              object\nCIDADE                      object\nANO_BO                       int64\nNUM_BO                       int64\nNOME_DEPARTAMENTO_CIRC      object\nNOME_SECCIONAL_CIRC         object\nNOME_DELEGACIA_CIRC         object\nNOME_MUNICIPIO_CIRC         object\nDESCR_TIPO_BO               object\nDATA_OCORRENCIA_BO          object\nHORA_OCORRENCIA_BO          object\nDATAHORA_COMUNICACAO_BO    float64\nFLAG_STATUS                 object\nRUBRICA                     object\nDESCR_CONDUTA               object\nDESDOBRAMENTO               object\nDESCR_TIPOLOCAL             object\nDESCR_SUBTIPOLOCAL          object\nLOGRADOURO                  object\nNUMERO_LOGRADOURO           object\nLATITUDE                    object\nLONGITUDE                   object\nDESCR_TIPO_PESSOA           object\nFLAG_VITIMA_FATAL           object\nSEXO_PESSOA                 object\nIDADE_PESSOA                object\nCOR_CUTIS                   object\ndtype: object"
     },
     "execution_count": 3,
     "metadata": {},
     "output_type": "execute_result"
    }
   ],
   "source": [
    "# OBTENDO A QUANTIDADE DE REGISTROS E TIPOS DE DADOS\n",
    "print(\"Quantidade de registros do DataFrame: {}\".format(len(df)))\n",
    "df.dtypes"
   ]
  },
  {
   "cell_type": "markdown",
   "execution_count": null,
   "metadata": {},
   "outputs": [],
   "source": [
    "### **QUANTIDADE DE REGISTROS**\n",
    "\n",
    "A base possui um total de 1.048.575 registros\n",
    "\n",
    "\n",
    "### ** FEATURES **\n",
    "\n",
    "A base possui um total de 30 features, onde:\n",
    "\n",
    "* **ID_DELEGACIA** - inteiro\n",
    "* **NOME_DEPARTAMENTO** - objeto\n",
    "* **NOME_SECCIONAL** - objeto\n",
    "* **NOME_DELEGACIA** - objeto\n",
    "* **CIDADE** - objeto\n",
    "* **ANO_BO** - inteiro\n",
    "* **NUM_BO** - inteiro\n",
    "* **NOME_DEPARTAMENTO_CIRC** - objeto\n",
    "* **NOME_SECCIONAL_CIRC** - objeto\n",
    "* **NOME_DELEGACIA_CIRC** - objeto\n",
    "* **NOME_MUNICIPIO_CIRC** - objeto\n",
    "* **DESCR_TIPO_BO** - objeto\n",
    "* **DATA_OCORRENCIA_BO** - objeto\n",
    "* **HORA_OCORRENCIA_BO** - objeto\n",
    "* **DATAHORA_COMUNICACAO_BO** - ponto flutuante\n",
    "* **FLAG_STATUS** - objeto\n",
    "* **RUBRICA** - objeto\n",
    "* **DESCR_CONDUTA** - objeto\n",
    "* **DESDOBRAMENTO** - objeto\n",
    "* **DESCR_TIPOLOCAL** - objeto\n",
    "* **DESCR_SUBTIPOLOCAL** - objeto\n",
    "* **LOGRADOURO** - objeto\n",
    "* **NUMERO_LOGRADOURO** - objeto\n",
    "* **LATITUDE** - objeto\n",
    "* **LONGITUDE** - objeto\n",
    "* **DESCR_TIPO_PESSOA** - objeto\n",
    "* **FLAG_VITIMA_FATAL** - objeto\n",
    "* **SEXO_PESSOA** - objeto\n",
    "* **IDADE_PESSOA** - objeto\n",
    "* **COR_CUTIS** - objeto"
   ]
  },
  {
   "cell_type": "code",
   "execution_count": 4,
   "metadata": {},
   "outputs": [
    {
     "data": {
      "text/html": "<div>\n<style scoped>\n    .dataframe tbody tr th:only-of-type {\n        vertical-align: middle;\n    }\n\n    .dataframe tbody tr th {\n        vertical-align: top;\n    }\n\n    .dataframe thead th {\n        text-align: right;\n    }\n</style>\n<table border=\"1\" class=\"dataframe\">\n  <thead>\n    <tr style=\"text-align: right;\">\n      <th></th>\n      <th>CIDADE</th>\n      <th>ANO_BO</th>\n      <th>DATA_OCORRENCIA_BO</th>\n      <th>HORA_OCORRENCIA_BO</th>\n      <th>FLAG_STATUS</th>\n      <th>RUBRICA</th>\n      <th>DESCR_CONDUTA</th>\n      <th>DESDOBRAMENTO</th>\n      <th>DESCR_TIPOLOCAL</th>\n      <th>DESCR_TIPO_PESSOA</th>\n      <th>FLAG_VITIMA_FATAL</th>\n      <th>SEXO_PESSOA</th>\n      <th>IDADE_PESSOA</th>\n      <th>COR_CUTIS</th>\n    </tr>\n  </thead>\n  <tbody>\n    <tr>\n      <th>0</th>\n      <td>S.PAULO</td>\n      <td>2013</td>\n      <td>01/01/2013</td>\n      <td>06:20</td>\n      <td>Consumado</td>\n      <td>Roubo (art. 157)</td>\n      <td>OUTROS</td>\n      <td>NaN</td>\n      <td>Terminal/Estação</td>\n      <td>Vítima</td>\n      <td>NaN</td>\n      <td>M</td>\n      <td>29</td>\n      <td>Branca</td>\n    </tr>\n    <tr>\n      <th>1</th>\n      <td>S.PAULO</td>\n      <td>2013</td>\n      <td>02/01/2013</td>\n      <td>06:10</td>\n      <td>Consumado</td>\n      <td>Roubo (art. 157)</td>\n      <td>TRANSEUNTE</td>\n      <td>NaN</td>\n      <td>Via pública</td>\n      <td>Vítima</td>\n      <td>NaN</td>\n      <td>F</td>\n      <td>41</td>\n      <td>Branca</td>\n    </tr>\n    <tr>\n      <th>2</th>\n      <td>S.PAULO</td>\n      <td>2013</td>\n      <td>04/01/2013</td>\n      <td>05:30</td>\n      <td>Consumado</td>\n      <td>Furto qualificado (art. 155, §4o.)</td>\n      <td>OUTROS</td>\n      <td>NaN</td>\n      <td>Terminal/Estação</td>\n      <td>Vítima</td>\n      <td>NaN</td>\n      <td>M</td>\n      <td>29</td>\n      <td>Parda</td>\n    </tr>\n    <tr>\n      <th>3</th>\n      <td>S.PAULO</td>\n      <td>2013</td>\n      <td>06/01/2013</td>\n      <td>12:05</td>\n      <td>Consumado</td>\n      <td>Furto (art. 155)</td>\n      <td>OUTROS</td>\n      <td>NaN</td>\n      <td>Terminal/Estação</td>\n      <td>Vítima</td>\n      <td>NaN</td>\n      <td>M</td>\n      <td>39</td>\n      <td>Branca</td>\n    </tr>\n    <tr>\n      <th>4</th>\n      <td>S.PAULO</td>\n      <td>2013</td>\n      <td>07/01/2013</td>\n      <td>05:50</td>\n      <td>Consumado</td>\n      <td>Roubo (art. 157)</td>\n      <td>OUTROS</td>\n      <td>NaN</td>\n      <td>Terminal/Estação</td>\n      <td>Vítima</td>\n      <td>NaN</td>\n      <td>F</td>\n      <td>34</td>\n      <td>Branca</td>\n    </tr>\n  </tbody>\n</table>\n</div>",
      "text/plain": "                                     CIDADE  ANO_BO DATA_OCORRENCIA_BO  \\\n0  S.PAULO                                     2013         01/01/2013   \n1  S.PAULO                                     2013         02/01/2013   \n2  S.PAULO                                     2013         04/01/2013   \n3  S.PAULO                                     2013         06/01/2013   \n4  S.PAULO                                     2013         07/01/2013   \n\n  HORA_OCORRENCIA_BO FLAG_STATUS                             RUBRICA  \\\n0              06:20   Consumado                    Roubo (art. 157)   \n1              06:10   Consumado                    Roubo (art. 157)   \n2              05:30   Consumado  Furto qualificado (art. 155, §4o.)   \n3              12:05   Consumado                    Furto (art. 155)   \n4              05:50   Consumado                    Roubo (art. 157)   \n\n  DESCR_CONDUTA DESDOBRAMENTO                           DESCR_TIPOLOCAL  \\\n0        OUTROS           NaN  Terminal/Estação                           \n1    TRANSEUNTE           NaN  Via pública                                \n2        OUTROS           NaN  Terminal/Estação                           \n3        OUTROS           NaN  Terminal/Estação                           \n4        OUTROS           NaN  Terminal/Estação                           \n\n      DESCR_TIPO_PESSOA FLAG_VITIMA_FATAL SEXO_PESSOA IDADE_PESSOA  \\\n0  Vítima                             NaN           M           29   \n1  Vítima                             NaN           F           41   \n2  Vítima                             NaN           M           29   \n3  Vítima                             NaN           M           39   \n4  Vítima                             NaN           F           34   \n\n              COR_CUTIS  \n0  Branca                \n1  Branca                \n2  Parda                 \n3  Branca                \n4  Branca                "
     },
     "execution_count": 4,
     "metadata": {},
     "output_type": "execute_result"
    }
   ],
   "source": [
    "# REMOVENDO FEATURES QUE NÃO SERÃO UTILIZADAS NA ANÁLISE\n",
    "df.drop([\"ID_DELEGACIA\", \"NOME_DEPARTAMENTO\", \"NOME_SECCIONAL\", \"NOME_DELEGACIA\", \"NUM_BO\", \"NOME_DEPARTAMENTO_CIRC\", \"NOME_SECCIONAL_CIRC\", \"NOME_DELEGACIA_CIRC\", \"NOME_MUNICIPIO_CIRC\", \"DESCR_TIPO_BO\", \"DATAHORA_COMUNICACAO_BO\", \"DESCR_SUBTIPOLOCAL\", \"LOGRADOURO\", \"NUMERO_LOGRADOURO\", \"LATITUDE\", \"LONGITUDE\"], axis=1, inplace=True)\n",
    "df.head()"
   ]
  },
  {
   "cell_type": "markdown",
   "execution_count": null,
   "metadata": {},
   "outputs": [],
   "source": [
    "## **Limpeza de dados**"
   ]
  },
  {
   "cell_type": "code",
   "execution_count": 5,
   "metadata": {},
   "outputs": [
    {
     "data": {
      "text/plain": "CIDADE                 0.00\nANO_BO                 0.00\nDATA_OCORRENCIA_BO     0.00\nHORA_OCORRENCIA_BO    25.14\nFLAG_STATUS            0.00\nRUBRICA                0.00\nDESCR_CONDUTA         19.10\nDESDOBRAMENTO         93.39\nDESCR_TIPOLOCAL        0.00\nDESCR_TIPO_PESSOA      0.01\nFLAG_VITIMA_FATAL     96.31\nSEXO_PESSOA            0.01\nIDADE_PESSOA           0.96\nCOR_CUTIS             23.62\ndtype: float64"
     },
     "execution_count": 5,
     "metadata": {},
     "output_type": "execute_result"
    }
   ],
   "source": [
    "# PRECENTUAL DE ELEMENTOS NULOS\n",
    "round(df.isnull().mean()*100,2)"
   ]
  },
  {
   "cell_type": "code",
   "execution_count": 6,
   "metadata": {},
   "outputs": [
    {
     "data": {
      "text/html": "<div>\n<style scoped>\n    .dataframe tbody tr th:only-of-type {\n        vertical-align: middle;\n    }\n\n    .dataframe tbody tr th {\n        vertical-align: top;\n    }\n\n    .dataframe thead th {\n        text-align: right;\n    }\n</style>\n<table border=\"1\" class=\"dataframe\">\n  <thead>\n    <tr style=\"text-align: right;\">\n      <th></th>\n      <th>CIDADE</th>\n      <th>ANO_BO</th>\n      <th>DATA_OCORRENCIA_BO</th>\n      <th>HORA_OCORRENCIA_BO</th>\n      <th>FLAG_STATUS</th>\n      <th>RUBRICA</th>\n      <th>DESCR_CONDUTA</th>\n      <th>DESCR_TIPOLOCAL</th>\n      <th>DESCR_TIPO_PESSOA</th>\n      <th>SEXO_PESSOA</th>\n      <th>IDADE_PESSOA</th>\n    </tr>\n  </thead>\n  <tbody>\n    <tr>\n      <th>0</th>\n      <td>S.PAULO</td>\n      <td>2013</td>\n      <td>01/01/2013</td>\n      <td>06:20</td>\n      <td>Consumado</td>\n      <td>Roubo (art. 157)</td>\n      <td>OUTROS</td>\n      <td>Terminal/Estação</td>\n      <td>Vítima</td>\n      <td>M</td>\n      <td>29</td>\n    </tr>\n    <tr>\n      <th>1</th>\n      <td>S.PAULO</td>\n      <td>2013</td>\n      <td>02/01/2013</td>\n      <td>06:10</td>\n      <td>Consumado</td>\n      <td>Roubo (art. 157)</td>\n      <td>TRANSEUNTE</td>\n      <td>Via pública</td>\n      <td>Vítima</td>\n      <td>F</td>\n      <td>41</td>\n    </tr>\n    <tr>\n      <th>2</th>\n      <td>S.PAULO</td>\n      <td>2013</td>\n      <td>04/01/2013</td>\n      <td>05:30</td>\n      <td>Consumado</td>\n      <td>Furto qualificado (art. 155, §4o.)</td>\n      <td>OUTROS</td>\n      <td>Terminal/Estação</td>\n      <td>Vítima</td>\n      <td>M</td>\n      <td>29</td>\n    </tr>\n    <tr>\n      <th>3</th>\n      <td>S.PAULO</td>\n      <td>2013</td>\n      <td>06/01/2013</td>\n      <td>12:05</td>\n      <td>Consumado</td>\n      <td>Furto (art. 155)</td>\n      <td>OUTROS</td>\n      <td>Terminal/Estação</td>\n      <td>Vítima</td>\n      <td>M</td>\n      <td>39</td>\n    </tr>\n    <tr>\n      <th>4</th>\n      <td>S.PAULO</td>\n      <td>2013</td>\n      <td>07/01/2013</td>\n      <td>05:50</td>\n      <td>Consumado</td>\n      <td>Roubo (art. 157)</td>\n      <td>OUTROS</td>\n      <td>Terminal/Estação</td>\n      <td>Vítima</td>\n      <td>F</td>\n      <td>34</td>\n    </tr>\n  </tbody>\n</table>\n</div>",
      "text/plain": "                                     CIDADE  ANO_BO DATA_OCORRENCIA_BO  \\\n0  S.PAULO                                     2013         01/01/2013   \n1  S.PAULO                                     2013         02/01/2013   \n2  S.PAULO                                     2013         04/01/2013   \n3  S.PAULO                                     2013         06/01/2013   \n4  S.PAULO                                     2013         07/01/2013   \n\n  HORA_OCORRENCIA_BO FLAG_STATUS                             RUBRICA  \\\n0              06:20   Consumado                    Roubo (art. 157)   \n1              06:10   Consumado                    Roubo (art. 157)   \n2              05:30   Consumado  Furto qualificado (art. 155, §4o.)   \n3              12:05   Consumado                    Furto (art. 155)   \n4              05:50   Consumado                    Roubo (art. 157)   \n\n  DESCR_CONDUTA                           DESCR_TIPOLOCAL  \\\n0        OUTROS  Terminal/Estação                           \n1    TRANSEUNTE  Via pública                                \n2        OUTROS  Terminal/Estação                           \n3        OUTROS  Terminal/Estação                           \n4        OUTROS  Terminal/Estação                           \n\n      DESCR_TIPO_PESSOA SEXO_PESSOA IDADE_PESSOA  \n0  Vítima                         M           29  \n1  Vítima                         F           41  \n2  Vítima                         M           29  \n3  Vítima                         M           39  \n4  Vítima                         F           34  "
     },
     "execution_count": 6,
     "metadata": {},
     "output_type": "execute_result"
    }
   ],
   "source": [
    "# RESOLVI REMOVER TAMBÉM AS FEATURES 'DESDOBRAMENTO', \"COR_CUTIS\" E 'FLAG_VITIMA_FATAL' POR TER UM PERCENTUAL DE ELEMENTOS NULOS MUITO AUTO\n",
    "df.drop([\"DESDOBRAMENTO\", \"FLAG_VITIMA_FATAL\", \"COR_CUTIS\"], axis=1, inplace=True)\n",
    "df.head()"
   ]
  },
  {
   "cell_type": "code",
   "execution_count": 7,
   "metadata": {},
   "outputs": [
    {
     "name": "stdout",
     "output_type": "stream",
     "text": "Total de registros removidos: 109\n"
    }
   ],
   "source": [
    "# REMOVENDO REGISTROS COM A  FEATURE 'SEXO_PESSOA' IGUAIS A NULO\n",
    "total_registros = len(df)\n",
    "df.dropna(subset=['SEXO_PESSOA'], inplace=True)\n",
    "print('Total de registros removidos: {}'.format(total_registros - len(df)))"
   ]
  },
  {
   "cell_type": "code",
   "execution_count": 8,
   "metadata": {},
   "outputs": [
    {
     "data": {
      "text/html": "<div>\n<style scoped>\n    .dataframe tbody tr th:only-of-type {\n        vertical-align: middle;\n    }\n\n    .dataframe tbody tr th {\n        vertical-align: top;\n    }\n\n    .dataframe thead th {\n        text-align: right;\n    }\n</style>\n<table border=\"1\" class=\"dataframe\">\n  <thead>\n    <tr style=\"text-align: right;\">\n      <th></th>\n      <th>CIDADE</th>\n      <th>ANO_BO</th>\n      <th>DATA_OCORRENCIA_BO</th>\n      <th>HORA_OCORRENCIA_BO</th>\n      <th>FLAG_STATUS</th>\n      <th>RUBRICA</th>\n      <th>DESCR_CONDUTA</th>\n      <th>DESCR_TIPOLOCAL</th>\n      <th>DESCR_TIPO_PESSOA</th>\n      <th>SEXO_PESSOA</th>\n      <th>IDADE_PESSOA</th>\n    </tr>\n  </thead>\n  <tbody>\n    <tr>\n      <th>83049</th>\n      <td>S.PAULO</td>\n      <td>2016</td>\n      <td>01/05/2014</td>\n      <td>NaN</td>\n      <td>Consumado</td>\n      <td>Lesão corporal (art 129 § 9º)</td>\n      <td>NaN</td>\n      <td>Residência</td>\n      <td>Vítima</td>\n      <td>M</td>\n      <td>-1.0</td>\n    </tr>\n    <tr>\n      <th>341280</th>\n      <td>S.PAULO</td>\n      <td>2015</td>\n      <td>13/10/2015</td>\n      <td>19:50</td>\n      <td>Consumado</td>\n      <td>Roubo (art. 157)</td>\n      <td>ESTABELECIMENTO COMERCIAL</td>\n      <td>Comércio e serviços</td>\n      <td>Vítima</td>\n      <td>F</td>\n      <td>-40.0</td>\n    </tr>\n    <tr>\n      <th>542330</th>\n      <td>S.PAULO</td>\n      <td>2014</td>\n      <td>01/01/2014</td>\n      <td>15:00</td>\n      <td>Consumado</td>\n      <td>Estupro de vulneravel (art.217-A)</td>\n      <td>NaN</td>\n      <td>Residência</td>\n      <td>Criança</td>\n      <td>M</td>\n      <td>-1.0</td>\n    </tr>\n  </tbody>\n</table>\n</div>",
      "text/plain": "                                          CIDADE  ANO_BO DATA_OCORRENCIA_BO  \\\n83049   S.PAULO                                     2016         01/05/2014   \n341280  S.PAULO                                     2015         13/10/2015   \n542330  S.PAULO                                     2014         01/01/2014   \n\n       HORA_OCORRENCIA_BO FLAG_STATUS                            RUBRICA  \\\n83049                 NaN   Consumado      Lesão corporal (art 129 § 9º)   \n341280              19:50   Consumado                   Roubo (art. 157)   \n542330              15:00   Consumado  Estupro de vulneravel (art.217-A)   \n\n                    DESCR_CONDUTA                           DESCR_TIPOLOCAL  \\\n83049                         NaN  Residência                                 \n341280  ESTABELECIMENTO COMERCIAL  Comércio e serviços                        \n542330                        NaN  Residência                                 \n\n           DESCR_TIPO_PESSOA SEXO_PESSOA  IDADE_PESSOA  \n83049   Vítima                         M          -1.0  \n341280  Vítima                         F         -40.0  \n542330  Criança                        M          -1.0  "
     },
     "execution_count": 8,
     "metadata": {},
     "output_type": "execute_result"
    }
   ],
   "source": [
    "# TRABALHANDO COM A FEATURE 'IDADE_PESSOA'\n",
    "\n",
    "# TRANSFORMANDO 'IDADE_PESSOA' EM NUMÉRICO\n",
    "df[\"IDADE_PESSOA\"] = df[\"IDADE_PESSOA\"].apply(pd.to_numeric)\n",
    "\n",
    "# VERIFICANDO SE POSSUI PESSOAS COM IDADE NEGATIVA\n",
    "df[df[\"IDADE_PESSOA\"] < 0]"
   ]
  },
  {
   "cell_type": "code",
   "execution_count": 9,
   "metadata": {},
   "outputs": [
    {
     "data": {
      "text/plain": "86"
     },
     "execution_count": 9,
     "metadata": {},
     "output_type": "execute_result"
    }
   ],
   "source": [
    "# VERIFICANDO SE POSSUI PESSOAS COM IDADE MAIOR QUE 120 ANOS\n",
    "len(df[df[\"IDADE_PESSOA\"] > 120])"
   ]
  },
  {
   "cell_type": "code",
   "execution_count": 10,
   "metadata": {},
   "outputs": [],
   "source": [
    "# ARMAZENANDO INDEX DOS REGISTROS QUE POSSUEM 'PESSOA_IDADE' NEGATIVA\n",
    "drop_idx = df[df[\"IDADE_PESSOA\"] < 0].index\n",
    "\n",
    "# ARMAZENANDO INDEX DOS REGISTROS QUE POSSUEM 'PESSOA_IDADE' MAIORES QUE 120\n",
    "drop_idx = drop_idx.append(df[df[\"IDADE_PESSOA\"] > 120].index)"
   ]
  },
  {
   "cell_type": "code",
   "execution_count": 11,
   "metadata": {},
   "outputs": [],
   "source": [
    "# PREENCHIMENTO DE VALORES DA FEATURE 'IDADE_PESSOA' UTILIZANDO A MÉDIA DO ATRIBUTO\n",
    "\n",
    "# REMOVENDO REGISTROS COM VALORES DE 'IDADE_PESSOA' NEGATIVOS\n",
    "df.drop(drop_idx, inplace=True)\n",
    "\n",
    "# OBTENDO MÉDIA DOS VALORES NÃO NULOS E NÃO ZERADOS\n",
    "df_aux = df[df[\"IDADE_PESSOA\"] != 0]\n",
    "med = round(df_aux[\"IDADE_PESSOA\"].mean())\n",
    "\n",
    "# PREENCHENDO VALORES NULOS E ZERADOS DE 'IDADE_PESSOA'\n",
    "df[[\"IDADE_PESSOA\"]] = df[[\"IDADE_PESSOA\"]].fillna(value=med)\n",
    "df[[\"IDADE_PESSOA\"]] = df[[\"IDADE_PESSOA\"]].replace(0, med)"
   ]
  },
  {
   "cell_type": "code",
   "execution_count": 12,
   "metadata": {},
   "outputs": [
    {
     "data": {
      "text/plain": "CIDADE                 0.00\nANO_BO                 0.00\nDATA_OCORRENCIA_BO     0.00\nHORA_OCORRENCIA_BO    25.13\nFLAG_STATUS            0.00\nRUBRICA                0.00\nDESCR_CONDUTA         19.10\nDESCR_TIPOLOCAL        0.00\nDESCR_TIPO_PESSOA      0.00\nSEXO_PESSOA            0.00\nIDADE_PESSOA           0.00\ndtype: float64"
     },
     "execution_count": 12,
     "metadata": {},
     "output_type": "execute_result"
    }
   ],
   "source": [
    "# PRECENTUAL DE ELEMENTOS NULOS\n",
    "round(df.isnull().mean()*100,2)"
   ]
  },
  {
   "cell_type": "code",
   "execution_count": 13,
   "metadata": {},
   "outputs": [
    {
     "data": {
      "text/plain": "CIDADE                object\nANO_BO                 int64\nDATA_OCORRENCIA_BO    object\nHORA_OCORRENCIA_BO    object\nFLAG_STATUS           object\nRUBRICA               object\nDESCR_CONDUTA         object\nDESCR_TIPOLOCAL       object\nDESCR_TIPO_PESSOA     object\nSEXO_PESSOA           object\nIDADE_PESSOA           int64\ndtype: object"
     },
     "execution_count": 13,
     "metadata": {},
     "output_type": "execute_result"
    }
   ],
   "source": [
    "# CONVERSÃO DE DADOS DAS FEATURES 'ANO_BO' E 'IDADE_PESSOA' PARA INTEIRO\n",
    "df[\"ANO_BO\"].astype('int', copy=False)\n",
    "df[\"IDADE_PESSOA\"] = df[\"IDADE_PESSOA\"].astype('int')\n",
    "df.dtypes"
   ]
  },
  {
   "cell_type": "markdown",
   "metadata": {},
   "outputs": [],
   "source": [
    "### 4) **(60%)** Nos blocos seguintes construa análises que vão justificar suas conclusões."
   ]
  },
  {
   "cell_type": "markdown",
   "metadata": {},
   "outputs": [],
   "source": [
    "#### 4.1) **(20%)** Análise 1 -  Distribuição dos valores para cada uma das variáveis\n",
    "- Exemplo para variável contínua: se o conjunto de dados possui a variável \"idade\". Quantos % possui a idade entre 0 e 30 anos? 31 a 59? 60+?\n",
    "\n",
    "- Exemplo para variável discreta: se o conjunto de dados possui a variável \"gênero\", quantos % do conjunto de dados é do sexo feminino, quantos % é masculino? Inclua outros gêneros se houver.\n"
   ]
  },
  {
   "cell_type": "code",
   "execution_count": 8,
   "metadata": {},
   "outputs": [],
   "source": [
    "# Implemente sua análise aqui. Use mais blocos se achar que ficará mais organizado."
   ]
  },
  {
   "cell_type": "markdown",
   "metadata": {},
   "outputs": [],
   "source": [
    "#### 4.2) **(20%)** Análise 2 - Dependência entre variáveis\n",
    "O aluno deve apresentar as mesmas distribuições para cada valor da variável dependente. Exemplo: Em um conjunto de dados em que as variáveis independentes são idade e sexo, e a variável dependente é renda. O aluno pode dividir a renda em 3 \"grupos\", <1000 reais, entre 1000 e 10000 reais e >1000 reais. Para cada um desses grupos, é necessário apresentar a distribuição das variáveis \"idade\" e \"sexo\".\n"
   ]
  },
  {
   "cell_type": "code",
   "execution_count": 9,
   "metadata": {},
   "outputs": [],
   "source": [
    "# Implemente sua análise aqui. Use mais blocos se achar que ficará mais organizado."
   ]
  },
  {
   "cell_type": "markdown",
   "metadata": {},
   "outputs": [],
   "source": [
    "#### 4.3) **(20%)** Análise 3 - Correlação entre variáveis\n",
    "\n",
    "O aluno deve apresentar 3 análises de correlação entre variáveis do conjunto de dados trabalhado. Exemplo: Em um conjunto de dados com as informações de temperatura e ocorrência de incêndios, eu gostaria de saber a incidência de correlação entre as duas variáveis.\n",
    "\n"
   ]
  },
  {
   "cell_type": "code",
   "execution_count": 10,
   "metadata": {},
   "outputs": [],
   "source": [
    "# Primeiro par de variáveis: Implemente sua análise aqui. Use mais blocos se achar que ficará mais organizado."
   ]
  },
  {
   "cell_type": "code",
   "execution_count": 11,
   "metadata": {},
   "outputs": [],
   "source": [
    "# Segundo par de variáveis: Implemente sua análise aqui. Use mais blocos se achar que ficará mais organizado."
   ]
  },
  {
   "cell_type": "code",
   "execution_count": 12,
   "metadata": {},
   "outputs": [],
   "source": [
    "# Terceiro par de variáveis: Implemente sua análise aqui. Use mais blocos se achar que ficará mais organizado."
   ]
  },
  {
   "cell_type": "markdown",
   "metadata": {},
   "outputs": [],
   "source": [
    "### 5) Conclusões **15%**"
   ]
  },
  {
   "cell_type": "markdown",
   "metadata": {},
   "outputs": [],
   "source": [
    "*O que é possível concluir com os dados que você analisou? Se fosse fazer uma apresentação, o que levaria como os maiores destaques e por que?*"
   ]
  },
  {
   "cell_type": "markdown",
   "metadata": {},
   "outputs": [],
   "source": []
  }
 ],
 "metadata": {
  "file_extension": ".py",
  "kernelspec": {
   "display_name": "Python 3",
   "language": "python",
   "name": "python3"
  },
  "language_info": {
   "codemirror_mode": {
    "name": "ipython",
    "version": 3
   },
   "file_extension": ".py",
   "mimetype": "text/x-python",
   "name": "python",
   "nbconvert_exporter": "python",
   "pygments_lexer": "ipython3",
   "version": "3.7.4"
  },
  "mimetype": "text/x-python",
  "name": "python",
  "npconvert_exporter": "python",
  "pygments_lexer": "ipython3",
  "version": 3
 },
 "nbformat": 4,
 "nbformat_minor": 2
}