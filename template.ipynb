{
 "cells": [
  {
   "cell_type": "markdown",
   "metadata": {},
   "outputs": [],
   "source": [
    "# Projeto #1 - Análise Exploratória de Dados\n",
    "\n",
    "Antes de começar, leia as [Instruções](https://github.com/thvmm/pos-ds-ia/tree/master/projeto_1#instru%C3%A7%C3%B5es) e os [Critérios de Avaliação](https://github.com/thvmm/pos-ds-ia/tree/master/projeto_1#crit%C3%A9rios-de-avalia%C3%A7%C3%A3o)\n"
   ]
  },
  {
   "cell_type": "markdown",
   "metadata": {},
   "outputs": [],
   "source": [
    "### 1) **(5%)** Qual a base escolhida e qual seu interesse nela?"
   ]
  },
  {
   "cell_type": "markdown",
   "metadata": {},
   "outputs": [],
   "source": [
    "Neste projeto, apresento uma análise exploratória de dados realizada no dataset de Registro Digital de Ocorrências da Polícia Militar do Estado de São Paulo nos anos 2013, 2014 e 2015.\n",
    "\n",
    "A escolha pelo dataset é dada devido ao crescente índice de criminalidade no Brasil. Tendo assim, o objetivo de obter uma mellhor visualização dessas informações, como por exemplo: quais crimes ocorreram com mais frequência em determinada cidade.\n",
    "\n",
    "A base está disponível em https://www.kaggle.com/inquisitivecrow/crime-data-in-brazil e contém informações de ocorrências nos anos de 2007 a 2016.\n",
    "\n",
    "**Obs:** A análise proposta trabalha apenas com parte da informação disponibilizada (dados de 2013, 2014 e 2015) pois, para trabalhar com a sua totalidade, seria necessário unir todos os arquivos, onde, boa parte não possui features julgadas como importantes para a análise (como os dados das pessoas envolvidas nas ocorrências)."
   ]
  },
  {
   "cell_type": "markdown",
   "metadata": {},
   "outputs": [],
   "source": [
    "### 2) **(5%)** Descrição básica do conjunto de dados escolhido pelo aluno (1 parágrafo).\n",
    "- Identificação da variável a serem trabalhadas\n",
    "- Classificação das variáveis como: contínua ou discreta.\n"
   ]
  },
  {
   "cell_type": "markdown",
   "metadata": {},
   "outputs": [],
   "source": [
    "As variáveis escolhidas para serem trabalhadas são:\n",
    "\n",
    "- CIDADE (categórica): cidade da ocorrência\n",
    "- ANO_BO (continua): ano do boletim de ocorrência\n",
    "- DATA_OCORRENCIA_BO (continua): data de ocorrência\n",
    "- HORA_OCORRENCIA_BO (continua): horário da ocorrência\n",
    "- FLAG_STATUS (categórica): informa se o crime foi consumado ou tentado\n",
    "- RUBRICA (categórica): ato da ocorrência (ex: roubo, furto, lesão corporal...)\n",
    "- DESCR_CONDUTA (categórica): descrição da conduta\n",
    "- DESCR_TIPOLOCAL (categórica): local da ocorrência\n",
    "- DESCR_TIPO_PESSOA (categórica): classificação de pessoa (ex: vítima)\n",
    "- SEXO_PESSOA (categórica): sexo da pessoa\n",
    "- IDADE_PESSOA (continua): idade da pessoa"
   ]
  },
  {
   "cell_type": "markdown",
   "metadata": {},
   "outputs": [],
   "source": [
    "### 3) **(15%)** Faça uma avaliação descritiva da sua base. Quantas linhas ela possui? Quais os tipos de dados? Quantas e quais features possuem?\n",
    "\n",
    "Cada variável escolhida pelo aluno precisa passar por ao menos 1 pré-processamento. O pré-processamento pode ser (mas não está limitado a):\n",
    "- Checagem se os valores estão dentro de um limite permitido ou razoável.\n",
    "- Tratamento de valores ausentes por eliminação ou substituição.\n",
    "- Conversão do tipo de dados.\n"
   ]
  },
  {
   "cell_type": "code",
   "execution_count": 1,
   "metadata": {},
   "outputs": [],
   "source": [
    "# Importação de bibliotecas\n",
    "import pandas as pd\n",
    "import matplotlib.pyplot as plt"
   ]
  },
  {
   "cell_type": "code",
   "execution_count": 2,
   "metadata": {},
   "outputs": [
    {
     "name": "stderr",
     "output_type": "stream",
     "text": "/home/pedro/anaconda3/envs/pos-ds-ia-37/lib/python3.7/site-packages/IPython/core/interactiveshell.py:3058: DtypeWarning: Columns (22,23,24,28,30) have mixed types. Specify dtype option on import or set low_memory=False.\n  interactivity=interactivity, compiler=compiler, result=result)\n"
    },
    {
     "data": {
      "text/html": "<div>\n<style scoped>\n    .dataframe tbody tr th:only-of-type {\n        vertical-align: middle;\n    }\n\n    .dataframe tbody tr th {\n        vertical-align: top;\n    }\n\n    .dataframe thead th {\n        text-align: right;\n    }\n</style>\n<table border=\"1\" class=\"dataframe\">\n  <thead>\n    <tr style=\"text-align: right;\">\n      <th></th>\n      <th>ID_DELEGACIA</th>\n      <th>NOME_DEPARTAMENTO</th>\n      <th>NOME_SECCIONAL</th>\n      <th>NOME_DELEGACIA</th>\n      <th>CIDADE</th>\n      <th>ANO_BO</th>\n      <th>NUM_BO</th>\n      <th>NOME_DEPARTAMENTO_CIRC</th>\n      <th>NOME_SECCIONAL_CIRC</th>\n      <th>NOME_DELEGACIA_CIRC</th>\n      <th>...</th>\n      <th>DESCR_SUBTIPOLOCAL</th>\n      <th>LOGRADOURO</th>\n      <th>NUMERO_LOGRADOURO</th>\n      <th>LATITUDE</th>\n      <th>LONGITUDE</th>\n      <th>DESCR_TIPO_PESSOA</th>\n      <th>FLAG_VITIMA_FATAL</th>\n      <th>SEXO_PESSOA</th>\n      <th>IDADE_PESSOA</th>\n      <th>COR_CUTIS</th>\n    </tr>\n  </thead>\n  <tbody>\n    <tr>\n      <th>0</th>\n      <td>10004</td>\n      <td>DIRD - DEPTO IDENT.REG.DIV</td>\n      <td>DIV.POL.PORTO/AERO/PROT.TURIS-DECADE</td>\n      <td>06º D.P. METROPOLITANO</td>\n      <td>S.PAULO</td>\n      <td>2013</td>\n      <td>3</td>\n      <td>DECAP</td>\n      <td>DEL.SEC.8º SAO MATEUS</td>\n      <td>44º D.P.  GUAIANAZES</td>\n      <td>...</td>\n      <td>Metrov. e ferroviário metrop.-acesso/escada/el...</td>\n      <td>ESTACAO GUAIANAZES - CPTM</td>\n      <td>0</td>\n      <td>-23.54398268</td>\n      <td>-46.4219843</td>\n      <td>Vítima</td>\n      <td>NaN</td>\n      <td>M</td>\n      <td>29</td>\n      <td>Branca</td>\n    </tr>\n    <tr>\n      <th>1</th>\n      <td>10004</td>\n      <td>DIRD - DEPTO IDENT.REG.DIV</td>\n      <td>DIV.POL.PORTO/AERO/PROT.TURIS-DECADE</td>\n      <td>06º D.P. METROPOLITANO</td>\n      <td>S.PAULO</td>\n      <td>2013</td>\n      <td>10</td>\n      <td>DECAP</td>\n      <td>DEL.SEC.3º OESTE</td>\n      <td>23º D.P.  PERDIZES</td>\n      <td>...</td>\n      <td>Via pública                                   ...</td>\n      <td>RUA JOAO RAMALHO</td>\n      <td>0</td>\n      <td>-23.54006897</td>\n      <td>-46.66791385</td>\n      <td>Vítima</td>\n      <td>NaN</td>\n      <td>F</td>\n      <td>41</td>\n      <td>Branca</td>\n    </tr>\n    <tr>\n      <th>2</th>\n      <td>10004</td>\n      <td>DIRD - DEPTO IDENT.REG.DIV</td>\n      <td>DIV.POL.PORTO/AERO/PROT.TURIS-DECADE</td>\n      <td>06º D.P. METROPOLITANO</td>\n      <td>S.PAULO</td>\n      <td>2013</td>\n      <td>21</td>\n      <td>DECAP</td>\n      <td>DEL.SEC.7º ITAQUERA</td>\n      <td>64º D.P. CID.AE CARVALHO</td>\n      <td>...</td>\n      <td>Metrov. e ferroviário metrop.-outros          ...</td>\n      <td>AV DO CONTORNO</td>\n      <td>60</td>\n      <td>-23.53967047</td>\n      <td>-46.46252708</td>\n      <td>Vítima</td>\n      <td>NaN</td>\n      <td>M</td>\n      <td>29</td>\n      <td>Parda</td>\n    </tr>\n    <tr>\n      <th>3</th>\n      <td>10004</td>\n      <td>DIRD - DEPTO IDENT.REG.DIV</td>\n      <td>DIV.POL.PORTO/AERO/PROT.TURIS-DECADE</td>\n      <td>06º D.P. METROPOLITANO</td>\n      <td>S.PAULO</td>\n      <td>2013</td>\n      <td>37</td>\n      <td>DECAP</td>\n      <td>DEL.SEC.3º OESTE</td>\n      <td>23º D.P.  PERDIZES</td>\n      <td>...</td>\n      <td>Metrov. e ferroviário metrop.-acesso/escada/el...</td>\n      <td>ESTACAO BARRA FUNDA - METRO</td>\n      <td>0</td>\n      <td>-23.53347685</td>\n      <td>-46.65267016</td>\n      <td>Vítima</td>\n      <td>NaN</td>\n      <td>M</td>\n      <td>39</td>\n      <td>Branca</td>\n    </tr>\n    <tr>\n      <th>4</th>\n      <td>10004</td>\n      <td>DIRD - DEPTO IDENT.REG.DIV</td>\n      <td>DIV.POL.PORTO/AERO/PROT.TURIS-DECADE</td>\n      <td>06º D.P. METROPOLITANO</td>\n      <td>S.PAULO</td>\n      <td>2013</td>\n      <td>43</td>\n      <td>DECAP</td>\n      <td>DEL.SEC.1º CENTRO</td>\n      <td>02º D.P. BOM RETIRO</td>\n      <td>...</td>\n      <td>Metrov. e ferroviário metrop.-acesso/escada/el...</td>\n      <td>ESTACAO LUZ/ESCADA ROLANTE</td>\n      <td>999</td>\n      <td>-23.53498802</td>\n      <td>-46.63984656</td>\n      <td>Vítima</td>\n      <td>NaN</td>\n      <td>F</td>\n      <td>34</td>\n      <td>Branca</td>\n    </tr>\n  </tbody>\n</table>\n<p>5 rows × 30 columns</p>\n</div>",
      "text/plain": "   ID_DELEGACIA                         NOME_DEPARTAMENTO  \\\n0         10004  DIRD - DEPTO IDENT.REG.DIV                 \n1         10004  DIRD - DEPTO IDENT.REG.DIV                 \n2         10004  DIRD - DEPTO IDENT.REG.DIV                 \n3         10004  DIRD - DEPTO IDENT.REG.DIV                 \n4         10004  DIRD - DEPTO IDENT.REG.DIV                 \n\n                             NOME_SECCIONAL                  NOME_DELEGACIA  \\\n0  DIV.POL.PORTO/AERO/PROT.TURIS-DECADE      06º D.P. METROPOLITANO           \n1  DIV.POL.PORTO/AERO/PROT.TURIS-DECADE      06º D.P. METROPOLITANO           \n2  DIV.POL.PORTO/AERO/PROT.TURIS-DECADE      06º D.P. METROPOLITANO           \n3  DIV.POL.PORTO/AERO/PROT.TURIS-DECADE      06º D.P. METROPOLITANO           \n4  DIV.POL.PORTO/AERO/PROT.TURIS-DECADE      06º D.P. METROPOLITANO           \n\n                                     CIDADE  ANO_BO  NUM_BO  \\\n0  S.PAULO                                     2013       3   \n1  S.PAULO                                     2013      10   \n2  S.PAULO                                     2013      21   \n3  S.PAULO                                     2013      37   \n4  S.PAULO                                     2013      43   \n\n                     NOME_DEPARTAMENTO_CIRC  \\\n0  DECAP                                      \n1  DECAP                                      \n2  DECAP                                      \n3  DECAP                                      \n4  DECAP                                      \n\n                        NOME_SECCIONAL_CIRC             NOME_DELEGACIA_CIRC  \\\n0  DEL.SEC.8º SAO MATEUS                     44º D.P.  GUAIANAZES             \n1  DEL.SEC.3º OESTE                          23º D.P.  PERDIZES               \n2  DEL.SEC.7º ITAQUERA                       64º D.P. CID.AE CARVALHO         \n3  DEL.SEC.3º OESTE                          23º D.P.  PERDIZES               \n4  DEL.SEC.1º CENTRO                         02º D.P. BOM RETIRO              \n\n   ...                                 DESCR_SUBTIPOLOCAL  \\\n0  ...  Metrov. e ferroviário metrop.-acesso/escada/el...   \n1  ...  Via pública                                   ...   \n2  ...  Metrov. e ferroviário metrop.-outros          ...   \n3  ...  Metrov. e ferroviário metrop.-acesso/escada/el...   \n4  ...  Metrov. e ferroviário metrop.-acesso/escada/el...   \n\n                                 LOGRADOURO NUMERO_LOGRADOURO      LATITUDE  \\\n0  ESTACAO GUAIANAZES - CPTM                                0  -23.54398268   \n1  RUA JOAO RAMALHO                                         0  -23.54006897   \n2  AV DO CONTORNO                                          60  -23.53967047   \n3  ESTACAO BARRA FUNDA - METRO                              0  -23.53347685   \n4  ESTACAO LUZ/ESCADA ROLANTE                             999  -23.53498802   \n\n      LONGITUDE     DESCR_TIPO_PESSOA FLAG_VITIMA_FATAL SEXO_PESSOA  \\\n0   -46.4219843  Vítima                             NaN           M   \n1  -46.66791385  Vítima                             NaN           F   \n2  -46.46252708  Vítima                             NaN           M   \n3  -46.65267016  Vítima                             NaN           M   \n4  -46.63984656  Vítima                             NaN           F   \n\n  IDADE_PESSOA             COR_CUTIS  \n0           29  Branca                \n1           41  Branca                \n2           29  Parda                 \n3           39  Branca                \n4           34  Branca                \n\n[5 rows x 30 columns]"
     },
     "execution_count": 2,
     "metadata": {},
     "output_type": "execute_result"
    }
   ],
   "source": [
    "# Leitura do dataset\n",
    "df = pd.read_csv(\"RDO_2.csv\")\n",
    "df.drop(df.columns[df.columns.str.contains(\"unnamed\", case=False)], axis=1, inplace=True)\n",
    "df.head()"
   ]
  },
  {
   "cell_type": "code",
   "execution_count": 3,
   "metadata": {},
   "outputs": [
    {
     "name": "stdout",
     "output_type": "stream",
     "text": "Quantidade de registros do DataFrame: 1048575\n"
    },
    {
     "data": {
      "text/plain": "ID_DELEGACIA                 int64\nNOME_DEPARTAMENTO           object\nNOME_SECCIONAL              object\nNOME_DELEGACIA              object\nCIDADE                      object\nANO_BO                       int64\nNUM_BO                       int64\nNOME_DEPARTAMENTO_CIRC      object\nNOME_SECCIONAL_CIRC         object\nNOME_DELEGACIA_CIRC         object\nNOME_MUNICIPIO_CIRC         object\nDESCR_TIPO_BO               object\nDATA_OCORRENCIA_BO          object\nHORA_OCORRENCIA_BO          object\nDATAHORA_COMUNICACAO_BO    float64\nFLAG_STATUS                 object\nRUBRICA                     object\nDESCR_CONDUTA               object\nDESDOBRAMENTO               object\nDESCR_TIPOLOCAL             object\nDESCR_SUBTIPOLOCAL          object\nLOGRADOURO                  object\nNUMERO_LOGRADOURO           object\nLATITUDE                    object\nLONGITUDE                   object\nDESCR_TIPO_PESSOA           object\nFLAG_VITIMA_FATAL           object\nSEXO_PESSOA                 object\nIDADE_PESSOA                object\nCOR_CUTIS                   object\ndtype: object"
     },
     "execution_count": 3,
     "metadata": {},
     "output_type": "execute_result"
    }
   ],
   "source": [
    "# OBTENDO A QUANTIDADE DE REGISTROS E TIPOS DE DADOS\n",
    "print(\"Quantidade de registros do DataFrame: {}\".format(len(df)))\n",
    "df.dtypes"
   ]
  },
  {
   "cell_type": "markdown",
   "metadata": {},
   "outputs": [],
   "source": [
    "### **QUANTIDADE DE REGISTROS**\n",
    "\n",
    "A base possui um total de 1.048.575 registros\n",
    "\n",
    "\n",
    "### ** FEATURES **\n",
    "\n",
    "A base possui um total de 30 features, onde:\n",
    "\n",
    "* **ID_DELEGACIA** - inteiro\n",
    "* **NOME_DEPARTAMENTO** - objeto\n",
    "* **NOME_SECCIONAL** - objeto\n",
    "* **NOME_DELEGACIA** - objeto\n",
    "* **CIDADE** - objeto\n",
    "* **ANO_BO** - inteiro\n",
    "* **NUM_BO** - inteiro\n",
    "* **NOME_DEPARTAMENTO_CIRC** - objeto\n",
    "* **NOME_SECCIONAL_CIRC** - objeto\n",
    "* **NOME_DELEGACIA_CIRC** - objeto\n",
    "* **NOME_MUNICIPIO_CIRC** - objeto\n",
    "* **DESCR_TIPO_BO** - objeto\n",
    "* **DATA_OCORRENCIA_BO** - objeto\n",
    "* **HORA_OCORRENCIA_BO** - objeto\n",
    "* **DATAHORA_COMUNICACAO_BO** - ponto flutuante\n",
    "* **FLAG_STATUS** - objeto\n",
    "* **RUBRICA** - objeto\n",
    "* **DESCR_CONDUTA** - objeto\n",
    "* **DESDOBRAMENTO** - objeto\n",
    "* **DESCR_TIPOLOCAL** - objeto\n",
    "* **DESCR_SUBTIPOLOCAL** - objeto\n",
    "* **LOGRADOURO** - objeto\n",
    "* **NUMERO_LOGRADOURO** - objeto\n",
    "* **LATITUDE** - objeto\n",
    "* **LONGITUDE** - objeto\n",
    "* **DESCR_TIPO_PESSOA** - objeto\n",
    "* **FLAG_VITIMA_FATAL** - objeto\n",
    "* **SEXO_PESSOA** - objeto\n",
    "* **IDADE_PESSOA** - objeto\n",
    "* **COR_CUTIS** - objeto"
   ]
  },
  {
   "cell_type": "markdown",
   "metadata": {},
   "outputs": [],
   "source": [
    "## **Limpeza de dados**"
   ]
  },
  {
   "cell_type": "code",
   "execution_count": 4,
   "metadata": {},
   "outputs": [
    {
     "data": {
      "text/html": "<div>\n<style scoped>\n    .dataframe tbody tr th:only-of-type {\n        vertical-align: middle;\n    }\n\n    .dataframe tbody tr th {\n        vertical-align: top;\n    }\n\n    .dataframe thead th {\n        text-align: right;\n    }\n</style>\n<table border=\"1\" class=\"dataframe\">\n  <thead>\n    <tr style=\"text-align: right;\">\n      <th></th>\n      <th>CIDADE</th>\n      <th>ANO_BO</th>\n      <th>HORA_OCORRENCIA_BO</th>\n      <th>FLAG_STATUS</th>\n      <th>RUBRICA</th>\n      <th>DESCR_CONDUTA</th>\n      <th>DESDOBRAMENTO</th>\n      <th>DESCR_TIPOLOCAL</th>\n      <th>DESCR_TIPO_PESSOA</th>\n      <th>FLAG_VITIMA_FATAL</th>\n      <th>SEXO_PESSOA</th>\n      <th>IDADE_PESSOA</th>\n      <th>COR_CUTIS</th>\n    </tr>\n  </thead>\n  <tbody>\n    <tr>\n      <th>0</th>\n      <td>S.PAULO</td>\n      <td>2013</td>\n      <td>06:20</td>\n      <td>Consumado</td>\n      <td>Roubo (art. 157)</td>\n      <td>OUTROS</td>\n      <td>NaN</td>\n      <td>Terminal/Estação</td>\n      <td>Vítima</td>\n      <td>NaN</td>\n      <td>M</td>\n      <td>29</td>\n      <td>Branca</td>\n    </tr>\n    <tr>\n      <th>1</th>\n      <td>S.PAULO</td>\n      <td>2013</td>\n      <td>06:10</td>\n      <td>Consumado</td>\n      <td>Roubo (art. 157)</td>\n      <td>TRANSEUNTE</td>\n      <td>NaN</td>\n      <td>Via pública</td>\n      <td>Vítima</td>\n      <td>NaN</td>\n      <td>F</td>\n      <td>41</td>\n      <td>Branca</td>\n    </tr>\n    <tr>\n      <th>2</th>\n      <td>S.PAULO</td>\n      <td>2013</td>\n      <td>05:30</td>\n      <td>Consumado</td>\n      <td>Furto qualificado (art. 155, §4o.)</td>\n      <td>OUTROS</td>\n      <td>NaN</td>\n      <td>Terminal/Estação</td>\n      <td>Vítima</td>\n      <td>NaN</td>\n      <td>M</td>\n      <td>29</td>\n      <td>Parda</td>\n    </tr>\n    <tr>\n      <th>3</th>\n      <td>S.PAULO</td>\n      <td>2013</td>\n      <td>12:05</td>\n      <td>Consumado</td>\n      <td>Furto (art. 155)</td>\n      <td>OUTROS</td>\n      <td>NaN</td>\n      <td>Terminal/Estação</td>\n      <td>Vítima</td>\n      <td>NaN</td>\n      <td>M</td>\n      <td>39</td>\n      <td>Branca</td>\n    </tr>\n    <tr>\n      <th>4</th>\n      <td>S.PAULO</td>\n      <td>2013</td>\n      <td>05:50</td>\n      <td>Consumado</td>\n      <td>Roubo (art. 157)</td>\n      <td>OUTROS</td>\n      <td>NaN</td>\n      <td>Terminal/Estação</td>\n      <td>Vítima</td>\n      <td>NaN</td>\n      <td>F</td>\n      <td>34</td>\n      <td>Branca</td>\n    </tr>\n  </tbody>\n</table>\n</div>",
      "text/plain": "                                     CIDADE  ANO_BO HORA_OCORRENCIA_BO  \\\n0  S.PAULO                                     2013              06:20   \n1  S.PAULO                                     2013              06:10   \n2  S.PAULO                                     2013              05:30   \n3  S.PAULO                                     2013              12:05   \n4  S.PAULO                                     2013              05:50   \n\n  FLAG_STATUS                             RUBRICA DESCR_CONDUTA DESDOBRAMENTO  \\\n0   Consumado                    Roubo (art. 157)        OUTROS           NaN   \n1   Consumado                    Roubo (art. 157)    TRANSEUNTE           NaN   \n2   Consumado  Furto qualificado (art. 155, §4o.)        OUTROS           NaN   \n3   Consumado                    Furto (art. 155)        OUTROS           NaN   \n4   Consumado                    Roubo (art. 157)        OUTROS           NaN   \n\n                            DESCR_TIPOLOCAL     DESCR_TIPO_PESSOA  \\\n0  Terminal/Estação                          Vítima                 \n1  Via pública                               Vítima                 \n2  Terminal/Estação                          Vítima                 \n3  Terminal/Estação                          Vítima                 \n4  Terminal/Estação                          Vítima                 \n\n  FLAG_VITIMA_FATAL SEXO_PESSOA IDADE_PESSOA             COR_CUTIS  \n0               NaN           M           29  Branca                \n1               NaN           F           41  Branca                \n2               NaN           M           29  Parda                 \n3               NaN           M           39  Branca                \n4               NaN           F           34  Branca                "
     },
     "execution_count": 4,
     "metadata": {},
     "output_type": "execute_result"
    }
   ],
   "source": [
    "# REMOVENDO FEATURES QUE NÃO SERÃO UTILIZADAS NA ANÁLISE\n",
    "df.drop([\"ID_DELEGACIA\", \"NOME_DEPARTAMENTO\", \"NOME_SECCIONAL\", \"NOME_DELEGACIA\", \"NUM_BO\", \"NOME_DEPARTAMENTO_CIRC\", \"NOME_SECCIONAL_CIRC\", \"NOME_DELEGACIA_CIRC\", \"NOME_MUNICIPIO_CIRC\", \"DESCR_TIPO_BO\", \"DATA_OCORRENCIA_BO\", \"DATAHORA_COMUNICACAO_BO\", \"DESCR_SUBTIPOLOCAL\", \"LOGRADOURO\", \"NUMERO_LOGRADOURO\", \"LATITUDE\", \"LONGITUDE\"], axis=1, inplace=True)\n",
    "df.head()"
   ]
  },
  {
   "cell_type": "code",
   "execution_count": 5,
   "metadata": {},
   "outputs": [
    {
     "data": {
      "text/plain": "CIDADE                 0.00\nANO_BO                 0.00\nHORA_OCORRENCIA_BO    25.14\nFLAG_STATUS            0.00\nRUBRICA                0.00\nDESCR_CONDUTA         19.10\nDESDOBRAMENTO         93.39\nDESCR_TIPOLOCAL        0.00\nDESCR_TIPO_PESSOA      0.01\nFLAG_VITIMA_FATAL     96.31\nSEXO_PESSOA            0.01\nIDADE_PESSOA           0.96\nCOR_CUTIS             23.62\ndtype: float64"
     },
     "execution_count": 5,
     "metadata": {},
     "output_type": "execute_result"
    }
   ],
   "source": [
    "# PRECENTUAL DE ELEMENTOS NULOS\n",
    "round(df.isnull().mean()*100,2)"
   ]
  },
  {
   "cell_type": "code",
   "execution_count": 6,
   "metadata": {},
   "outputs": [
    {
     "data": {
      "text/html": "<div>\n<style scoped>\n    .dataframe tbody tr th:only-of-type {\n        vertical-align: middle;\n    }\n\n    .dataframe tbody tr th {\n        vertical-align: top;\n    }\n\n    .dataframe thead th {\n        text-align: right;\n    }\n</style>\n<table border=\"1\" class=\"dataframe\">\n  <thead>\n    <tr style=\"text-align: right;\">\n      <th></th>\n      <th>CIDADE</th>\n      <th>ANO_BO</th>\n      <th>HORA_OCORRENCIA_BO</th>\n      <th>FLAG_STATUS</th>\n      <th>RUBRICA</th>\n      <th>DESCR_CONDUTA</th>\n      <th>DESCR_TIPOLOCAL</th>\n      <th>DESCR_TIPO_PESSOA</th>\n      <th>SEXO_PESSOA</th>\n      <th>IDADE_PESSOA</th>\n    </tr>\n  </thead>\n  <tbody>\n    <tr>\n      <th>0</th>\n      <td>S.PAULO</td>\n      <td>2013</td>\n      <td>06:20</td>\n      <td>Consumado</td>\n      <td>Roubo (art. 157)</td>\n      <td>OUTROS</td>\n      <td>Terminal/Estação</td>\n      <td>Vítima</td>\n      <td>M</td>\n      <td>29</td>\n    </tr>\n    <tr>\n      <th>1</th>\n      <td>S.PAULO</td>\n      <td>2013</td>\n      <td>06:10</td>\n      <td>Consumado</td>\n      <td>Roubo (art. 157)</td>\n      <td>TRANSEUNTE</td>\n      <td>Via pública</td>\n      <td>Vítima</td>\n      <td>F</td>\n      <td>41</td>\n    </tr>\n    <tr>\n      <th>2</th>\n      <td>S.PAULO</td>\n      <td>2013</td>\n      <td>05:30</td>\n      <td>Consumado</td>\n      <td>Furto qualificado (art. 155, §4o.)</td>\n      <td>OUTROS</td>\n      <td>Terminal/Estação</td>\n      <td>Vítima</td>\n      <td>M</td>\n      <td>29</td>\n    </tr>\n    <tr>\n      <th>3</th>\n      <td>S.PAULO</td>\n      <td>2013</td>\n      <td>12:05</td>\n      <td>Consumado</td>\n      <td>Furto (art. 155)</td>\n      <td>OUTROS</td>\n      <td>Terminal/Estação</td>\n      <td>Vítima</td>\n      <td>M</td>\n      <td>39</td>\n    </tr>\n    <tr>\n      <th>4</th>\n      <td>S.PAULO</td>\n      <td>2013</td>\n      <td>05:50</td>\n      <td>Consumado</td>\n      <td>Roubo (art. 157)</td>\n      <td>OUTROS</td>\n      <td>Terminal/Estação</td>\n      <td>Vítima</td>\n      <td>F</td>\n      <td>34</td>\n    </tr>\n  </tbody>\n</table>\n</div>",
      "text/plain": "                                     CIDADE  ANO_BO HORA_OCORRENCIA_BO  \\\n0  S.PAULO                                     2013              06:20   \n1  S.PAULO                                     2013              06:10   \n2  S.PAULO                                     2013              05:30   \n3  S.PAULO                                     2013              12:05   \n4  S.PAULO                                     2013              05:50   \n\n  FLAG_STATUS                             RUBRICA DESCR_CONDUTA  \\\n0   Consumado                    Roubo (art. 157)        OUTROS   \n1   Consumado                    Roubo (art. 157)    TRANSEUNTE   \n2   Consumado  Furto qualificado (art. 155, §4o.)        OUTROS   \n3   Consumado                    Furto (art. 155)        OUTROS   \n4   Consumado                    Roubo (art. 157)        OUTROS   \n\n                            DESCR_TIPOLOCAL     DESCR_TIPO_PESSOA SEXO_PESSOA  \\\n0  Terminal/Estação                          Vítima                         M   \n1  Via pública                               Vítima                         F   \n2  Terminal/Estação                          Vítima                         M   \n3  Terminal/Estação                          Vítima                         M   \n4  Terminal/Estação                          Vítima                         F   \n\n  IDADE_PESSOA  \n0           29  \n1           41  \n2           29  \n3           39  \n4           34  "
     },
     "execution_count": 6,
     "metadata": {},
     "output_type": "execute_result"
    }
   ],
   "source": [
    "# RESOLVI REMOVER TAMBÉM AS FEATURES 'DESDOBRAMENTO', \"COR_CUTIS\" E 'FLAG_VITIMA_FATAL' POR TEREM UM PERCENTUAL DE ELEMENTOS NULOS ELEVADO\n",
    "df.drop([\"DESDOBRAMENTO\", \"FLAG_VITIMA_FATAL\", \"COR_CUTIS\"], axis=1, inplace=True)\n",
    "df.head()"
   ]
  },
  {
   "cell_type": "markdown",
   "metadata": {},
   "outputs": [],
   "source": [
    "**FEATURE 'ANO_BO'**"
   ]
  },
  {
   "cell_type": "code",
   "execution_count": 7,
   "metadata": {},
   "outputs": [
    {
     "data": {
      "text/plain": "2014    387385\n2013    332657\n2015    324949\n2016      3491\n2017        93\nName: ANO_BO, dtype: int64"
     },
     "execution_count": 7,
     "metadata": {},
     "output_type": "execute_result"
    }
   ],
   "source": [
    "# CHECAGEM DE VALORES\n",
    "df[\"ANO_BO\"].value_counts()"
   ]
  },
  {
   "cell_type": "code",
   "execution_count": 8,
   "metadata": {},
   "outputs": [],
   "source": [
    "# REMOVENDO DADOS DE 2016 E 2017 POIS A PROPOSTA É TRABALHAR APENAS COM OS ANOS 2013, 2014 E 2015\n",
    "\n",
    "# ARMAZENANDO INDEX DOS REGISTROS DE 2016\n",
    "drop_idx = df[df[\"ANO_BO\"] == 2016].index\n",
    "\n",
    "# ARMAZENANDO INDEX DOS REGISTROS DE 2017\n",
    "drop_idx = drop_idx.append(df[df[\"ANO_BO\"] == 2017].index)\n",
    "\n",
    "# REMOVENDO REGISTROS\n",
    "df.drop(drop_idx, inplace=True)"
   ]
  },
  {
   "cell_type": "code",
   "execution_count": 9,
   "metadata": {},
   "outputs": [
    {
     "data": {
      "text/plain": "2014    387385\n2013    332657\n2015    324949\nName: ANO_BO, dtype: int64"
     },
     "execution_count": 9,
     "metadata": {},
     "output_type": "execute_result"
    }
   ],
   "source": [
    "# NOVA CHECAGEM DE VALORES\n",
    "df[\"ANO_BO\"].value_counts()"
   ]
  },
  {
   "cell_type": "markdown",
   "metadata": {},
   "outputs": [],
   "source": [
    "**FEATURE 'HORA_OCORRENCIA_BO'**"
   ]
  },
  {
   "cell_type": "code",
   "execution_count": 10,
   "metadata": {},
   "outputs": [
    {
     "data": {
      "text/plain": "NaN      262231\n20:00     18312\n21:00     18072\n22:00     16881\n19:00     16425\n          ...  \n06:01        13\n04:02        12\n04:21        10\n05:09         6\n15H50         2\nName: HORA_OCORRENCIA_BO, Length: 1442, dtype: int64"
     },
     "execution_count": 10,
     "metadata": {},
     "output_type": "execute_result"
    }
   ],
   "source": [
    "# CHECAGEM DE VALORES\n",
    "df[\"HORA_OCORRENCIA_BO\"].value_counts(dropna=False)"
   ]
  },
  {
   "cell_type": "markdown",
   "metadata": {},
   "outputs": [],
   "source": [
    "**FEATURE 'FLAG_STATUS'**"
   ]
  },
  {
   "cell_type": "code",
   "execution_count": 11,
   "metadata": {},
   "outputs": [
    {
     "data": {
      "text/plain": "Consumado    1038394\nTentado         6597\nName: FLAG_STATUS, dtype: int64"
     },
     "execution_count": 11,
     "metadata": {},
     "output_type": "execute_result"
    }
   ],
   "source": [
    "# CHECAGEM DE VALORES\n",
    "df[\"FLAG_STATUS\"].value_counts()"
   ]
  },
  {
   "cell_type": "markdown",
   "metadata": {},
   "outputs": [],
   "source": [
    "**FEATURE 'RUBRICA'**"
   ]
  },
  {
   "cell_type": "code",
   "execution_count": 12,
   "metadata": {},
   "outputs": [
    {
     "data": {
      "text/plain": "Roubo (art. 157)                                                          472850\nFurto (art. 155)                                                          285428\nLesão corporal (art. 129)                                                  83212\nFurto qualificado (art. 155, §4o.)                                         78180\nLesão corporal culposa na direção de veículo automotor (Art. 303)          67969\nLesão corporal (art 129 § 9º)                                              20344\nHomicídio simples (art. 121)                                                8952\nA.I.-Roubo (art. 157)                                                       7703\nA.I.-Lesão corporal (art. 129)                                              4287\nEstupro de vulneravel (art.217-A)                                           3905\nLesão corporal culposa (art. 129. §6o.)                                     2956\nEstupro (art.213)                                                           2141\nHomicídio culposo na direção de veículo automotor (Art. 302)                1828\nHomicídio qualificado (art. 121, §2o.)                                      1499\nA.I.-Furto (art. 155)                                                       1152\nA.I.-Furto qualificado (art. 155, §4o.)                                      681\nA.I.-Estupro de vulneravel (art.217-A)                                       438\nLesão corporal de natureza GRAVE (art. 129, §1o.)                            349\nA.I.-Lesão corporal culposa na direção de veículo automotor (Art. 303)       314\nA.I.-Homicídio simples (art. 121)                                            174\nA.I.-Lesão corporal (art 129 § 9º)                                           144\nHomicídio culposo (art. 121, §3o.)                                           128\nFurto de coisa comum (art. 156)                                              102\nA.I.-Estupro (art.213)                                                        63\nLesão corporal  de natureza 'GRAVÍSSIMA' (art. 129, §2o.)                     47\nA.I.-Homicídio qualificado (art. 121, §2o.)                                   44\nLesão corporal seguida de morte (art. 129, §3o.)                              38\nA.I.-Lesão corporal culposa (art. 129. §6o.)                                  29\nA.I.-Homicídio culposo na direção de veículo automotor (Art. 302)             17\nA.I.-Lesão corporal de natureza GRAVE (art. 129, §1o.)                        12\nA.I.-Furto de coisa comum (art. 156)                                           2\nA.I.-Homicídio culposo (art. 121, §3o.)                                        2\nA.I.-Lesão corporal  de natureza 'GRAVÍSSIMA' (art. 129, §2o.)                 1\nName: RUBRICA, dtype: int64"
     },
     "execution_count": 12,
     "metadata": {},
     "output_type": "execute_result"
    }
   ],
   "source": [
    "# CHECAGEM DE VALORES\n",
    "df[\"RUBRICA\"].value_counts()"
   ]
  },
  {
   "cell_type": "markdown",
   "metadata": {},
   "outputs": [],
   "source": [
    "**FEATURE 'DESCR_CONDUTA'**"
   ]
  },
  {
   "cell_type": "code",
   "execution_count": 13,
   "metadata": {},
   "outputs": [
    {
     "data": {
      "text/plain": "TRANSEUNTE                      274319\nVEICULO                         216690\nNaN                             199171\nOUTROS                           88194\nINTERIOR DE VEICULO              86647\nINTERIOR TRANSPORTE COLETIVO     47979\nRESIDENCIA                       43447\nINTERIOR ESTABELECIMENTO         37465\nESTABELECIMENTO COMERCIAL        22108\nCARGA                            15851\nESTABELECIMENTO BANCARIO          4541\nESTABELECIMENTO-OUTROS            4243\nCOLETIVO                          1657\nESTABELECIMENTO ENSINO            1135\nCONDOMINIO RESIDENCIAL            1072\nSaidinha de Banco                  234\nCONDOMINIO COMERCIAL               143\nCaixa Eletrônico                    78\nJOALHERIA                           17\nName: DESCR_CONDUTA, dtype: int64"
     },
     "execution_count": 13,
     "metadata": {},
     "output_type": "execute_result"
    }
   ],
   "source": [
    "# CHECAGEM DE VALORES\n",
    "df[\"DESCR_CONDUTA\"].value_counts(dropna=False)"
   ]
  },
  {
   "cell_type": "markdown",
   "metadata": {},
   "outputs": [],
   "source": [
    "**FEATURE 'DESCR_TIPOLOCAL'**"
   ]
  },
  {
   "cell_type": "code",
   "execution_count": 14,
   "metadata": {},
   "outputs": [
    {
     "data": {
      "text/plain": "Via pública                                 619234\nOutros                                      161769\nResidência                                  112323\nComércio e serviços                          55518\nTerminal/Estação                             18334\nEstabelecimento bancário                     14441\nRestaurante e afins                          12150\nLazer e recreação                             7731\nEstabelecimento de ensino                     7580\nSaúde                                         5505\nCondominio Residencial                        4522\nShopping Center                               3247\nCentro Comerc./Empresarial                    3023\nRodovia/Estrada                               2945\nHospedagem                                    2826\nArea não ocupada                              2752\nEscritório                                    2050\nEntidade assistencial                         2044\nRepartição Pública                            1776\nCondominio Comercial                          1302\nTemplo e afins                                 974\nServiços e bens públicos                       819\nEstabelecimento industrial                     671\nEstabelecimento prisional                      655\nFavela                                         279\nEstrada de ferro                               200\nUnidade rural                                  140\nLocal clandestino/ilegal                       108\nSindicato                                       64\nCarro Forte                                      9\nName: DESCR_TIPOLOCAL, dtype: int64"
     },
     "execution_count": 14,
     "metadata": {},
     "output_type": "execute_result"
    }
   ],
   "source": [
    "# CHECAGEM DE VALORES\n",
    "df[\"DESCR_TIPOLOCAL\"].value_counts()"
   ]
  },
  {
   "cell_type": "markdown",
   "metadata": {},
   "outputs": [],
   "source": [
    "**FEATURE 'SEXO_PESSOA'**"
   ]
  },
  {
   "cell_type": "code",
   "execution_count": 15,
   "metadata": {},
   "outputs": [
    {
     "name": "stdout",
     "output_type": "stream",
     "text": "Total de registros removidos: 109\n"
    }
   ],
   "source": [
    "# REMOVENDO REGISTROS COM A  FEATURE 'SEXO_PESSOA' IGUAIS A NULO\n",
    "total_registros = len(df)\n",
    "df.dropna(subset=['SEXO_PESSOA'], inplace=True)\n",
    "print('Total de registros removidos: {}'.format(total_registros - len(df)))"
   ]
  },
  {
   "cell_type": "markdown",
   "metadata": {},
   "outputs": [],
   "source": [
    "**FEATURE 'IDADE_PESSOA'**\n",
    "\n",
    "- Resolvi trocar todos os atributos nulos e zerados pela média dos registros"
   ]
  },
  {
   "cell_type": "code",
   "execution_count": 16,
   "metadata": {},
   "outputs": [
    {
     "data": {
      "text/html": "<div>\n<style scoped>\n    .dataframe tbody tr th:only-of-type {\n        vertical-align: middle;\n    }\n\n    .dataframe tbody tr th {\n        vertical-align: top;\n    }\n\n    .dataframe thead th {\n        text-align: right;\n    }\n</style>\n<table border=\"1\" class=\"dataframe\">\n  <thead>\n    <tr style=\"text-align: right;\">\n      <th></th>\n      <th>CIDADE</th>\n      <th>ANO_BO</th>\n      <th>HORA_OCORRENCIA_BO</th>\n      <th>FLAG_STATUS</th>\n      <th>RUBRICA</th>\n      <th>DESCR_CONDUTA</th>\n      <th>DESCR_TIPOLOCAL</th>\n      <th>DESCR_TIPO_PESSOA</th>\n      <th>SEXO_PESSOA</th>\n      <th>IDADE_PESSOA</th>\n    </tr>\n  </thead>\n  <tbody>\n    <tr>\n      <th>341280</th>\n      <td>S.PAULO</td>\n      <td>2015</td>\n      <td>19:50</td>\n      <td>Consumado</td>\n      <td>Roubo (art. 157)</td>\n      <td>ESTABELECIMENTO COMERCIAL</td>\n      <td>Comércio e serviços</td>\n      <td>Vítima</td>\n      <td>F</td>\n      <td>-40.0</td>\n    </tr>\n    <tr>\n      <th>542330</th>\n      <td>S.PAULO</td>\n      <td>2014</td>\n      <td>15:00</td>\n      <td>Consumado</td>\n      <td>Estupro de vulneravel (art.217-A)</td>\n      <td>NaN</td>\n      <td>Residência</td>\n      <td>Criança</td>\n      <td>M</td>\n      <td>-1.0</td>\n    </tr>\n  </tbody>\n</table>\n</div>",
      "text/plain": "                                          CIDADE  ANO_BO HORA_OCORRENCIA_BO  \\\n341280  S.PAULO                                     2015              19:50   \n542330  S.PAULO                                     2014              15:00   \n\n       FLAG_STATUS                            RUBRICA  \\\n341280   Consumado                   Roubo (art. 157)   \n542330   Consumado  Estupro de vulneravel (art.217-A)   \n\n                    DESCR_CONDUTA                           DESCR_TIPOLOCAL  \\\n341280  ESTABELECIMENTO COMERCIAL  Comércio e serviços                        \n542330                        NaN  Residência                                 \n\n           DESCR_TIPO_PESSOA SEXO_PESSOA  IDADE_PESSOA  \n341280  Vítima                         F         -40.0  \n542330  Criança                        M          -1.0  "
     },
     "execution_count": 16,
     "metadata": {},
     "output_type": "execute_result"
    }
   ],
   "source": [
    "# TRANSFORMANDO 'IDADE_PESSOA' EM NUMÉRICO\n",
    "df[\"IDADE_PESSOA\"] = df[\"IDADE_PESSOA\"].apply(pd.to_numeric)\n",
    "\n",
    "# VERIFICANDO SE POSSUI PESSOAS COM IDADE NEGATIVA\n",
    "df[df[\"IDADE_PESSOA\"] < 0]"
   ]
  },
  {
   "cell_type": "code",
   "execution_count": 17,
   "metadata": {},
   "outputs": [
    {
     "data": {
      "text/plain": "86"
     },
     "execution_count": 17,
     "metadata": {},
     "output_type": "execute_result"
    }
   ],
   "source": [
    "# VERIFICANDO SE POSSUI PESSOAS COM IDADE MAIOR QUE 120 ANOS\n",
    "len(df[df[\"IDADE_PESSOA\"] > 120])"
   ]
  },
  {
   "cell_type": "code",
   "execution_count": 18,
   "metadata": {},
   "outputs": [],
   "source": [
    "# ARMAZENANDO INDEX DOS REGISTROS QUE POSSUEM 'PESSOA_IDADE' NEGATIVA\n",
    "drop_idx = df[df[\"IDADE_PESSOA\"] < 0].index\n",
    "\n",
    "# ARMAZENANDO INDEX DOS REGISTROS QUE POSSUEM 'PESSOA_IDADE' MAIORES QUE 120\n",
    "drop_idx = drop_idx.append(df[df[\"IDADE_PESSOA\"] > 120].index)"
   ]
  },
  {
   "cell_type": "code",
   "execution_count": 19,
   "metadata": {},
   "outputs": [],
   "source": [
    "# PREENCHIMENTO DE VALORES DA FEATURE 'IDADE_PESSOA' UTILIZANDO A MÉDIA DO ATRIBUTO\n",
    "\n",
    "# REMOVENDO REGISTROS COM VALORES DE 'IDADE_PESSOA' NEGATIVOS OU MAIORES QUE 120\n",
    "df.drop(drop_idx, inplace=True)\n",
    "\n",
    "# OBTENDO MÉDIA DOS VALORES NÃO NULOS E NÃO ZERADOS\n",
    "df_aux = df[df[\"IDADE_PESSOA\"] != 0]\n",
    "med = round(df_aux[\"IDADE_PESSOA\"].mean())\n",
    "\n",
    "# PREENCHENDO VALORES NULOS E ZERADOS DE 'IDADE_PESSOA'\n",
    "df[[\"IDADE_PESSOA\"]] = df[[\"IDADE_PESSOA\"]].fillna(value=med)\n",
    "df[[\"IDADE_PESSOA\"]] = df[[\"IDADE_PESSOA\"]].replace(0, med)"
   ]
  },
  {
   "cell_type": "code",
   "execution_count": 20,
   "metadata": {},
   "outputs": [
    {
     "data": {
      "text/plain": "CIDADE                 0.00\nANO_BO                 0.00\nHORA_OCORRENCIA_BO    25.08\nFLAG_STATUS            0.00\nRUBRICA                0.00\nDESCR_CONDUTA         19.06\nDESCR_TIPOLOCAL        0.00\nDESCR_TIPO_PESSOA      0.00\nSEXO_PESSOA            0.00\nIDADE_PESSOA           0.00\ndtype: float64"
     },
     "execution_count": 20,
     "metadata": {},
     "output_type": "execute_result"
    }
   ],
   "source": [
    "# PRECENTUAL DE ELEMENTOS NULOS\n",
    "round(df.isnull().mean()*100,2)"
   ]
  },
  {
   "cell_type": "code",
   "execution_count": 21,
   "metadata": {},
   "outputs": [
    {
     "data": {
      "text/plain": "CIDADE                object\nANO_BO                 int64\nHORA_OCORRENCIA_BO    object\nFLAG_STATUS           object\nRUBRICA               object\nDESCR_CONDUTA         object\nDESCR_TIPOLOCAL       object\nDESCR_TIPO_PESSOA     object\nSEXO_PESSOA           object\nIDADE_PESSOA           int64\ndtype: object"
     },
     "execution_count": 21,
     "metadata": {},
     "output_type": "execute_result"
    }
   ],
   "source": [
    "# CONVERSÃO DE DADOS DAS FEATURES 'ANO_BO' E 'IDADE_PESSOA' PARA INTEIRO\n",
    "df[\"ANO_BO\"].astype('int', copy=False)\n",
    "df[\"IDADE_PESSOA\"] = df[\"IDADE_PESSOA\"].astype('int')\n",
    "df.dtypes"
   ]
  },
  {
   "cell_type": "markdown",
   "metadata": {},
   "outputs": [],
   "source": [
    "### 4) **(60%)** Nos blocos seguintes construa análises que vão justificar suas conclusões."
   ]
  },
  {
   "cell_type": "markdown",
   "metadata": {},
   "outputs": [],
   "source": [
    "#### 4.1) **(20%)** Análise 1 -  Distribuição dos valores para cada uma das variáveis\n",
    "- Exemplo para variável contínua: se o conjunto de dados possui a variável \"idade\". Quantos % possui a idade entre 0 e 30 anos? 31 a 59? 60+?\n",
    "\n",
    "- Exemplo para variável discreta: se o conjunto de dados possui a variável \"gênero\", quantos % do conjunto de dados é do sexo feminino, quantos % é masculino? Inclua outros gêneros se houver.\n"
   ]
  },
  {
   "cell_type": "code",
   "metadata": {},
   "outputs": [],
   "source": [
    "# Implemente sua análise aqui. Use mais blocos se achar que ficará mais organizado."
   ]
  },
  {
   "cell_type": "markdown",
   "metadata": {},
   "outputs": [],
   "source": [
    "#### 4.2) **(20%)** Análise 2 - Dependência entre variáveis\n",
    "O aluno deve apresentar as mesmas distribuições para cada valor da variável dependente. Exemplo: Em um conjunto de dados em que as variáveis independentes são idade e sexo, e a variável dependente é renda. O aluno pode dividir a renda em 3 \"grupos\", <1000 reais, entre 1000 e 10000 reais e >1000 reais. Para cada um desses grupos, é necessário apresentar a distribuição das variáveis \"idade\" e \"sexo\".\n"
   ]
  },
  {
   "cell_type": "code",
   "metadata": {},
   "outputs": [],
   "source": [
    "# Implemente sua análise aqui. Use mais blocos se achar que ficará mais organizado."
   ]
  },
  {
   "cell_type": "markdown",
   "metadata": {},
   "outputs": [],
   "source": [
    "#### 4.3) **(20%)** Análise 3 - Correlação entre variáveis\n",
    "\n",
    "O aluno deve apresentar 3 análises de correlação entre variáveis do conjunto de dados trabalhado. Exemplo: Em um conjunto de dados com as informações de temperatura e ocorrência de incêndios, eu gostaria de saber a incidência de correlação entre as duas variáveis.\n",
    "\n"
   ]
  },
  {
   "cell_type": "code",
   "metadata": {},
   "outputs": [],
   "source": [
    "# Primeiro par de variáveis: Implemente sua análise aqui. Use mais blocos se achar que ficará mais organizado."
   ]
  },
  {
   "cell_type": "code",
   "metadata": {},
   "outputs": [],
   "source": [
    "# Segundo par de variáveis: Implemente sua análise aqui. Use mais blocos se achar que ficará mais organizado."
   ]
  },
  {
   "cell_type": "code",
   "metadata": {},
   "outputs": [],
   "source": [
    "# Terceiro par de variáveis: Implemente sua análise aqui. Use mais blocos se achar que ficará mais organizado."
   ]
  },
  {
   "cell_type": "markdown",
   "metadata": {},
   "outputs": [],
   "source": [
    "### 5) Conclusões **15%**"
   ]
  },
  {
   "cell_type": "markdown",
   "metadata": {},
   "outputs": [],
   "source": [
    "*O que é possível concluir com os dados que você analisou? Se fosse fazer uma apresentação, o que levaria como os maiores destaques e por que?*"
   ]
  },
  {
   "cell_type": "markdown",
   "metadata": {},
   "outputs": [],
   "source": []
  }
 ],
 "metadata": {
  "file_extension": ".py",
  "kernelspec": {
   "display_name": "Python 3",
   "language": "python",
   "name": "python3"
  },
  "language_info": {
   "codemirror_mode": {
    "name": "ipython",
    "version": 3
   },
   "file_extension": ".py",
   "mimetype": "text/x-python",
   "name": "python",
   "nbconvert_exporter": "python",
   "pygments_lexer": "ipython3",
   "version": "3.7.4"
  },
  "mimetype": "text/x-python",
  "name": "python",
  "npconvert_exporter": "python",
  "pygments_lexer": "ipython3",
  "version": 3
 },
 "nbformat": 4,
 "nbformat_minor": 2
}