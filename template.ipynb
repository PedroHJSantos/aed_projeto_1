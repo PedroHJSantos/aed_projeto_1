{
 "cells": [
  {
   "cell_type": "markdown",
   "metadata": {},
   "outputs": [],
   "source": [
    "# Projeto #1 - Análise Exploratória de Dados\n",
    "\n",
    "Antes de começar, leia as [Instruções](https://github.com/thvmm/pos-ds-ia/tree/master/projeto_1#instru%C3%A7%C3%B5es) e os [Critérios de Avaliação](https://github.com/thvmm/pos-ds-ia/tree/master/projeto_1#crit%C3%A9rios-de-avalia%C3%A7%C3%A3o)\n"
   ]
  },
  {
   "cell_type": "markdown",
   "metadata": {},
   "outputs": [],
   "source": [
    "### 1) **(5%)** Qual a base escolhida e qual seu interesse nela?"
   ]
  },
  {
   "cell_type": "markdown",
   "metadata": {},
   "outputs": [],
   "source": [
    "Neste projeto, apresento uma análise exploratória de dados realizada no dataset de Registro Digital de Ocorrências da Polícia Militar do Estado de São Paulo nos anos 2013, 2014 e 2015.\n",
    "\n",
    "A escolha pelo dataset é dada devido ao crescente índice de criminalidade no Brasil. Tendo assim, o objetivo de obter uma mellhor visualização dessas informações, como por exemplo: quais crimes ocorreram com mais frequência em determinada cidade.\n",
    "\n",
    "A base está disponível em https://www.kaggle.com/inquisitivecrow/crime-data-in-brazil e contém informações de ocorrências nos anos de 2007 a 2016.\n",
    "\n",
    "**Obs:** A análise proposta trabalha apenas com parte da informação disponibilizada (dados de 2013, 2014 e 2015) pois, para trabalhar com a sua totalidade, seria necessário unir todos os arquivos, onde, boa parte não possui features julgadas como importantes para a análise (como os dados das pessoas envolvidas nas ocorrências)."
   ]
  },
  {
   "cell_type": "markdown",
   "metadata": {},
   "outputs": [],
   "source": [
    "### 2) **(5%)** Descrição básica do conjunto de dados escolhido pelo aluno (1 parágrafo).\n",
    "- Identificação da variável a serem trabalhadas\n",
    "- Classificação das variáveis como: contínua ou discreta.\n"
   ]
  },
  {
   "cell_type": "markdown",
   "metadata": {},
   "outputs": [],
   "source": [
    "As variáveis escolhidas para serem trabalhadas são:\n",
    "\n",
    "- CIDADE (categórica): cidade da ocorrência\n",
    "- ANO_BO (continua): ano de ocorrência\n",
    "- DATA_OCORRENCIA_BO (continua): data de ocorrência --> MES_OCORRENCIA_BO (categórica)\n",
    "- FLAG_STATUS (categórica): informa se o crime foi consumado ou tentado\n",
    "- RUBRICA (categórica): ato da ocorrência (ex: roubo, furto, lesão corporal...)\n",
    "- DESCR_CONDUTA (categórica): descrição da conduta\n",
    "- DESCR_TIPOLOCAL (categórica): local da ocorrência\n",
    "- DESCR_TIPO_PESSOA (categórica): classificação de pessoa (ex: vítima)\n",
    "- SEXO_PESSOA (categórica): sexo da pessoa\n",
    "- IDADE_PESSOA (continua): idade da pessoa"
   ]
  },
  {
   "cell_type": "markdown",
   "metadata": {},
   "outputs": [],
   "source": [
    "### 3) **(15%)** Faça uma avaliação descritiva da sua base. Quantas linhas ela possui? Quais os tipos de dados? Quantas e quais features possuem?\n",
    "\n",
    "Cada variável escolhida pelo aluno precisa passar por ao menos 1 pré-processamento. O pré-processamento pode ser (mas não está limitado a):\n",
    "- Checagem se os valores estão dentro de um limite permitido ou razoável.\n",
    "- Tratamento de valores ausentes por eliminação ou substituição.\n",
    "- Conversão do tipo de dados.\n"
   ]
  },
  {
   "cell_type": "code",
   "execution_count": 1,
   "metadata": {},
   "outputs": [],
   "source": [
    "# Importação de bibliotecas\n",
    "import pandas as pd\n",
    "import matplotlib.pyplot as plt"
   ]
  },
  {
   "cell_type": "code",
   "execution_count": 2,
   "metadata": {},
   "outputs": [
    {
     "name": "stderr",
     "output_type": "stream",
     "text": "/home/pedro/anaconda3/envs/pos-ds-ia-37/lib/python3.7/site-packages/IPython/core/interactiveshell.py:3058: DtypeWarning: Columns (22,23,24,28,30) have mixed types. Specify dtype option on import or set low_memory=False.\n  interactivity=interactivity, compiler=compiler, result=result)\n"
    },
    {
     "data": {
      "text/html": "<div>\n<style scoped>\n    .dataframe tbody tr th:only-of-type {\n        vertical-align: middle;\n    }\n\n    .dataframe tbody tr th {\n        vertical-align: top;\n    }\n\n    .dataframe thead th {\n        text-align: right;\n    }\n</style>\n<table border=\"1\" class=\"dataframe\">\n  <thead>\n    <tr style=\"text-align: right;\">\n      <th></th>\n      <th>ID_DELEGACIA</th>\n      <th>NOME_DEPARTAMENTO</th>\n      <th>NOME_SECCIONAL</th>\n      <th>NOME_DELEGACIA</th>\n      <th>CIDADE</th>\n      <th>ANO_BO</th>\n      <th>NUM_BO</th>\n      <th>NOME_DEPARTAMENTO_CIRC</th>\n      <th>NOME_SECCIONAL_CIRC</th>\n      <th>NOME_DELEGACIA_CIRC</th>\n      <th>...</th>\n      <th>DESCR_SUBTIPOLOCAL</th>\n      <th>LOGRADOURO</th>\n      <th>NUMERO_LOGRADOURO</th>\n      <th>LATITUDE</th>\n      <th>LONGITUDE</th>\n      <th>DESCR_TIPO_PESSOA</th>\n      <th>FLAG_VITIMA_FATAL</th>\n      <th>SEXO_PESSOA</th>\n      <th>IDADE_PESSOA</th>\n      <th>COR_CUTIS</th>\n    </tr>\n  </thead>\n  <tbody>\n    <tr>\n      <th>0</th>\n      <td>10004</td>\n      <td>DIRD - DEPTO IDENT.REG.DIV</td>\n      <td>DIV.POL.PORTO/AERO/PROT.TURIS-DECADE</td>\n      <td>06º D.P. METROPOLITANO</td>\n      <td>S.PAULO</td>\n      <td>2013</td>\n      <td>3</td>\n      <td>DECAP</td>\n      <td>DEL.SEC.8º SAO MATEUS</td>\n      <td>44º D.P.  GUAIANAZES</td>\n      <td>...</td>\n      <td>Metrov. e ferroviário metrop.-acesso/escada/el...</td>\n      <td>ESTACAO GUAIANAZES - CPTM</td>\n      <td>0</td>\n      <td>-23.54398268</td>\n      <td>-46.4219843</td>\n      <td>Vítima</td>\n      <td>NaN</td>\n      <td>M</td>\n      <td>29</td>\n      <td>Branca</td>\n    </tr>\n    <tr>\n      <th>1</th>\n      <td>10004</td>\n      <td>DIRD - DEPTO IDENT.REG.DIV</td>\n      <td>DIV.POL.PORTO/AERO/PROT.TURIS-DECADE</td>\n      <td>06º D.P. METROPOLITANO</td>\n      <td>S.PAULO</td>\n      <td>2013</td>\n      <td>10</td>\n      <td>DECAP</td>\n      <td>DEL.SEC.3º OESTE</td>\n      <td>23º D.P.  PERDIZES</td>\n      <td>...</td>\n      <td>Via pública                                   ...</td>\n      <td>RUA JOAO RAMALHO</td>\n      <td>0</td>\n      <td>-23.54006897</td>\n      <td>-46.66791385</td>\n      <td>Vítima</td>\n      <td>NaN</td>\n      <td>F</td>\n      <td>41</td>\n      <td>Branca</td>\n    </tr>\n    <tr>\n      <th>2</th>\n      <td>10004</td>\n      <td>DIRD - DEPTO IDENT.REG.DIV</td>\n      <td>DIV.POL.PORTO/AERO/PROT.TURIS-DECADE</td>\n      <td>06º D.P. METROPOLITANO</td>\n      <td>S.PAULO</td>\n      <td>2013</td>\n      <td>21</td>\n      <td>DECAP</td>\n      <td>DEL.SEC.7º ITAQUERA</td>\n      <td>64º D.P. CID.AE CARVALHO</td>\n      <td>...</td>\n      <td>Metrov. e ferroviário metrop.-outros          ...</td>\n      <td>AV DO CONTORNO</td>\n      <td>60</td>\n      <td>-23.53967047</td>\n      <td>-46.46252708</td>\n      <td>Vítima</td>\n      <td>NaN</td>\n      <td>M</td>\n      <td>29</td>\n      <td>Parda</td>\n    </tr>\n    <tr>\n      <th>3</th>\n      <td>10004</td>\n      <td>DIRD - DEPTO IDENT.REG.DIV</td>\n      <td>DIV.POL.PORTO/AERO/PROT.TURIS-DECADE</td>\n      <td>06º D.P. METROPOLITANO</td>\n      <td>S.PAULO</td>\n      <td>2013</td>\n      <td>37</td>\n      <td>DECAP</td>\n      <td>DEL.SEC.3º OESTE</td>\n      <td>23º D.P.  PERDIZES</td>\n      <td>...</td>\n      <td>Metrov. e ferroviário metrop.-acesso/escada/el...</td>\n      <td>ESTACAO BARRA FUNDA - METRO</td>\n      <td>0</td>\n      <td>-23.53347685</td>\n      <td>-46.65267016</td>\n      <td>Vítima</td>\n      <td>NaN</td>\n      <td>M</td>\n      <td>39</td>\n      <td>Branca</td>\n    </tr>\n    <tr>\n      <th>4</th>\n      <td>10004</td>\n      <td>DIRD - DEPTO IDENT.REG.DIV</td>\n      <td>DIV.POL.PORTO/AERO/PROT.TURIS-DECADE</td>\n      <td>06º D.P. METROPOLITANO</td>\n      <td>S.PAULO</td>\n      <td>2013</td>\n      <td>43</td>\n      <td>DECAP</td>\n      <td>DEL.SEC.1º CENTRO</td>\n      <td>02º D.P. BOM RETIRO</td>\n      <td>...</td>\n      <td>Metrov. e ferroviário metrop.-acesso/escada/el...</td>\n      <td>ESTACAO LUZ/ESCADA ROLANTE</td>\n      <td>999</td>\n      <td>-23.53498802</td>\n      <td>-46.63984656</td>\n      <td>Vítima</td>\n      <td>NaN</td>\n      <td>F</td>\n      <td>34</td>\n      <td>Branca</td>\n    </tr>\n  </tbody>\n</table>\n<p>5 rows × 30 columns</p>\n</div>",
      "text/plain": "   ID_DELEGACIA                         NOME_DEPARTAMENTO  \\\n0         10004  DIRD - DEPTO IDENT.REG.DIV                 \n1         10004  DIRD - DEPTO IDENT.REG.DIV                 \n2         10004  DIRD - DEPTO IDENT.REG.DIV                 \n3         10004  DIRD - DEPTO IDENT.REG.DIV                 \n4         10004  DIRD - DEPTO IDENT.REG.DIV                 \n\n                             NOME_SECCIONAL                  NOME_DELEGACIA  \\\n0  DIV.POL.PORTO/AERO/PROT.TURIS-DECADE      06º D.P. METROPOLITANO           \n1  DIV.POL.PORTO/AERO/PROT.TURIS-DECADE      06º D.P. METROPOLITANO           \n2  DIV.POL.PORTO/AERO/PROT.TURIS-DECADE      06º D.P. METROPOLITANO           \n3  DIV.POL.PORTO/AERO/PROT.TURIS-DECADE      06º D.P. METROPOLITANO           \n4  DIV.POL.PORTO/AERO/PROT.TURIS-DECADE      06º D.P. METROPOLITANO           \n\n                                     CIDADE  ANO_BO  NUM_BO  \\\n0  S.PAULO                                     2013       3   \n1  S.PAULO                                     2013      10   \n2  S.PAULO                                     2013      21   \n3  S.PAULO                                     2013      37   \n4  S.PAULO                                     2013      43   \n\n                     NOME_DEPARTAMENTO_CIRC  \\\n0  DECAP                                      \n1  DECAP                                      \n2  DECAP                                      \n3  DECAP                                      \n4  DECAP                                      \n\n                        NOME_SECCIONAL_CIRC             NOME_DELEGACIA_CIRC  \\\n0  DEL.SEC.8º SAO MATEUS                     44º D.P.  GUAIANAZES             \n1  DEL.SEC.3º OESTE                          23º D.P.  PERDIZES               \n2  DEL.SEC.7º ITAQUERA                       64º D.P. CID.AE CARVALHO         \n3  DEL.SEC.3º OESTE                          23º D.P.  PERDIZES               \n4  DEL.SEC.1º CENTRO                         02º D.P. BOM RETIRO              \n\n   ...                                 DESCR_SUBTIPOLOCAL  \\\n0  ...  Metrov. e ferroviário metrop.-acesso/escada/el...   \n1  ...  Via pública                                   ...   \n2  ...  Metrov. e ferroviário metrop.-outros          ...   \n3  ...  Metrov. e ferroviário metrop.-acesso/escada/el...   \n4  ...  Metrov. e ferroviário metrop.-acesso/escada/el...   \n\n                                 LOGRADOURO NUMERO_LOGRADOURO      LATITUDE  \\\n0  ESTACAO GUAIANAZES - CPTM                                0  -23.54398268   \n1  RUA JOAO RAMALHO                                         0  -23.54006897   \n2  AV DO CONTORNO                                          60  -23.53967047   \n3  ESTACAO BARRA FUNDA - METRO                              0  -23.53347685   \n4  ESTACAO LUZ/ESCADA ROLANTE                             999  -23.53498802   \n\n      LONGITUDE     DESCR_TIPO_PESSOA FLAG_VITIMA_FATAL SEXO_PESSOA  \\\n0   -46.4219843  Vítima                             NaN           M   \n1  -46.66791385  Vítima                             NaN           F   \n2  -46.46252708  Vítima                             NaN           M   \n3  -46.65267016  Vítima                             NaN           M   \n4  -46.63984656  Vítima                             NaN           F   \n\n  IDADE_PESSOA             COR_CUTIS  \n0           29  Branca                \n1           41  Branca                \n2           29  Parda                 \n3           39  Branca                \n4           34  Branca                \n\n[5 rows x 30 columns]"
     },
     "execution_count": 2,
     "metadata": {},
     "output_type": "execute_result"
    }
   ],
   "source": [
    "# Leitura do dataset\n",
    "df = pd.read_csv(\"RDO_2.csv\")\n",
    "df.drop(df.columns[df.columns.str.contains(\"unnamed\", case=False)], axis=1, inplace=True)\n",
    "df.head()"
   ]
  },
  {
   "cell_type": "code",
   "execution_count": 3,
   "metadata": {},
   "outputs": [
    {
     "name": "stdout",
     "output_type": "stream",
     "text": "Quantidade de registros do DataFrame: 1048575\n"
    },
    {
     "data": {
      "text/plain": "ID_DELEGACIA                 int64\nNOME_DEPARTAMENTO           object\nNOME_SECCIONAL              object\nNOME_DELEGACIA              object\nCIDADE                      object\nANO_BO                       int64\nNUM_BO                       int64\nNOME_DEPARTAMENTO_CIRC      object\nNOME_SECCIONAL_CIRC         object\nNOME_DELEGACIA_CIRC         object\nNOME_MUNICIPIO_CIRC         object\nDESCR_TIPO_BO               object\nDATA_OCORRENCIA_BO          object\nHORA_OCORRENCIA_BO          object\nDATAHORA_COMUNICACAO_BO    float64\nFLAG_STATUS                 object\nRUBRICA                     object\nDESCR_CONDUTA               object\nDESDOBRAMENTO               object\nDESCR_TIPOLOCAL             object\nDESCR_SUBTIPOLOCAL          object\nLOGRADOURO                  object\nNUMERO_LOGRADOURO           object\nLATITUDE                    object\nLONGITUDE                   object\nDESCR_TIPO_PESSOA           object\nFLAG_VITIMA_FATAL           object\nSEXO_PESSOA                 object\nIDADE_PESSOA                object\nCOR_CUTIS                   object\ndtype: object"
     },
     "execution_count": 3,
     "metadata": {},
     "output_type": "execute_result"
    }
   ],
   "source": [
    "# OBTENDO A QUANTIDADE DE REGISTROS E TIPOS DE DADOS\n",
    "print(\"Quantidade de registros do DataFrame: {}\".format(len(df)))\n",
    "df.dtypes"
   ]
  },
  {
   "cell_type": "markdown",
   "metadata": {},
   "outputs": [],
   "source": [
    "### **QUANTIDADE DE REGISTROS**\n",
    "\n",
    "A base possui um total de 1.048.575 registros\n",
    "\n",
    "\n",
    "### ** FEATURES **\n",
    "\n",
    "A base possui um total de 30 features, onde:\n",
    "\n",
    "* **ID_DELEGACIA** - inteiro\n",
    "* **NOME_DEPARTAMENTO** - objeto\n",
    "* **NOME_SECCIONAL** - objeto\n",
    "* **NOME_DELEGACIA** - objeto\n",
    "* **CIDADE** - objeto\n",
    "* **ANO_BO** - inteiro\n",
    "* **NUM_BO** - inteiro\n",
    "* **NOME_DEPARTAMENTO_CIRC** - objeto\n",
    "* **NOME_SECCIONAL_CIRC** - objeto\n",
    "* **NOME_DELEGACIA_CIRC** - objeto\n",
    "* **NOME_MUNICIPIO_CIRC** - objeto\n",
    "* **DESCR_TIPO_BO** - objeto\n",
    "* **DATA_OCORRENCIA_BO** - objeto\n",
    "* **HORA_OCORRENCIA_BO** - objeto\n",
    "* **DATAHORA_COMUNICACAO_BO** - ponto flutuante\n",
    "* **FLAG_STATUS** - objeto\n",
    "* **RUBRICA** - objeto\n",
    "* **DESCR_CONDUTA** - objeto\n",
    "* **DESDOBRAMENTO** - objeto\n",
    "* **DESCR_TIPOLOCAL** - objeto\n",
    "* **DESCR_SUBTIPOLOCAL** - objeto\n",
    "* **LOGRADOURO** - objeto\n",
    "* **NUMERO_LOGRADOURO** - objeto\n",
    "* **LATITUDE** - objeto\n",
    "* **LONGITUDE** - objeto\n",
    "* **DESCR_TIPO_PESSOA** - objeto\n",
    "* **FLAG_VITIMA_FATAL** - objeto\n",
    "* **SEXO_PESSOA** - objeto\n",
    "* **IDADE_PESSOA** - objeto\n",
    "* **COR_CUTIS** - objeto"
   ]
  },
  {
   "cell_type": "markdown",
   "metadata": {},
   "outputs": [],
   "source": [
    "## **Limpeza de dados**"
   ]
  },
  {
   "cell_type": "code",
   "execution_count": 4,
   "metadata": {},
   "outputs": [
    {
     "data": {
      "text/html": "<div>\n<style scoped>\n    .dataframe tbody tr th:only-of-type {\n        vertical-align: middle;\n    }\n\n    .dataframe tbody tr th {\n        vertical-align: top;\n    }\n\n    .dataframe thead th {\n        text-align: right;\n    }\n</style>\n<table border=\"1\" class=\"dataframe\">\n  <thead>\n    <tr style=\"text-align: right;\">\n      <th></th>\n      <th>CIDADE</th>\n      <th>ANO_BO</th>\n      <th>DATA_OCORRENCIA_BO</th>\n      <th>HORA_OCORRENCIA_BO</th>\n      <th>FLAG_STATUS</th>\n      <th>RUBRICA</th>\n      <th>DESCR_CONDUTA</th>\n      <th>DESDOBRAMENTO</th>\n      <th>DESCR_TIPOLOCAL</th>\n      <th>DESCR_TIPO_PESSOA</th>\n      <th>FLAG_VITIMA_FATAL</th>\n      <th>SEXO_PESSOA</th>\n      <th>IDADE_PESSOA</th>\n      <th>COR_CUTIS</th>\n    </tr>\n  </thead>\n  <tbody>\n    <tr>\n      <th>0</th>\n      <td>S.PAULO</td>\n      <td>2013</td>\n      <td>01/01/2013</td>\n      <td>06:20</td>\n      <td>Consumado</td>\n      <td>Roubo (art. 157)</td>\n      <td>OUTROS</td>\n      <td>NaN</td>\n      <td>Terminal/Estação</td>\n      <td>Vítima</td>\n      <td>NaN</td>\n      <td>M</td>\n      <td>29</td>\n      <td>Branca</td>\n    </tr>\n    <tr>\n      <th>1</th>\n      <td>S.PAULO</td>\n      <td>2013</td>\n      <td>02/01/2013</td>\n      <td>06:10</td>\n      <td>Consumado</td>\n      <td>Roubo (art. 157)</td>\n      <td>TRANSEUNTE</td>\n      <td>NaN</td>\n      <td>Via pública</td>\n      <td>Vítima</td>\n      <td>NaN</td>\n      <td>F</td>\n      <td>41</td>\n      <td>Branca</td>\n    </tr>\n    <tr>\n      <th>2</th>\n      <td>S.PAULO</td>\n      <td>2013</td>\n      <td>04/01/2013</td>\n      <td>05:30</td>\n      <td>Consumado</td>\n      <td>Furto qualificado (art. 155, §4o.)</td>\n      <td>OUTROS</td>\n      <td>NaN</td>\n      <td>Terminal/Estação</td>\n      <td>Vítima</td>\n      <td>NaN</td>\n      <td>M</td>\n      <td>29</td>\n      <td>Parda</td>\n    </tr>\n    <tr>\n      <th>3</th>\n      <td>S.PAULO</td>\n      <td>2013</td>\n      <td>06/01/2013</td>\n      <td>12:05</td>\n      <td>Consumado</td>\n      <td>Furto (art. 155)</td>\n      <td>OUTROS</td>\n      <td>NaN</td>\n      <td>Terminal/Estação</td>\n      <td>Vítima</td>\n      <td>NaN</td>\n      <td>M</td>\n      <td>39</td>\n      <td>Branca</td>\n    </tr>\n    <tr>\n      <th>4</th>\n      <td>S.PAULO</td>\n      <td>2013</td>\n      <td>07/01/2013</td>\n      <td>05:50</td>\n      <td>Consumado</td>\n      <td>Roubo (art. 157)</td>\n      <td>OUTROS</td>\n      <td>NaN</td>\n      <td>Terminal/Estação</td>\n      <td>Vítima</td>\n      <td>NaN</td>\n      <td>F</td>\n      <td>34</td>\n      <td>Branca</td>\n    </tr>\n  </tbody>\n</table>\n</div>",
      "text/plain": "                                     CIDADE  ANO_BO DATA_OCORRENCIA_BO  \\\n0  S.PAULO                                     2013         01/01/2013   \n1  S.PAULO                                     2013         02/01/2013   \n2  S.PAULO                                     2013         04/01/2013   \n3  S.PAULO                                     2013         06/01/2013   \n4  S.PAULO                                     2013         07/01/2013   \n\n  HORA_OCORRENCIA_BO FLAG_STATUS                             RUBRICA  \\\n0              06:20   Consumado                    Roubo (art. 157)   \n1              06:10   Consumado                    Roubo (art. 157)   \n2              05:30   Consumado  Furto qualificado (art. 155, §4o.)   \n3              12:05   Consumado                    Furto (art. 155)   \n4              05:50   Consumado                    Roubo (art. 157)   \n\n  DESCR_CONDUTA DESDOBRAMENTO                           DESCR_TIPOLOCAL  \\\n0        OUTROS           NaN  Terminal/Estação                           \n1    TRANSEUNTE           NaN  Via pública                                \n2        OUTROS           NaN  Terminal/Estação                           \n3        OUTROS           NaN  Terminal/Estação                           \n4        OUTROS           NaN  Terminal/Estação                           \n\n      DESCR_TIPO_PESSOA FLAG_VITIMA_FATAL SEXO_PESSOA IDADE_PESSOA  \\\n0  Vítima                             NaN           M           29   \n1  Vítima                             NaN           F           41   \n2  Vítima                             NaN           M           29   \n3  Vítima                             NaN           M           39   \n4  Vítima                             NaN           F           34   \n\n              COR_CUTIS  \n0  Branca                \n1  Branca                \n2  Parda                 \n3  Branca                \n4  Branca                "
     },
     "execution_count": 4,
     "metadata": {},
     "output_type": "execute_result"
    }
   ],
   "source": [
    "# REMOVENDO FEATURES QUE NÃO SERÃO UTILIZADAS NA ANÁLISE\n",
    "df.drop([\"ID_DELEGACIA\", \"NOME_DEPARTAMENTO\", \"NOME_SECCIONAL\", \"NOME_DELEGACIA\", \"NUM_BO\", \"NOME_DEPARTAMENTO_CIRC\", \"NOME_SECCIONAL_CIRC\", \"NOME_DELEGACIA_CIRC\", \"NOME_MUNICIPIO_CIRC\", \"DESCR_TIPO_BO\", \"DATAHORA_COMUNICACAO_BO\", \"DESCR_SUBTIPOLOCAL\", \"LOGRADOURO\", \"NUMERO_LOGRADOURO\", \"LATITUDE\", \"LONGITUDE\"], axis=1, inplace=True)\n",
    "df.head()"
   ]
  },
  {
   "cell_type": "code",
   "execution_count": 5,
   "metadata": {},
   "outputs": [
    {
     "data": {
      "text/plain": "CIDADE                 0.00\nANO_BO                 0.00\nDATA_OCORRENCIA_BO     0.00\nHORA_OCORRENCIA_BO    25.14\nFLAG_STATUS            0.00\nRUBRICA                0.00\nDESCR_CONDUTA         19.10\nDESDOBRAMENTO         93.39\nDESCR_TIPOLOCAL        0.00\nDESCR_TIPO_PESSOA      0.01\nFLAG_VITIMA_FATAL     96.31\nSEXO_PESSOA            0.01\nIDADE_PESSOA           0.96\nCOR_CUTIS             23.62\ndtype: float64"
     },
     "execution_count": 5,
     "metadata": {},
     "output_type": "execute_result"
    }
   ],
   "source": [
    "# PRECENTUAL DE ELEMENTOS NULOS\n",
    "round(df.isnull().mean()*100,2)"
   ]
  },
  {
   "cell_type": "code",
   "execution_count": 6,
   "metadata": {},
   "outputs": [
    {
     "data": {
      "text/html": "<div>\n<style scoped>\n    .dataframe tbody tr th:only-of-type {\n        vertical-align: middle;\n    }\n\n    .dataframe tbody tr th {\n        vertical-align: top;\n    }\n\n    .dataframe thead th {\n        text-align: right;\n    }\n</style>\n<table border=\"1\" class=\"dataframe\">\n  <thead>\n    <tr style=\"text-align: right;\">\n      <th></th>\n      <th>CIDADE</th>\n      <th>ANO_BO</th>\n      <th>DATA_OCORRENCIA_BO</th>\n      <th>FLAG_STATUS</th>\n      <th>RUBRICA</th>\n      <th>DESCR_CONDUTA</th>\n      <th>DESCR_TIPOLOCAL</th>\n      <th>DESCR_TIPO_PESSOA</th>\n      <th>SEXO_PESSOA</th>\n      <th>IDADE_PESSOA</th>\n    </tr>\n  </thead>\n  <tbody>\n    <tr>\n      <th>0</th>\n      <td>S.PAULO</td>\n      <td>2013</td>\n      <td>01/01/2013</td>\n      <td>Consumado</td>\n      <td>Roubo (art. 157)</td>\n      <td>OUTROS</td>\n      <td>Terminal/Estação</td>\n      <td>Vítima</td>\n      <td>M</td>\n      <td>29</td>\n    </tr>\n    <tr>\n      <th>1</th>\n      <td>S.PAULO</td>\n      <td>2013</td>\n      <td>02/01/2013</td>\n      <td>Consumado</td>\n      <td>Roubo (art. 157)</td>\n      <td>TRANSEUNTE</td>\n      <td>Via pública</td>\n      <td>Vítima</td>\n      <td>F</td>\n      <td>41</td>\n    </tr>\n    <tr>\n      <th>2</th>\n      <td>S.PAULO</td>\n      <td>2013</td>\n      <td>04/01/2013</td>\n      <td>Consumado</td>\n      <td>Furto qualificado (art. 155, §4o.)</td>\n      <td>OUTROS</td>\n      <td>Terminal/Estação</td>\n      <td>Vítima</td>\n      <td>M</td>\n      <td>29</td>\n    </tr>\n    <tr>\n      <th>3</th>\n      <td>S.PAULO</td>\n      <td>2013</td>\n      <td>06/01/2013</td>\n      <td>Consumado</td>\n      <td>Furto (art. 155)</td>\n      <td>OUTROS</td>\n      <td>Terminal/Estação</td>\n      <td>Vítima</td>\n      <td>M</td>\n      <td>39</td>\n    </tr>\n    <tr>\n      <th>4</th>\n      <td>S.PAULO</td>\n      <td>2013</td>\n      <td>07/01/2013</td>\n      <td>Consumado</td>\n      <td>Roubo (art. 157)</td>\n      <td>OUTROS</td>\n      <td>Terminal/Estação</td>\n      <td>Vítima</td>\n      <td>F</td>\n      <td>34</td>\n    </tr>\n  </tbody>\n</table>\n</div>",
      "text/plain": "                                     CIDADE  ANO_BO DATA_OCORRENCIA_BO  \\\n0  S.PAULO                                     2013         01/01/2013   \n1  S.PAULO                                     2013         02/01/2013   \n2  S.PAULO                                     2013         04/01/2013   \n3  S.PAULO                                     2013         06/01/2013   \n4  S.PAULO                                     2013         07/01/2013   \n\n  FLAG_STATUS                             RUBRICA DESCR_CONDUTA  \\\n0   Consumado                    Roubo (art. 157)        OUTROS   \n1   Consumado                    Roubo (art. 157)    TRANSEUNTE   \n2   Consumado  Furto qualificado (art. 155, §4o.)        OUTROS   \n3   Consumado                    Furto (art. 155)        OUTROS   \n4   Consumado                    Roubo (art. 157)        OUTROS   \n\n                            DESCR_TIPOLOCAL     DESCR_TIPO_PESSOA SEXO_PESSOA  \\\n0  Terminal/Estação                          Vítima                         M   \n1  Via pública                               Vítima                         F   \n2  Terminal/Estação                          Vítima                         M   \n3  Terminal/Estação                          Vítima                         M   \n4  Terminal/Estação                          Vítima                         F   \n\n  IDADE_PESSOA  \n0           29  \n1           41  \n2           29  \n3           39  \n4           34  "
     },
     "execution_count": 6,
     "metadata": {},
     "output_type": "execute_result"
    }
   ],
   "source": [
    "# RESOLVI REMOVER TAMBÉM AS FEATURES 'HORA_OCORRENCIA_BO', 'DESDOBRAMENTO', 'FLAG_VITIMA_FATAL' E 'COR_CUTIS' POR TEREM UM PERCENTUAL DE ELEMENTOS NULOS ELEVADO\n",
    "df.drop([\"HORA_OCORRENCIA_BO\", \"DESDOBRAMENTO\", \"FLAG_VITIMA_FATAL\", \"COR_CUTIS\"], axis=1, inplace=True)\n",
    "df.head()"
   ]
  },
  {
   "cell_type": "markdown",
   "metadata": {},
   "outputs": [],
   "source": [
    "**FEATURE 'DATA_OCORRENCIA_BO'**"
   ]
  },
  {
   "cell_type": "code",
   "execution_count": 7,
   "metadata": {},
   "outputs": [
    {
     "data": {
      "text/plain": "17/05/2014    1487\n17/06/2014    1459\n21/03/2014    1433\n23/06/2014    1421\n20/03/2014    1395\n              ... \n25/12/2014     586\n25/12/2013     554\n25/12/2015     552\n07/09/2015     550\n26/12/2015     526\nName: DATA_OCORRENCIA_BO, Length: 1095, dtype: int64"
     },
     "execution_count": 7,
     "metadata": {},
     "output_type": "execute_result"
    }
   ],
   "source": [
    "# CHECAGEM DE VALORES\n",
    "df[\"DATA_OCORRENCIA_BO\"].value_counts()"
   ]
  },
  {
   "cell_type": "code",
   "execution_count": 8,
   "metadata": {},
   "outputs": [
    {
     "data": {
      "text/html": "<div>\n<style scoped>\n    .dataframe tbody tr th:only-of-type {\n        vertical-align: middle;\n    }\n\n    .dataframe tbody tr th {\n        vertical-align: top;\n    }\n\n    .dataframe thead th {\n        text-align: right;\n    }\n</style>\n<table border=\"1\" class=\"dataframe\">\n  <thead>\n    <tr style=\"text-align: right;\">\n      <th></th>\n      <th>CIDADE</th>\n      <th>ANO_BO</th>\n      <th>MES_OCORRENCIA_BO</th>\n      <th>FLAG_STATUS</th>\n      <th>RUBRICA</th>\n      <th>DESCR_CONDUTA</th>\n      <th>DESCR_TIPOLOCAL</th>\n      <th>DESCR_TIPO_PESSOA</th>\n      <th>SEXO_PESSOA</th>\n      <th>IDADE_PESSOA</th>\n    </tr>\n  </thead>\n  <tbody>\n    <tr>\n      <th>0</th>\n      <td>S.PAULO</td>\n      <td>2013</td>\n      <td>Janeiro</td>\n      <td>Consumado</td>\n      <td>Roubo (art. 157)</td>\n      <td>OUTROS</td>\n      <td>Terminal/Estação</td>\n      <td>Vítima</td>\n      <td>M</td>\n      <td>29</td>\n    </tr>\n    <tr>\n      <th>1</th>\n      <td>S.PAULO</td>\n      <td>2013</td>\n      <td>Janeiro</td>\n      <td>Consumado</td>\n      <td>Roubo (art. 157)</td>\n      <td>TRANSEUNTE</td>\n      <td>Via pública</td>\n      <td>Vítima</td>\n      <td>F</td>\n      <td>41</td>\n    </tr>\n    <tr>\n      <th>2</th>\n      <td>S.PAULO</td>\n      <td>2013</td>\n      <td>Janeiro</td>\n      <td>Consumado</td>\n      <td>Furto qualificado (art. 155, §4o.)</td>\n      <td>OUTROS</td>\n      <td>Terminal/Estação</td>\n      <td>Vítima</td>\n      <td>M</td>\n      <td>29</td>\n    </tr>\n    <tr>\n      <th>3</th>\n      <td>S.PAULO</td>\n      <td>2013</td>\n      <td>Janeiro</td>\n      <td>Consumado</td>\n      <td>Furto (art. 155)</td>\n      <td>OUTROS</td>\n      <td>Terminal/Estação</td>\n      <td>Vítima</td>\n      <td>M</td>\n      <td>39</td>\n    </tr>\n    <tr>\n      <th>4</th>\n      <td>S.PAULO</td>\n      <td>2013</td>\n      <td>Janeiro</td>\n      <td>Consumado</td>\n      <td>Roubo (art. 157)</td>\n      <td>OUTROS</td>\n      <td>Terminal/Estação</td>\n      <td>Vítima</td>\n      <td>F</td>\n      <td>34</td>\n    </tr>\n  </tbody>\n</table>\n</div>",
      "text/plain": "                                     CIDADE  ANO_BO MES_OCORRENCIA_BO  \\\n0  S.PAULO                                     2013           Janeiro   \n1  S.PAULO                                     2013           Janeiro   \n2  S.PAULO                                     2013           Janeiro   \n3  S.PAULO                                     2013           Janeiro   \n4  S.PAULO                                     2013           Janeiro   \n\n  FLAG_STATUS                             RUBRICA DESCR_CONDUTA  \\\n0   Consumado                    Roubo (art. 157)        OUTROS   \n1   Consumado                    Roubo (art. 157)    TRANSEUNTE   \n2   Consumado  Furto qualificado (art. 155, §4o.)        OUTROS   \n3   Consumado                    Furto (art. 155)        OUTROS   \n4   Consumado                    Roubo (art. 157)        OUTROS   \n\n                            DESCR_TIPOLOCAL     DESCR_TIPO_PESSOA SEXO_PESSOA  \\\n0  Terminal/Estação                          Vítima                         M   \n1  Via pública                               Vítima                         F   \n2  Terminal/Estação                          Vítima                         M   \n3  Terminal/Estação                          Vítima                         M   \n4  Terminal/Estação                          Vítima                         F   \n\n  IDADE_PESSOA  \n0           29  \n1           41  \n2           29  \n3           39  \n4           34  "
     },
     "execution_count": 8,
     "metadata": {},
     "output_type": "execute_result"
    }
   ],
   "source": [
    "# OBTENDO APENAS O MÊS DA DATA\n",
    "df[\"DATA_OCORRENCIA_BO\"] = pd.DatetimeIndex(pd.to_datetime(df[\"DATA_OCORRENCIA_BO\"], dayfirst=True)).month_name(locale='')\n",
    "df.head()\n",
    "\n",
    "# TROCANDO NOME DA FEATURE\n",
    "df.rename(columns={\"DATA_OCORRENCIA_BO\": \"MES_OCORRENCIA_BO\"}, inplace=True)\n",
    "\n",
    "df.head()"
   ]
  },
  {
   "cell_type": "code",
   "execution_count": 9,
   "metadata": {},
   "outputs": [
    {
     "data": {
      "text/plain": "Maio         95203\nMarço        94263\nAbril        93688\nJunho        89473\nOutubro      89201\nAgosto       87355\nJulho        86369\nNovembro     85685\nSetembro     83470\nJaneiro      83396\nDezembro     80310\nFevereiro    80162\nName: MES_OCORRENCIA_BO, dtype: int64"
     },
     "execution_count": 9,
     "metadata": {},
     "output_type": "execute_result"
    }
   ],
   "source": [
    "# NOVA CHECAGEM DE VALORES\n",
    "df[\"MES_OCORRENCIA_BO\"].value_counts()"
   ]
  },
  {
   "cell_type": "markdown",
   "metadata": {},
   "outputs": [],
   "source": [
    "**FEATURE 'SEXO_PESSOA'**"
   ]
  },
  {
   "cell_type": "code",
   "execution_count": 10,
   "metadata": {},
   "outputs": [
    {
     "name": "stdout",
     "output_type": "stream",
     "text": "Total de registros removidos: 109\n"
    }
   ],
   "source": [
    "# REMOVENDO REGISTROS NULOS DA FEATURE 'SEXO_PESSOA'\n",
    "total_registros = len(df)\n",
    "df.dropna(subset=['SEXO_PESSOA'], inplace=True)\n",
    "print('Total de registros removidos: {}'.format(total_registros - len(df)))"
   ]
  },
  {
   "cell_type": "markdown",
   "metadata": {},
   "outputs": [],
   "source": [
    "**FEATURE 'IDADE_PESSOA'**\n",
    "\n",
    "- Resolvi trocar todos os atributos nulos e zerados pela média dos registros"
   ]
  },
  {
   "cell_type": "code",
   "execution_count": 11,
   "metadata": {},
   "outputs": [
    {
     "data": {
      "text/html": "<div>\n<style scoped>\n    .dataframe tbody tr th:only-of-type {\n        vertical-align: middle;\n    }\n\n    .dataframe tbody tr th {\n        vertical-align: top;\n    }\n\n    .dataframe thead th {\n        text-align: right;\n    }\n</style>\n<table border=\"1\" class=\"dataframe\">\n  <thead>\n    <tr style=\"text-align: right;\">\n      <th></th>\n      <th>CIDADE</th>\n      <th>ANO_BO</th>\n      <th>MES_OCORRENCIA_BO</th>\n      <th>FLAG_STATUS</th>\n      <th>RUBRICA</th>\n      <th>DESCR_CONDUTA</th>\n      <th>DESCR_TIPOLOCAL</th>\n      <th>DESCR_TIPO_PESSOA</th>\n      <th>SEXO_PESSOA</th>\n      <th>IDADE_PESSOA</th>\n    </tr>\n  </thead>\n  <tbody>\n    <tr>\n      <th>83049</th>\n      <td>S.PAULO</td>\n      <td>2016</td>\n      <td>Maio</td>\n      <td>Consumado</td>\n      <td>Lesão corporal (art 129 § 9º)</td>\n      <td>NaN</td>\n      <td>Residência</td>\n      <td>Vítima</td>\n      <td>M</td>\n      <td>-1.0</td>\n    </tr>\n    <tr>\n      <th>341280</th>\n      <td>S.PAULO</td>\n      <td>2015</td>\n      <td>Outubro</td>\n      <td>Consumado</td>\n      <td>Roubo (art. 157)</td>\n      <td>ESTABELECIMENTO COMERCIAL</td>\n      <td>Comércio e serviços</td>\n      <td>Vítima</td>\n      <td>F</td>\n      <td>-40.0</td>\n    </tr>\n    <tr>\n      <th>542330</th>\n      <td>S.PAULO</td>\n      <td>2014</td>\n      <td>Janeiro</td>\n      <td>Consumado</td>\n      <td>Estupro de vulneravel (art.217-A)</td>\n      <td>NaN</td>\n      <td>Residência</td>\n      <td>Criança</td>\n      <td>M</td>\n      <td>-1.0</td>\n    </tr>\n  </tbody>\n</table>\n</div>",
      "text/plain": "                                          CIDADE  ANO_BO MES_OCORRENCIA_BO  \\\n83049   S.PAULO                                     2016              Maio   \n341280  S.PAULO                                     2015           Outubro   \n542330  S.PAULO                                     2014           Janeiro   \n\n       FLAG_STATUS                            RUBRICA  \\\n83049    Consumado      Lesão corporal (art 129 § 9º)   \n341280   Consumado                   Roubo (art. 157)   \n542330   Consumado  Estupro de vulneravel (art.217-A)   \n\n                    DESCR_CONDUTA                           DESCR_TIPOLOCAL  \\\n83049                         NaN  Residência                                 \n341280  ESTABELECIMENTO COMERCIAL  Comércio e serviços                        \n542330                        NaN  Residência                                 \n\n           DESCR_TIPO_PESSOA SEXO_PESSOA  IDADE_PESSOA  \n83049   Vítima                         M          -1.0  \n341280  Vítima                         F         -40.0  \n542330  Criança                        M          -1.0  "
     },
     "execution_count": 11,
     "metadata": {},
     "output_type": "execute_result"
    }
   ],
   "source": [
    "# TRANSFORMANDO 'IDADE_PESSOA' EM NUMÉRICO\n",
    "df[\"IDADE_PESSOA\"] = df[\"IDADE_PESSOA\"].apply(pd.to_numeric)\n",
    "\n",
    "# VERIFICANDO SE POSSUI PESSOAS COM IDADE NEGATIVA\n",
    "df[df[\"IDADE_PESSOA\"] < 0]"
   ]
  },
  {
   "cell_type": "code",
   "execution_count": 12,
   "metadata": {},
   "outputs": [
    {
     "data": {
      "text/plain": "86"
     },
     "execution_count": 12,
     "metadata": {},
     "output_type": "execute_result"
    }
   ],
   "source": [
    "# VERIFICANDO SE POSSUI PESSOAS COM IDADE MAIOR QUE 120 ANOS\n",
    "len(df[df[\"IDADE_PESSOA\"] > 120])"
   ]
  },
  {
   "cell_type": "code",
   "execution_count": 13,
   "metadata": {},
   "outputs": [],
   "source": [
    "# ARMAZENANDO INDEX DOS REGISTROS QUE POSSUEM 'PESSOA_IDADE' NEGATIVA\n",
    "drop_idx = df[df[\"IDADE_PESSOA\"] < 0].index\n",
    "\n",
    "# ARMAZENANDO INDEX DOS REGISTROS QUE POSSUEM 'PESSOA_IDADE' MAIORES QUE 120\n",
    "drop_idx = drop_idx.append(df[df[\"IDADE_PESSOA\"] > 120].index)"
   ]
  },
  {
   "cell_type": "code",
   "execution_count": 14,
   "metadata": {},
   "outputs": [
    {
     "name": "stdout",
     "output_type": "stream",
     "text": "Total de registros removidos: 89\n"
    }
   ],
   "source": [
    "# PREENCHIMENTO DE VALORES DA FEATURE 'IDADE_PESSOA' UTILIZANDO A MÉDIA DO ATRIBUTO\n",
    "\n",
    "# REMOVENDO REGISTROS COM VALORES DE 'IDADE_PESSOA' NEGATIVOS OU MAIORES QUE 120\n",
    "df.drop(drop_idx, inplace=True)\n",
    "print('Total de registros removidos: {}'.format(len(drop_idx)))\n",
    "\n",
    "# OBTENDO MÉDIA DOS VALORES NÃO NULOS E NÃO ZERADOS\n",
    "df_aux = df[df[\"IDADE_PESSOA\"] != 0]\n",
    "med = round(df_aux[\"IDADE_PESSOA\"].mean())\n",
    "\n",
    "# PREENCHENDO VALORES NULOS E ZERADOS DE 'IDADE_PESSOA'\n",
    "df[[\"IDADE_PESSOA\"]] = df[[\"IDADE_PESSOA\"]].fillna(value=med)\n",
    "df[[\"IDADE_PESSOA\"]] = df[[\"IDADE_PESSOA\"]].replace(0, med)"
   ]
  },
  {
   "cell_type": "code",
   "execution_count": 15,
   "metadata": {},
   "outputs": [
    {
     "data": {
      "text/plain": "CIDADE                0.0\nANO_BO                0.0\nMES_OCORRENCIA_BO     0.0\nFLAG_STATUS           0.0\nRUBRICA               0.0\nDESCR_CONDUTA        19.1\nDESCR_TIPOLOCAL       0.0\nDESCR_TIPO_PESSOA     0.0\nSEXO_PESSOA           0.0\nIDADE_PESSOA          0.0\ndtype: float64"
     },
     "execution_count": 15,
     "metadata": {},
     "output_type": "execute_result"
    }
   ],
   "source": [
    "# PRECENTUAL DE ELEMENTOS NULOS\n",
    "round(df.isnull().mean()*100,2)"
   ]
  },
  {
   "cell_type": "code",
   "execution_count": 16,
   "metadata": {},
   "outputs": [
    {
     "data": {
      "text/plain": "CIDADE               object\nANO_BO                int64\nMES_OCORRENCIA_BO    object\nFLAG_STATUS          object\nRUBRICA              object\nDESCR_CONDUTA        object\nDESCR_TIPOLOCAL      object\nDESCR_TIPO_PESSOA    object\nSEXO_PESSOA          object\nIDADE_PESSOA          int64\ndtype: object"
     },
     "execution_count": 16,
     "metadata": {},
     "output_type": "execute_result"
    }
   ],
   "source": [
    "# CONVERSÃO DE DADOS DAS FEATURES 'ANO_BO' E 'IDADE_PESSOA' PARA INTEIRO\n",
    "df[\"ANO_BO\"].astype('int', copy=False)\n",
    "df[\"IDADE_PESSOA\"] = df[\"IDADE_PESSOA\"].astype('int')\n",
    "df.dtypes"
   ]
  },
  {
   "cell_type": "markdown",
   "metadata": {},
   "outputs": [],
   "source": [
    "**FEATURE 'ANO_BO'**"
   ]
  },
  {
   "cell_type": "code",
   "execution_count": 17,
   "metadata": {},
   "outputs": [
    {
     "data": {
      "text/plain": "2014    387279\n2013    332649\n2015    324866\n2016      3490\n2017        93\nName: ANO_BO, dtype: int64"
     },
     "execution_count": 17,
     "metadata": {},
     "output_type": "execute_result"
    }
   ],
   "source": [
    "# CHECAGEM DE VALORES\n",
    "df[\"ANO_BO\"].value_counts()"
   ]
  },
  {
   "cell_type": "code",
   "execution_count": 18,
   "metadata": {},
   "outputs": [
    {
     "name": "stdout",
     "output_type": "stream",
     "text": "Total de registros removidos: 3583\n"
    }
   ],
   "source": [
    "# REMOVENDO DADOS DE 2016 E 2017 POIS A PROPOSTA É TRABALHAR APENAS COM OS ANOS 2013, 2014 E 2015\n",
    "\n",
    "# ARMAZENANDO INDEX DOS REGISTROS DE 2016\n",
    "drop_idx = df[df[\"ANO_BO\"] == 2016].index\n",
    "\n",
    "# ARMAZENANDO INDEX DOS REGISTROS DE 2017\n",
    "drop_idx = drop_idx.append(df[df[\"ANO_BO\"] == 2017].index)\n",
    "\n",
    "# REMOVENDO REGISTROS\n",
    "df.drop(drop_idx, inplace=True)\n",
    "print('Total de registros removidos: {}'.format(len(drop_idx)))"
   ]
  },
  {
   "cell_type": "code",
   "execution_count": 19,
   "metadata": {},
   "outputs": [
    {
     "data": {
      "text/plain": "2014    387279\n2013    332649\n2015    324866\nName: ANO_BO, dtype: int64"
     },
     "execution_count": 19,
     "metadata": {},
     "output_type": "execute_result"
    }
   ],
   "source": [
    "# NOVA CHECAGEM DE VALORES\n",
    "df[\"ANO_BO\"].value_counts()"
   ]
  },
  {
   "cell_type": "markdown",
   "metadata": {},
   "outputs": [],
   "source": [
    "**FEATURE 'CIDADE'**"
   ]
  },
  {
   "cell_type": "code",
   "execution_count": 20,
   "metadata": {},
   "outputs": [
    {
     "data": {
      "text/plain": "S.PAULO                                     1042513\nSao Paulo                                      1672\nOSASCO                                           90\nGUARULHOS                                        75\nDIADEMA                                          59\n                                             ...   \nCAMPINA MONTE ALEGRE                              1\nADAMANTINA                                        1\nDUMONT                                            1\nBALBINOS                                          1\nITAI                                              1\nName: CIDADE, Length: 87, dtype: int64"
     },
     "execution_count": 20,
     "metadata": {},
     "output_type": "execute_result"
    }
   ],
   "source": [
    "# CHECAGEM DE VALORES\n",
    "df[\"CIDADE\"].value_counts()"
   ]
  },
  {
   "cell_type": "code",
   "execution_count": 21,
   "metadata": {},
   "outputs": [],
   "source": [
    "# UNIFICANDO VALORES DIFERENTES DE 'SÃO PAULO'\n",
    "\n",
    "df_aux = pd.DataFrame(df[df[\"CIDADE\"].str.contains(\"S.PAULO\")])\n",
    "df_aux[\"CIDADE\"] = \"SAO PAULO\"\n",
    "df.update(df_aux)\n",
    "\n",
    "df_aux = pd.DataFrame(df[df[\"CIDADE\"].str.contains(\"Sao Paulo\")])\n",
    "df_aux[\"CIDADE\"] = \"SAO PAULO\"\n",
    "df.update(df_aux)"
   ]
  },
  {
   "cell_type": "code",
   "execution_count": 22,
   "metadata": {},
   "outputs": [
    {
     "data": {
      "text/plain": "SAO PAULO                                   1044185\nOSASCO                                           90\nGUARULHOS                                        75\nDIADEMA                                          59\nITAPECERICA DA SERRA                             34\n                                             ...   \nCAMPINA MONTE ALEGRE                              1\nADAMANTINA                                        1\nDUMONT                                            1\nBALBINOS                                          1\nITAI                                              1\nName: CIDADE, Length: 86, dtype: int64"
     },
     "execution_count": 22,
     "metadata": {},
     "output_type": "execute_result"
    }
   ],
   "source": [
    "# NOVA CHECAGEM DE VALORES\n",
    "df[\"CIDADE\"].value_counts()"
   ]
  },
  {
   "cell_type": "markdown",
   "metadata": {},
   "outputs": [],
   "source": [
    "**FEATURE 'FLAG_STATUS'**"
   ]
  },
  {
   "cell_type": "code",
   "execution_count": 23,
   "metadata": {},
   "outputs": [
    {
     "data": {
      "text/plain": "Consumado    1038197\nTentado         6597\nName: FLAG_STATUS, dtype: int64"
     },
     "execution_count": 23,
     "metadata": {},
     "output_type": "execute_result"
    }
   ],
   "source": [
    "# CHECAGEM DE VALORES\n",
    "df[\"FLAG_STATUS\"].value_counts()"
   ]
  },
  {
   "cell_type": "markdown",
   "metadata": {},
   "outputs": [],
   "source": [
    "**FEATURE 'RUBRICA'**"
   ]
  },
  {
   "cell_type": "code",
   "execution_count": 24,
   "metadata": {},
   "outputs": [
    {
     "data": {
      "text/plain": "Roubo (art. 157)                                                          472765\nFurto (art. 155)                                                          285325\nLesão corporal (art. 129)                                                  83209\nFurto qualificado (art. 155, §4o.)                                         78176\nLesão corporal culposa na direção de veículo automotor (Art. 303)          67968\nLesão corporal (art 129 § 9º)                                              20344\nHomicídio simples (art. 121)                                                8952\nA.I.-Roubo (art. 157)                                                       7703\nA.I.-Lesão corporal (art. 129)                                              4287\nEstupro de vulneravel (art.217-A)                                           3904\nLesão corporal culposa (art. 129. §6o.)                                     2956\nEstupro (art.213)                                                           2141\nHomicídio culposo na direção de veículo automotor (Art. 302)                1828\nHomicídio qualificado (art. 121, §2o.)                                      1499\nA.I.-Furto (art. 155)                                                       1152\nA.I.-Furto qualificado (art. 155, §4o.)                                      681\nA.I.-Estupro de vulneravel (art.217-A)                                       438\nLesão corporal de natureza GRAVE (art. 129, §1o.)                            349\nA.I.-Lesão corporal culposa na direção de veículo automotor (Art. 303)       314\nA.I.-Homicídio simples (art. 121)                                            174\nA.I.-Lesão corporal (art 129 § 9º)                                           144\nHomicídio culposo (art. 121, §3o.)                                           128\nFurto de coisa comum (art. 156)                                              102\nA.I.-Estupro (art.213)                                                        63\nLesão corporal  de natureza 'GRAVÍSSIMA' (art. 129, §2o.)                     47\nA.I.-Homicídio qualificado (art. 121, §2o.)                                   44\nLesão corporal seguida de morte (art. 129, §3o.)                              38\nA.I.-Lesão corporal culposa (art. 129. §6o.)                                  29\nA.I.-Homicídio culposo na direção de veículo automotor (Art. 302)             17\nA.I.-Lesão corporal de natureza GRAVE (art. 129, §1o.)                        12\nA.I.-Furto de coisa comum (art. 156)                                           2\nA.I.-Homicídio culposo (art. 121, §3o.)                                        2\nA.I.-Lesão corporal  de natureza 'GRAVÍSSIMA' (art. 129, §2o.)                 1\nName: RUBRICA, dtype: int64"
     },
     "execution_count": 24,
     "metadata": {},
     "output_type": "execute_result"
    }
   ],
   "source": [
    "# CHECAGEM DE VALORES\n",
    "df[\"RUBRICA\"].value_counts()"
   ]
  },
  {
   "cell_type": "markdown",
   "metadata": {},
   "outputs": [],
   "source": [
    "**FEATURE 'DESCR_CONDUTA'**"
   ]
  },
  {
   "cell_type": "code",
   "execution_count": 25,
   "metadata": {},
   "outputs": [
    {
     "data": {
      "text/plain": "TRANSEUNTE                      274239\nVEICULO                         216654\nNaN                             199166\nOUTROS                           88168\nINTERIOR DE VEICULO              86635\nINTERIOR TRANSPORTE COLETIVO     47957\nRESIDENCIA                       43447\nINTERIOR ESTABELECIMENTO         37450\nESTABELECIMENTO COMERCIAL        22107\nCARGA                            15851\nESTABELECIMENTO BANCARIO          4541\nESTABELECIMENTO-OUTROS            4243\nCOLETIVO                          1657\nESTABELECIMENTO ENSINO            1135\nCONDOMINIO RESIDENCIAL            1072\nSaidinha de Banco                  234\nCONDOMINIO COMERCIAL               143\nCaixa Eletrônico                    78\nJOALHERIA                           17\nName: DESCR_CONDUTA, dtype: int64"
     },
     "execution_count": 25,
     "metadata": {},
     "output_type": "execute_result"
    }
   ],
   "source": [
    "# CHECAGEM DE VALORES\n",
    "df[\"DESCR_CONDUTA\"].value_counts(dropna=False)"
   ]
  },
  {
   "cell_type": "markdown",
   "metadata": {},
   "outputs": [],
   "source": [
    "**FEATURE 'DESCR_TIPOLOCAL'**"
   ]
  },
  {
   "cell_type": "code",
   "execution_count": 26,
   "metadata": {},
   "outputs": [
    {
     "data": {
      "text/plain": "Via pública                                 619227\nOutros                                      161597\nResidência                                  112321\nComércio e serviços                          55517\nTerminal/Estação                             18326\nEstabelecimento bancário                     14441\nRestaurante e afins                          12150\nLazer e recreação                             7731\nEstabelecimento de ensino                     7580\nSaúde                                         5505\nCondominio Residencial                        4522\nShopping Center                               3247\nCentro Comerc./Empresarial                    3023\nRodovia/Estrada                               2945\nHospedagem                                    2826\nArea não ocupada                              2752\nEscritório                                    2050\nEntidade assistencial                         2044\nRepartição Pública                            1776\nCondominio Comercial                          1302\nTemplo e afins                                 974\nServiços e bens públicos                       819\nEstabelecimento industrial                     664\nEstabelecimento prisional                      655\nFavela                                         279\nEstrada de ferro                               200\nUnidade rural                                  140\nLocal clandestino/ilegal                       108\nSindicato                                       64\nCarro Forte                                      9\nName: DESCR_TIPOLOCAL, dtype: int64"
     },
     "execution_count": 26,
     "metadata": {},
     "output_type": "execute_result"
    }
   ],
   "source": [
    "# CHECAGEM DE VALORES\n",
    "df[\"DESCR_TIPOLOCAL\"].value_counts()"
   ]
  },
  {
   "cell_type": "markdown",
   "metadata": {},
   "outputs": [],
   "source": [
    "**FEATURE 'DESCR_TIPO_PESSOA'**"
   ]
  },
  {
   "cell_type": "code",
   "execution_count": 27,
   "metadata": {},
   "outputs": [
    {
     "data": {
      "text/plain": "Vítima                  1013499\nAutor/Vitima              21640\nAdolescente                7004\nCriança                    2047\nAdolescente Inf/Vit         238\nEncontrado                  232\nDesaparecido                106\nVítima de Suicídio           28\nName: DESCR_TIPO_PESSOA, dtype: int64"
     },
     "execution_count": 27,
     "metadata": {},
     "output_type": "execute_result"
    }
   ],
   "source": [
    "# CHECAGEM DE VALORES\n",
    "df[\"DESCR_TIPO_PESSOA\"].value_counts()"
   ]
  },
  {
   "cell_type": "markdown",
   "metadata": {},
   "outputs": [],
   "source": [
    "### 4) **(60%)** Nos blocos seguintes construa análises que vão justificar suas conclusões."
   ]
  },
  {
   "cell_type": "markdown",
   "metadata": {},
   "outputs": [],
   "source": [
    "#### 4.1) **(20%)** Análise 1 -  Distribuição dos valores para cada uma das variáveis\n",
    "- Exemplo para variável contínua: se o conjunto de dados possui a variável \"idade\". Quantos % possui a idade entre 0 e 30 anos? 31 a 59? 60+?\n",
    "\n",
    "- Exemplo para variável discreta: se o conjunto de dados possui a variável \"gênero\", quantos % do conjunto de dados é do sexo feminino, quantos % é masculino? Inclua outros gêneros se houver.\n"
   ]
  },
  {
   "cell_type": "markdown",
   "execution_count": 28,
   "metadata": {},
   "outputs": [
    {
     "data": {
      "text/html": "<div>\n<style scoped>\n    .dataframe tbody tr th:only-of-type {\n        vertical-align: middle;\n    }\n\n    .dataframe tbody tr th {\n        vertical-align: top;\n    }\n\n    .dataframe thead th {\n        text-align: right;\n    }\n</style>\n<table border=\"1\" class=\"dataframe\">\n  <thead>\n    <tr style=\"text-align: right;\">\n      <th></th>\n      <th>CIDADE</th>\n      <th>ANO_BO</th>\n      <th>MES_OCORRENCIA_BO</th>\n      <th>FLAG_STATUS</th>\n      <th>RUBRICA</th>\n      <th>DESCR_CONDUTA</th>\n      <th>DESCR_TIPOLOCAL</th>\n      <th>DESCR_TIPO_PESSOA</th>\n      <th>SEXO_PESSOA</th>\n      <th>IDADE_PESSOA</th>\n    </tr>\n  </thead>\n  <tbody>\n    <tr>\n      <th>0</th>\n      <td>SAO PAULO</td>\n      <td>2013.0</td>\n      <td>Janeiro</td>\n      <td>Consumado</td>\n      <td>Roubo (art. 157)</td>\n      <td>OUTROS</td>\n      <td>Terminal/Estação</td>\n      <td>Vítima</td>\n      <td>M</td>\n      <td>29.0</td>\n    </tr>\n    <tr>\n      <th>1</th>\n      <td>SAO PAULO</td>\n      <td>2013.0</td>\n      <td>Janeiro</td>\n      <td>Consumado</td>\n      <td>Roubo (art. 157)</td>\n      <td>TRANSEUNTE</td>\n      <td>Via pública</td>\n      <td>Vítima</td>\n      <td>F</td>\n      <td>41.0</td>\n    </tr>\n    <tr>\n      <th>2</th>\n      <td>SAO PAULO</td>\n      <td>2013.0</td>\n      <td>Janeiro</td>\n      <td>Consumado</td>\n      <td>Furto qualificado (art. 155, §4o.)</td>\n      <td>OUTROS</td>\n      <td>Terminal/Estação</td>\n      <td>Vítima</td>\n      <td>M</td>\n      <td>29.0</td>\n    </tr>\n    <tr>\n      <th>3</th>\n      <td>SAO PAULO</td>\n      <td>2013.0</td>\n      <td>Janeiro</td>\n      <td>Consumado</td>\n      <td>Furto (art. 155)</td>\n      <td>OUTROS</td>\n      <td>Terminal/Estação</td>\n      <td>Vítima</td>\n      <td>M</td>\n      <td>39.0</td>\n    </tr>\n    <tr>\n      <th>4</th>\n      <td>SAO PAULO</td>\n      <td>2013.0</td>\n      <td>Janeiro</td>\n      <td>Consumado</td>\n      <td>Roubo (art. 157)</td>\n      <td>OUTROS</td>\n      <td>Terminal/Estação</td>\n      <td>Vítima</td>\n      <td>F</td>\n      <td>34.0</td>\n    </tr>\n  </tbody>\n</table>\n</div>",
      "text/plain": "      CIDADE  ANO_BO MES_OCORRENCIA_BO FLAG_STATUS  \\\n0  SAO PAULO  2013.0           Janeiro   Consumado   \n1  SAO PAULO  2013.0           Janeiro   Consumado   \n2  SAO PAULO  2013.0           Janeiro   Consumado   \n3  SAO PAULO  2013.0           Janeiro   Consumado   \n4  SAO PAULO  2013.0           Janeiro   Consumado   \n\n                              RUBRICA DESCR_CONDUTA  \\\n0                    Roubo (art. 157)        OUTROS   \n1                    Roubo (art. 157)    TRANSEUNTE   \n2  Furto qualificado (art. 155, §4o.)        OUTROS   \n3                    Furto (art. 155)        OUTROS   \n4                    Roubo (art. 157)        OUTROS   \n\n                            DESCR_TIPOLOCAL     DESCR_TIPO_PESSOA SEXO_PESSOA  \\\n0  Terminal/Estação                          Vítima                         M   \n1  Via pública                               Vítima                         F   \n2  Terminal/Estação                          Vítima                         M   \n3  Terminal/Estação                          Vítima                         M   \n4  Terminal/Estação                          Vítima                         F   \n\n   IDADE_PESSOA  \n0          29.0  \n1          41.0  \n2          29.0  \n3          39.0  \n4          34.0  "
     },
     "execution_count": 28,
     "metadata": {},
     "output_type": "execute_result"
    }
   ],
   "source": [
    "### FEATURE 'CIDADE'\n",
    "\n",
    "**Top 5 cidades com maior número de ocorrências**"
   ]
  },
  {
   "cell_type": "code",
   "execution_count": 31,
   "metadata": {},
   "outputs": [
    {
     "data": {
      "text/plain": "SAO PAULO                                   1044185\nOSASCO                                           90\nGUARULHOS                                        75\nDIADEMA                                          59\nITAPECERICA DA SERRA                             34\nName: CIDADE, dtype: int64"
     },
     "execution_count": 31,
     "metadata": {},
     "output_type": "execute_result"
    }
   ],
   "source": [
    "df['CIDADE'].value_counts().head()"
   ]
  },
  {
   "cell_type": "markdown",
   "execution_count": null,
   "metadata": {},
   "outputs": [],
   "source": [
    "### FEATURE 'ANO_BO'\n",
    "\n",
    "**Distribuição de Ocorrências por Ano**"
   ]
  },
  {
   "cell_type": "code",
   "execution_count": 36,
   "metadata": {},
   "outputs": [
    {
     "data": {
      "image/png": "[encoded data removed]",
      "image/svg+xml": "<?xml version=\"1.0\" encoding=\"utf-8\" standalone=\"no\"?>\n<!DOCTYPE svg PUBLIC \"-//W3C//DTD SVG 1.1//EN\"\n  \"http://www.w3.org/Graphics/SVG/1.1/DTD/svg11.dtd\">\n<!-- Created with matplotlib (https://matplotlib.org/) -->\n<svg height=\"303.106875pt\" version=\"1.1\" viewBox=\"0 0 392.14375 303.106875\" width=\"392.14375pt\" xmlns=\"http://www.w3.org/2000/svg\" xmlns:xlink=\"http://www.w3.org/1999/xlink\">\n <defs>\n  <style type=\"text/css\">\n*{stroke-linecap:butt;stroke-linejoin:round;}\n  </style>\n </defs>\n <g id=\"figure_1\">\n  <g id=\"patch_1\">\n   <path d=\"M 0 303.106875 \nL 392.14375 303.106875 \nL 392.14375 0 \nL 0 0 \nz\n\" style=\"fill:none;\"/>\n  </g>\n  <g id=\"axes_1\">\n   <g id=\"patch_2\">\n    <path d=\"M 50.14375 240.238125 \nL 384.94375 240.238125 \nL 384.94375 22.798125 \nL 50.14375 22.798125 \nz\n\" style=\"fill:#ffffff;\"/>\n   </g>\n   <g id=\"patch_3\">\n    <path clip-path=\"url(#p52fb71d0f2)\" d=\"M 78.04375 240.238125 \nL 133.84375 240.238125 \nL 133.84375 33.152411 \nL 78.04375 33.152411 \nz\n\" style=\"fill:#1f77b4;\"/>\n   </g>\n   <g id=\"patch_4\">\n    <path clip-path=\"url(#p52fb71d0f2)\" d=\"M 189.64375 240.238125 \nL 245.44375 240.238125 \nL 245.44375 62.364148 \nL 189.64375 62.364148 \nz\n\" style=\"fill:#1f77b4;\"/>\n   </g>\n   <g id=\"patch_5\">\n    <path clip-path=\"url(#p52fb71d0f2)\" d=\"M 301.24375 240.238125 \nL 357.04375 240.238125 \nL 357.04375 66.525872 \nL 301.24375 66.525872 \nz\n\" style=\"fill:#1f77b4;\"/>\n   </g>\n   <g id=\"matplotlib.axis_1\">\n    <g id=\"xtick_1\">\n     <g id=\"line2d_1\">\n      <defs>\n       <path d=\"M 0 0 \nL 0 3.5 \n\" id=\"m94ae90292e\" style=\"stroke:#000000;stroke-width:0.8;\"/>\n      </defs>\n      <g>\n       <use style=\"stroke:#000000;stroke-width:0.8;\" x=\"105.94375\" xlink:href=\"#m94ae90292e\" y=\"240.238125\"/>\n      </g>\n     </g>\n     <g id=\"text_1\">\n      <!-- 2014.0 -->\n      <defs>\n       <path d=\"M 19.1875 8.296875 \nL 53.609375 8.296875 \nL 53.609375 0 \nL 7.328125 0 \nL 7.328125 8.296875 \nQ 12.9375 14.109375 22.625 23.890625 \nQ 32.328125 33.6875 34.8125 36.53125 \nQ 39.546875 41.84375 41.421875 45.53125 \nQ 43.3125 49.21875 43.3125 52.78125 \nQ 43.3125 58.59375 39.234375 62.25 \nQ 35.15625 65.921875 28.609375 65.921875 \nQ 23.96875 65.921875 18.8125 64.3125 \nQ 13.671875 62.703125 7.8125 59.421875 \nL 7.8125 69.390625 \nQ 13.765625 71.78125 18.9375 73 \nQ 24.125 74.21875 28.421875 74.21875 \nQ 39.75 74.21875 46.484375 68.546875 \nQ 53.21875 62.890625 53.21875 53.421875 \nQ 53.21875 48.921875 51.53125 44.890625 \nQ 49.859375 40.875 45.40625 35.40625 \nQ 44.1875 33.984375 37.640625 27.21875 \nQ 31.109375 20.453125 19.1875 8.296875 \nz\n\" id=\"DejaVuSans-50\"/>\n       <path d=\"M 31.78125 66.40625 \nQ 24.171875 66.40625 20.328125 58.90625 \nQ 16.5 51.421875 16.5 36.375 \nQ 16.5 21.390625 20.328125 13.890625 \nQ 24.171875 6.390625 31.78125 6.390625 \nQ 39.453125 6.390625 43.28125 13.890625 \nQ 47.125 21.390625 47.125 36.375 \nQ 47.125 51.421875 43.28125 58.90625 \nQ 39.453125 66.40625 31.78125 66.40625 \nz\nM 31.78125 74.21875 \nQ 44.046875 74.21875 50.515625 64.515625 \nQ 56.984375 54.828125 56.984375 36.375 \nQ 56.984375 17.96875 50.515625 8.265625 \nQ 44.046875 -1.421875 31.78125 -1.421875 \nQ 19.53125 -1.421875 13.0625 8.265625 \nQ 6.59375 17.96875 6.59375 36.375 \nQ 6.59375 54.828125 13.0625 64.515625 \nQ 19.53125 74.21875 31.78125 74.21875 \nz\n\" id=\"DejaVuSans-48\"/>\n       <path d=\"M 12.40625 8.296875 \nL 28.515625 8.296875 \nL 28.515625 63.921875 \nL 10.984375 60.40625 \nL 10.984375 69.390625 \nL 28.421875 72.90625 \nL 38.28125 72.90625 \nL 38.28125 8.296875 \nL 54.390625 8.296875 \nL 54.390625 0 \nL 12.40625 0 \nz\n\" id=\"DejaVuSans-49\"/>\n       <path d=\"M 37.796875 64.3125 \nL 12.890625 25.390625 \nL 37.796875 25.390625 \nz\nM 35.203125 72.90625 \nL 47.609375 72.90625 \nL 47.609375 25.390625 \nL 58.015625 25.390625 \nL 58.015625 17.1875 \nL 47.609375 17.1875 \nL 47.609375 0 \nL 37.796875 0 \nL 37.796875 17.1875 \nL 4.890625 17.1875 \nL 4.890625 26.703125 \nz\n\" id=\"DejaVuSans-52\"/>\n       <path d=\"M 10.6875 12.40625 \nL 21 12.40625 \nL 21 0 \nL 10.6875 0 \nz\n\" id=\"DejaVuSans-46\"/>\n      </defs>\n      <g transform=\"translate(108.703125 282.22875)rotate(-90)scale(0.1 -0.1)\">\n       <use xlink:href=\"#DejaVuSans-50\"/>\n       <use x=\"63.623047\" xlink:href=\"#DejaVuSans-48\"/>\n       <use x=\"127.246094\" xlink:href=\"#DejaVuSans-49\"/>\n       <use x=\"190.869141\" xlink:href=\"#DejaVuSans-52\"/>\n       <use x=\"254.492188\" xlink:href=\"#DejaVuSans-46\"/>\n       <use x=\"286.279297\" xlink:href=\"#DejaVuSans-48\"/>\n      </g>\n     </g>\n    </g>\n    <g id=\"xtick_2\">\n     <g id=\"line2d_2\">\n      <g>\n       <use style=\"stroke:#000000;stroke-width:0.8;\" x=\"217.54375\" xlink:href=\"#m94ae90292e\" y=\"240.238125\"/>\n      </g>\n     </g>\n     <g id=\"text_2\">\n      <!-- 2013.0 -->\n      <defs>\n       <path d=\"M 40.578125 39.3125 \nQ 47.65625 37.796875 51.625 33 \nQ 55.609375 28.21875 55.609375 21.1875 \nQ 55.609375 10.40625 48.1875 4.484375 \nQ 40.765625 -1.421875 27.09375 -1.421875 \nQ 22.515625 -1.421875 17.65625 -0.515625 \nQ 12.796875 0.390625 7.625 2.203125 \nL 7.625 11.71875 \nQ 11.71875 9.328125 16.59375 8.109375 \nQ 21.484375 6.890625 26.8125 6.890625 \nQ 36.078125 6.890625 40.9375 10.546875 \nQ 45.796875 14.203125 45.796875 21.1875 \nQ 45.796875 27.640625 41.28125 31.265625 \nQ 36.765625 34.90625 28.71875 34.90625 \nL 20.21875 34.90625 \nL 20.21875 43.015625 \nL 29.109375 43.015625 \nQ 36.375 43.015625 40.234375 45.921875 \nQ 44.09375 48.828125 44.09375 54.296875 \nQ 44.09375 59.90625 40.109375 62.90625 \nQ 36.140625 65.921875 28.71875 65.921875 \nQ 24.65625 65.921875 20.015625 65.03125 \nQ 15.375 64.15625 9.8125 62.3125 \nL 9.8125 71.09375 \nQ 15.4375 72.65625 20.34375 73.4375 \nQ 25.25 74.21875 29.59375 74.21875 \nQ 40.828125 74.21875 47.359375 69.109375 \nQ 53.90625 64.015625 53.90625 55.328125 \nQ 53.90625 49.265625 50.4375 45.09375 \nQ 46.96875 40.921875 40.578125 39.3125 \nz\n\" id=\"DejaVuSans-51\"/>\n      </defs>\n      <g transform=\"translate(220.303125 282.22875)rotate(-90)scale(0.1 -0.1)\">\n       <use xlink:href=\"#DejaVuSans-50\"/>\n       <use x=\"63.623047\" xlink:href=\"#DejaVuSans-48\"/>\n       <use x=\"127.246094\" xlink:href=\"#DejaVuSans-49\"/>\n       <use x=\"190.869141\" xlink:href=\"#DejaVuSans-51\"/>\n       <use x=\"254.492188\" xlink:href=\"#DejaVuSans-46\"/>\n       <use x=\"286.279297\" xlink:href=\"#DejaVuSans-48\"/>\n      </g>\n     </g>\n    </g>\n    <g id=\"xtick_3\">\n     <g id=\"line2d_3\">\n      <g>\n       <use style=\"stroke:#000000;stroke-width:0.8;\" x=\"329.14375\" xlink:href=\"#m94ae90292e\" y=\"240.238125\"/>\n      </g>\n     </g>\n     <g id=\"text_3\">\n      <!-- 2015.0 -->\n      <defs>\n       <path d=\"M 10.796875 72.90625 \nL 49.515625 72.90625 \nL 49.515625 64.59375 \nL 19.828125 64.59375 \nL 19.828125 46.734375 \nQ 21.96875 47.46875 24.109375 47.828125 \nQ 26.265625 48.1875 28.421875 48.1875 \nQ 40.625 48.1875 47.75 41.5 \nQ 54.890625 34.8125 54.890625 23.390625 \nQ 54.890625 11.625 47.5625 5.09375 \nQ 40.234375 -1.421875 26.90625 -1.421875 \nQ 22.3125 -1.421875 17.546875 -0.640625 \nQ 12.796875 0.140625 7.71875 1.703125 \nL 7.71875 11.625 \nQ 12.109375 9.234375 16.796875 8.0625 \nQ 21.484375 6.890625 26.703125 6.890625 \nQ 35.15625 6.890625 40.078125 11.328125 \nQ 45.015625 15.765625 45.015625 23.390625 \nQ 45.015625 31 40.078125 35.4375 \nQ 35.15625 39.890625 26.703125 39.890625 \nQ 22.75 39.890625 18.8125 39.015625 \nQ 14.890625 38.140625 10.796875 36.28125 \nz\n\" id=\"DejaVuSans-53\"/>\n      </defs>\n      <g transform=\"translate(331.903125 282.22875)rotate(-90)scale(0.1 -0.1)\">\n       <use xlink:href=\"#DejaVuSans-50\"/>\n       <use x=\"63.623047\" xlink:href=\"#DejaVuSans-48\"/>\n       <use x=\"127.246094\" xlink:href=\"#DejaVuSans-49\"/>\n       <use x=\"190.869141\" xlink:href=\"#DejaVuSans-53\"/>\n       <use x=\"254.492188\" xlink:href=\"#DejaVuSans-46\"/>\n       <use x=\"286.279297\" xlink:href=\"#DejaVuSans-48\"/>\n      </g>\n     </g>\n    </g>\n    <g id=\"text_4\">\n     <!-- Ano -->\n     <defs>\n      <path d=\"M 34.1875 63.1875 \nL 20.796875 26.90625 \nL 47.609375 26.90625 \nz\nM 28.609375 72.90625 \nL 39.796875 72.90625 \nL 67.578125 0 \nL 57.328125 0 \nL 50.6875 18.703125 \nL 17.828125 18.703125 \nL 11.1875 0 \nL 0.78125 0 \nz\n\" id=\"DejaVuSans-65\"/>\n      <path d=\"M 54.890625 33.015625 \nL 54.890625 0 \nL 45.90625 0 \nL 45.90625 32.71875 \nQ 45.90625 40.484375 42.875 44.328125 \nQ 39.84375 48.1875 33.796875 48.1875 \nQ 26.515625 48.1875 22.3125 43.546875 \nQ 18.109375 38.921875 18.109375 30.90625 \nL 18.109375 0 \nL 9.078125 0 \nL 9.078125 54.6875 \nL 18.109375 54.6875 \nL 18.109375 46.1875 \nQ 21.34375 51.125 25.703125 53.5625 \nQ 30.078125 56 35.796875 56 \nQ 45.21875 56 50.046875 50.171875 \nQ 54.890625 44.34375 54.890625 33.015625 \nz\n\" id=\"DejaVuSans-110\"/>\n      <path d=\"M 30.609375 48.390625 \nQ 23.390625 48.390625 19.1875 42.75 \nQ 14.984375 37.109375 14.984375 27.296875 \nQ 14.984375 17.484375 19.15625 11.84375 \nQ 23.34375 6.203125 30.609375 6.203125 \nQ 37.796875 6.203125 41.984375 11.859375 \nQ 46.1875 17.53125 46.1875 27.296875 \nQ 46.1875 37.015625 41.984375 42.703125 \nQ 37.796875 48.390625 30.609375 48.390625 \nz\nM 30.609375 56 \nQ 42.328125 56 49.015625 48.375 \nQ 55.71875 40.765625 55.71875 27.296875 \nQ 55.71875 13.875 49.015625 6.21875 \nQ 42.328125 -1.421875 30.609375 -1.421875 \nQ 18.84375 -1.421875 12.171875 6.21875 \nQ 5.515625 13.875 5.515625 27.296875 \nQ 5.515625 40.765625 12.171875 48.375 \nQ 18.84375 56 30.609375 56 \nz\n\" id=\"DejaVuSans-111\"/>\n     </defs>\n     <g transform=\"translate(207.895313 293.827187)scale(0.1 -0.1)\">\n      <use xlink:href=\"#DejaVuSans-65\"/>\n      <use x=\"68.408203\" xlink:href=\"#DejaVuSans-110\"/>\n      <use x=\"131.787109\" xlink:href=\"#DejaVuSans-111\"/>\n     </g>\n    </g>\n   </g>\n   <g id=\"matplotlib.axis_2\">\n    <g id=\"ytick_1\">\n     <g id=\"line2d_4\">\n      <defs>\n       <path d=\"M 0 0 \nL -3.5 0 \n\" id=\"m21aa0fcc2a\" style=\"stroke:#000000;stroke-width:0.8;\"/>\n      </defs>\n      <g>\n       <use style=\"stroke:#000000;stroke-width:0.8;\" x=\"50.14375\" xlink:href=\"#m21aa0fcc2a\" y=\"240.238125\"/>\n      </g>\n     </g>\n     <g id=\"text_5\">\n      <!-- 0.00 -->\n      <g transform=\"translate(20.878125 244.037344)scale(0.1 -0.1)\">\n       <use xlink:href=\"#DejaVuSans-48\"/>\n       <use x=\"63.623047\" xlink:href=\"#DejaVuSans-46\"/>\n       <use x=\"95.410156\" xlink:href=\"#DejaVuSans-48\"/>\n       <use x=\"159.033203\" xlink:href=\"#DejaVuSans-48\"/>\n      </g>\n     </g>\n    </g>\n    <g id=\"ytick_2\">\n     <g id=\"line2d_5\">\n      <g>\n       <use style=\"stroke:#000000;stroke-width:0.8;\" x=\"50.14375\" xlink:href=\"#m21aa0fcc2a\" y=\"212.304528\"/>\n      </g>\n     </g>\n     <g id=\"text_6\">\n      <!-- 0.05 -->\n      <g transform=\"translate(20.878125 216.103747)scale(0.1 -0.1)\">\n       <use xlink:href=\"#DejaVuSans-48\"/>\n       <use x=\"63.623047\" xlink:href=\"#DejaVuSans-46\"/>\n       <use x=\"95.410156\" xlink:href=\"#DejaVuSans-48\"/>\n       <use x=\"159.033203\" xlink:href=\"#DejaVuSans-53\"/>\n      </g>\n     </g>\n    </g>\n    <g id=\"ytick_3\">\n     <g id=\"line2d_6\">\n      <g>\n       <use style=\"stroke:#000000;stroke-width:0.8;\" x=\"50.14375\" xlink:href=\"#m21aa0fcc2a\" y=\"184.370931\"/>\n      </g>\n     </g>\n     <g id=\"text_7\">\n      <!-- 0.10 -->\n      <g transform=\"translate(20.878125 188.170149)scale(0.1 -0.1)\">\n       <use xlink:href=\"#DejaVuSans-48\"/>\n       <use x=\"63.623047\" xlink:href=\"#DejaVuSans-46\"/>\n       <use x=\"95.410156\" xlink:href=\"#DejaVuSans-49\"/>\n       <use x=\"159.033203\" xlink:href=\"#DejaVuSans-48\"/>\n      </g>\n     </g>\n    </g>\n    <g id=\"ytick_4\">\n     <g id=\"line2d_7\">\n      <g>\n       <use style=\"stroke:#000000;stroke-width:0.8;\" x=\"50.14375\" xlink:href=\"#m21aa0fcc2a\" y=\"156.437333\"/>\n      </g>\n     </g>\n     <g id=\"text_8\">\n      <!-- 0.15 -->\n      <g transform=\"translate(20.878125 160.236552)scale(0.1 -0.1)\">\n       <use xlink:href=\"#DejaVuSans-48\"/>\n       <use x=\"63.623047\" xlink:href=\"#DejaVuSans-46\"/>\n       <use x=\"95.410156\" xlink:href=\"#DejaVuSans-49\"/>\n       <use x=\"159.033203\" xlink:href=\"#DejaVuSans-53\"/>\n      </g>\n     </g>\n    </g>\n    <g id=\"ytick_5\">\n     <g id=\"line2d_8\">\n      <g>\n       <use style=\"stroke:#000000;stroke-width:0.8;\" x=\"50.14375\" xlink:href=\"#m21aa0fcc2a\" y=\"128.503736\"/>\n      </g>\n     </g>\n     <g id=\"text_9\">\n      <!-- 0.20 -->\n      <g transform=\"translate(20.878125 132.302955)scale(0.1 -0.1)\">\n       <use xlink:href=\"#DejaVuSans-48\"/>\n       <use x=\"63.623047\" xlink:href=\"#DejaVuSans-46\"/>\n       <use x=\"95.410156\" xlink:href=\"#DejaVuSans-50\"/>\n       <use x=\"159.033203\" xlink:href=\"#DejaVuSans-48\"/>\n      </g>\n     </g>\n    </g>\n    <g id=\"ytick_6\">\n     <g id=\"line2d_9\">\n      <g>\n       <use style=\"stroke:#000000;stroke-width:0.8;\" x=\"50.14375\" xlink:href=\"#m21aa0fcc2a\" y=\"100.570139\"/>\n      </g>\n     </g>\n     <g id=\"text_10\">\n      <!-- 0.25 -->\n      <g transform=\"translate(20.878125 104.369358)scale(0.1 -0.1)\">\n       <use xlink:href=\"#DejaVuSans-48\"/>\n       <use x=\"63.623047\" xlink:href=\"#DejaVuSans-46\"/>\n       <use x=\"95.410156\" xlink:href=\"#DejaVuSans-50\"/>\n       <use x=\"159.033203\" xlink:href=\"#DejaVuSans-53\"/>\n      </g>\n     </g>\n    </g>\n    <g id=\"ytick_7\">\n     <g id=\"line2d_10\">\n      <g>\n       <use style=\"stroke:#000000;stroke-width:0.8;\" x=\"50.14375\" xlink:href=\"#m21aa0fcc2a\" y=\"72.636542\"/>\n      </g>\n     </g>\n     <g id=\"text_11\">\n      <!-- 0.30 -->\n      <g transform=\"translate(20.878125 76.435761)scale(0.1 -0.1)\">\n       <use xlink:href=\"#DejaVuSans-48\"/>\n       <use x=\"63.623047\" xlink:href=\"#DejaVuSans-46\"/>\n       <use x=\"95.410156\" xlink:href=\"#DejaVuSans-51\"/>\n       <use x=\"159.033203\" xlink:href=\"#DejaVuSans-48\"/>\n      </g>\n     </g>\n    </g>\n    <g id=\"ytick_8\">\n     <g id=\"line2d_11\">\n      <g>\n       <use style=\"stroke:#000000;stroke-width:0.8;\" x=\"50.14375\" xlink:href=\"#m21aa0fcc2a\" y=\"44.702945\"/>\n      </g>\n     </g>\n     <g id=\"text_12\">\n      <!-- 0.35 -->\n      <g transform=\"translate(20.878125 48.502163)scale(0.1 -0.1)\">\n       <use xlink:href=\"#DejaVuSans-48\"/>\n       <use x=\"63.623047\" xlink:href=\"#DejaVuSans-46\"/>\n       <use x=\"95.410156\" xlink:href=\"#DejaVuSans-51\"/>\n       <use x=\"159.033203\" xlink:href=\"#DejaVuSans-53\"/>\n      </g>\n     </g>\n    </g>\n    <g id=\"text_13\">\n     <!-- % Ocorrências -->\n     <defs>\n      <path d=\"M 72.703125 32.078125 \nQ 68.453125 32.078125 66.03125 28.46875 \nQ 63.625 24.859375 63.625 18.40625 \nQ 63.625 12.0625 66.03125 8.421875 \nQ 68.453125 4.78125 72.703125 4.78125 \nQ 76.859375 4.78125 79.265625 8.421875 \nQ 81.6875 12.0625 81.6875 18.40625 \nQ 81.6875 24.8125 79.265625 28.4375 \nQ 76.859375 32.078125 72.703125 32.078125 \nz\nM 72.703125 38.28125 \nQ 80.421875 38.28125 84.953125 32.90625 \nQ 89.5 27.546875 89.5 18.40625 \nQ 89.5 9.28125 84.9375 3.921875 \nQ 80.375 -1.421875 72.703125 -1.421875 \nQ 64.890625 -1.421875 60.34375 3.921875 \nQ 55.8125 9.28125 55.8125 18.40625 \nQ 55.8125 27.59375 60.375 32.9375 \nQ 64.9375 38.28125 72.703125 38.28125 \nz\nM 22.3125 68.015625 \nQ 18.109375 68.015625 15.6875 64.375 \nQ 13.28125 60.75 13.28125 54.390625 \nQ 13.28125 47.953125 15.671875 44.328125 \nQ 18.0625 40.71875 22.3125 40.71875 \nQ 26.5625 40.71875 28.96875 44.328125 \nQ 31.390625 47.953125 31.390625 54.390625 \nQ 31.390625 60.6875 28.953125 64.34375 \nQ 26.515625 68.015625 22.3125 68.015625 \nz\nM 66.40625 74.21875 \nL 74.21875 74.21875 \nL 28.609375 -1.421875 \nL 20.796875 -1.421875 \nz\nM 22.3125 74.21875 \nQ 30.03125 74.21875 34.609375 68.875 \nQ 39.203125 63.53125 39.203125 54.390625 \nQ 39.203125 45.171875 34.640625 39.84375 \nQ 30.078125 34.515625 22.3125 34.515625 \nQ 14.546875 34.515625 10.03125 39.859375 \nQ 5.515625 45.21875 5.515625 54.390625 \nQ 5.515625 63.484375 10.046875 68.84375 \nQ 14.59375 74.21875 22.3125 74.21875 \nz\n\" id=\"DejaVuSans-37\"/>\n      <path id=\"DejaVuSans-32\"/>\n      <path d=\"M 39.40625 66.21875 \nQ 28.65625 66.21875 22.328125 58.203125 \nQ 16.015625 50.203125 16.015625 36.375 \nQ 16.015625 22.609375 22.328125 14.59375 \nQ 28.65625 6.59375 39.40625 6.59375 \nQ 50.140625 6.59375 56.421875 14.59375 \nQ 62.703125 22.609375 62.703125 36.375 \nQ 62.703125 50.203125 56.421875 58.203125 \nQ 50.140625 66.21875 39.40625 66.21875 \nz\nM 39.40625 74.21875 \nQ 54.734375 74.21875 63.90625 63.9375 \nQ 73.09375 53.65625 73.09375 36.375 \nQ 73.09375 19.140625 63.90625 8.859375 \nQ 54.734375 -1.421875 39.40625 -1.421875 \nQ 24.03125 -1.421875 14.8125 8.828125 \nQ 5.609375 19.09375 5.609375 36.375 \nQ 5.609375 53.65625 14.8125 63.9375 \nQ 24.03125 74.21875 39.40625 74.21875 \nz\n\" id=\"DejaVuSans-79\"/>\n      <path d=\"M 48.78125 52.59375 \nL 48.78125 44.1875 \nQ 44.96875 46.296875 41.140625 47.34375 \nQ 37.3125 48.390625 33.40625 48.390625 \nQ 24.65625 48.390625 19.8125 42.84375 \nQ 14.984375 37.3125 14.984375 27.296875 \nQ 14.984375 17.28125 19.8125 11.734375 \nQ 24.65625 6.203125 33.40625 6.203125 \nQ 37.3125 6.203125 41.140625 7.25 \nQ 44.96875 8.296875 48.78125 10.40625 \nL 48.78125 2.09375 \nQ 45.015625 0.34375 40.984375 -0.53125 \nQ 36.96875 -1.421875 32.421875 -1.421875 \nQ 20.0625 -1.421875 12.78125 6.34375 \nQ 5.515625 14.109375 5.515625 27.296875 \nQ 5.515625 40.671875 12.859375 48.328125 \nQ 20.21875 56 33.015625 56 \nQ 37.15625 56 41.109375 55.140625 \nQ 45.0625 54.296875 48.78125 52.59375 \nz\n\" id=\"DejaVuSans-99\"/>\n      <path d=\"M 41.109375 46.296875 \nQ 39.59375 47.171875 37.8125 47.578125 \nQ 36.03125 48 33.890625 48 \nQ 26.265625 48 22.1875 43.046875 \nQ 18.109375 38.09375 18.109375 28.8125 \nL 18.109375 0 \nL 9.078125 0 \nL 9.078125 54.6875 \nL 18.109375 54.6875 \nL 18.109375 46.1875 \nQ 20.953125 51.171875 25.484375 53.578125 \nQ 30.03125 56 36.53125 56 \nQ 37.453125 56 38.578125 55.875 \nQ 39.703125 55.765625 41.0625 55.515625 \nz\n\" id=\"DejaVuSans-114\"/>\n      <path d=\"M 56.203125 29.59375 \nL 56.203125 25.203125 \nL 14.890625 25.203125 \nQ 15.484375 15.921875 20.484375 11.0625 \nQ 25.484375 6.203125 34.421875 6.203125 \nQ 39.59375 6.203125 44.453125 7.46875 \nQ 49.3125 8.734375 54.109375 11.28125 \nL 54.109375 2.78125 \nQ 49.265625 0.734375 44.1875 -0.34375 \nQ 39.109375 -1.421875 33.890625 -1.421875 \nQ 20.796875 -1.421875 13.15625 6.1875 \nQ 5.515625 13.8125 5.515625 26.8125 \nQ 5.515625 40.234375 12.765625 48.109375 \nQ 20.015625 56 32.328125 56 \nQ 43.359375 56 49.78125 48.890625 \nQ 56.203125 41.796875 56.203125 29.59375 \nz\nM 47.21875 32.234375 \nQ 47.125 39.59375 43.09375 43.984375 \nQ 39.0625 48.390625 32.421875 48.390625 \nQ 24.90625 48.390625 20.390625 44.140625 \nQ 15.875 39.890625 15.1875 32.171875 \nz\nM 28.171875 79.984375 \nL 35.40625 79.984375 \nL 47.359375 61.625 \nL 40.578125 61.625 \nL 31.78125 73.578125 \nL 23 61.625 \nL 16.21875 61.625 \nz\n\" id=\"DejaVuSans-234\"/>\n      <path d=\"M 9.421875 54.6875 \nL 18.40625 54.6875 \nL 18.40625 0 \nL 9.421875 0 \nz\nM 9.421875 75.984375 \nL 18.40625 75.984375 \nL 18.40625 64.59375 \nL 9.421875 64.59375 \nz\n\" id=\"DejaVuSans-105\"/>\n      <path d=\"M 34.28125 27.484375 \nQ 23.390625 27.484375 19.1875 25 \nQ 14.984375 22.515625 14.984375 16.5 \nQ 14.984375 11.71875 18.140625 8.90625 \nQ 21.296875 6.109375 26.703125 6.109375 \nQ 34.1875 6.109375 38.703125 11.40625 \nQ 43.21875 16.703125 43.21875 25.484375 \nL 43.21875 27.484375 \nz\nM 52.203125 31.203125 \nL 52.203125 0 \nL 43.21875 0 \nL 43.21875 8.296875 \nQ 40.140625 3.328125 35.546875 0.953125 \nQ 30.953125 -1.421875 24.3125 -1.421875 \nQ 15.921875 -1.421875 10.953125 3.296875 \nQ 6 8.015625 6 15.921875 \nQ 6 25.140625 12.171875 29.828125 \nQ 18.359375 34.515625 30.609375 34.515625 \nL 43.21875 34.515625 \nL 43.21875 35.40625 \nQ 43.21875 41.609375 39.140625 45 \nQ 35.0625 48.390625 27.6875 48.390625 \nQ 23 48.390625 18.546875 47.265625 \nQ 14.109375 46.140625 10.015625 43.890625 \nL 10.015625 52.203125 \nQ 14.9375 54.109375 19.578125 55.046875 \nQ 24.21875 56 28.609375 56 \nQ 40.484375 56 46.34375 49.84375 \nQ 52.203125 43.703125 52.203125 31.203125 \nz\n\" id=\"DejaVuSans-97\"/>\n      <path d=\"M 44.28125 53.078125 \nL 44.28125 44.578125 \nQ 40.484375 46.53125 36.375 47.5 \nQ 32.28125 48.484375 27.875 48.484375 \nQ 21.1875 48.484375 17.84375 46.4375 \nQ 14.5 44.390625 14.5 40.28125 \nQ 14.5 37.15625 16.890625 35.375 \nQ 19.28125 33.59375 26.515625 31.984375 \nL 29.59375 31.296875 \nQ 39.15625 29.25 43.1875 25.515625 \nQ 47.21875 21.78125 47.21875 15.09375 \nQ 47.21875 7.46875 41.1875 3.015625 \nQ 35.15625 -1.421875 24.609375 -1.421875 \nQ 20.21875 -1.421875 15.453125 -0.5625 \nQ 10.6875 0.296875 5.421875 2 \nL 5.421875 11.28125 \nQ 10.40625 8.6875 15.234375 7.390625 \nQ 20.0625 6.109375 24.8125 6.109375 \nQ 31.15625 6.109375 34.5625 8.28125 \nQ 37.984375 10.453125 37.984375 14.40625 \nQ 37.984375 18.0625 35.515625 20.015625 \nQ 33.0625 21.96875 24.703125 23.78125 \nL 21.578125 24.515625 \nQ 13.234375 26.265625 9.515625 29.90625 \nQ 5.8125 33.546875 5.8125 39.890625 \nQ 5.8125 47.609375 11.28125 51.796875 \nQ 16.75 56 26.8125 56 \nQ 31.78125 56 36.171875 55.265625 \nQ 40.578125 54.546875 44.28125 53.078125 \nz\n\" id=\"DejaVuSans-115\"/>\n     </defs>\n     <g transform=\"translate(14.798438 167.763438)rotate(-90)scale(0.1 -0.1)\">\n      <use xlink:href=\"#DejaVuSans-37\"/>\n      <use x=\"95.019531\" xlink:href=\"#DejaVuSans-32\"/>\n      <use x=\"126.806641\" xlink:href=\"#DejaVuSans-79\"/>\n      <use x=\"205.517578\" xlink:href=\"#DejaVuSans-99\"/>\n      <use x=\"260.498047\" xlink:href=\"#DejaVuSans-111\"/>\n      <use x=\"321.679688\" xlink:href=\"#DejaVuSans-114\"/>\n      <use x=\"362.777344\" xlink:href=\"#DejaVuSans-114\"/>\n      <use x=\"403.859375\" xlink:href=\"#DejaVuSans-234\"/>\n      <use x=\"465.382812\" xlink:href=\"#DejaVuSans-110\"/>\n      <use x=\"528.761719\" xlink:href=\"#DejaVuSans-99\"/>\n      <use x=\"583.742188\" xlink:href=\"#DejaVuSans-105\"/>\n      <use x=\"611.525391\" xlink:href=\"#DejaVuSans-97\"/>\n      <use x=\"672.804688\" xlink:href=\"#DejaVuSans-115\"/>\n     </g>\n    </g>\n   </g>\n   <g id=\"patch_6\">\n    <path d=\"M 50.14375 240.238125 \nL 50.14375 22.798125 \n\" style=\"fill:none;stroke:#000000;stroke-linecap:square;stroke-linejoin:miter;stroke-width:0.8;\"/>\n   </g>\n   <g id=\"patch_7\">\n    <path d=\"M 384.94375 240.238125 \nL 384.94375 22.798125 \n\" style=\"fill:none;stroke:#000000;stroke-linecap:square;stroke-linejoin:miter;stroke-width:0.8;\"/>\n   </g>\n   <g id=\"patch_8\">\n    <path d=\"M 50.14375 240.238125 \nL 384.94375 240.238125 \n\" style=\"fill:none;stroke:#000000;stroke-linecap:square;stroke-linejoin:miter;stroke-width:0.8;\"/>\n   </g>\n   <g id=\"patch_9\">\n    <path d=\"M 50.14375 22.798125 \nL 384.94375 22.798125 \n\" style=\"fill:none;stroke:#000000;stroke-linecap:square;stroke-linejoin:miter;stroke-width:0.8;\"/>\n   </g>\n   <g id=\"text_14\">\n    <!-- Disitribuição de Ocorrências por Ano -->\n    <defs>\n     <path d=\"M 19.671875 64.796875 \nL 19.671875 8.109375 \nL 31.59375 8.109375 \nQ 46.6875 8.109375 53.6875 14.9375 \nQ 60.6875 21.78125 60.6875 36.53125 \nQ 60.6875 51.171875 53.6875 57.984375 \nQ 46.6875 64.796875 31.59375 64.796875 \nz\nM 9.8125 72.90625 \nL 30.078125 72.90625 \nQ 51.265625 72.90625 61.171875 64.09375 \nQ 71.09375 55.28125 71.09375 36.53125 \nQ 71.09375 17.671875 61.125 8.828125 \nQ 51.171875 0 30.078125 0 \nL 9.8125 0 \nz\n\" id=\"DejaVuSans-68\"/>\n     <path d=\"M 18.3125 70.21875 \nL 18.3125 54.6875 \nL 36.8125 54.6875 \nL 36.8125 47.703125 \nL 18.3125 47.703125 \nL 18.3125 18.015625 \nQ 18.3125 11.328125 20.140625 9.421875 \nQ 21.96875 7.515625 27.59375 7.515625 \nL 36.8125 7.515625 \nL 36.8125 0 \nL 27.59375 0 \nQ 17.1875 0 13.234375 3.875 \nQ 9.28125 7.765625 9.28125 18.015625 \nL 9.28125 47.703125 \nL 2.6875 47.703125 \nL 2.6875 54.6875 \nL 9.28125 54.6875 \nL 9.28125 70.21875 \nz\n\" id=\"DejaVuSans-116\"/>\n     <path d=\"M 48.6875 27.296875 \nQ 48.6875 37.203125 44.609375 42.84375 \nQ 40.53125 48.484375 33.40625 48.484375 \nQ 26.265625 48.484375 22.1875 42.84375 \nQ 18.109375 37.203125 18.109375 27.296875 \nQ 18.109375 17.390625 22.1875 11.75 \nQ 26.265625 6.109375 33.40625 6.109375 \nQ 40.53125 6.109375 44.609375 11.75 \nQ 48.6875 17.390625 48.6875 27.296875 \nz\nM 18.109375 46.390625 \nQ 20.953125 51.265625 25.265625 53.625 \nQ 29.59375 56 35.59375 56 \nQ 45.5625 56 51.78125 48.09375 \nQ 58.015625 40.1875 58.015625 27.296875 \nQ 58.015625 14.40625 51.78125 6.484375 \nQ 45.5625 -1.421875 35.59375 -1.421875 \nQ 29.59375 -1.421875 25.265625 0.953125 \nQ 20.953125 3.328125 18.109375 8.203125 \nL 18.109375 0 \nL 9.078125 0 \nL 9.078125 75.984375 \nL 18.109375 75.984375 \nz\n\" id=\"DejaVuSans-98\"/>\n     <path d=\"M 8.5 21.578125 \nL 8.5 54.6875 \nL 17.484375 54.6875 \nL 17.484375 21.921875 \nQ 17.484375 14.15625 20.5 10.265625 \nQ 23.53125 6.390625 29.59375 6.390625 \nQ 36.859375 6.390625 41.078125 11.03125 \nQ 45.3125 15.671875 45.3125 23.6875 \nL 45.3125 54.6875 \nL 54.296875 54.6875 \nL 54.296875 0 \nL 45.3125 0 \nL 45.3125 8.40625 \nQ 42.046875 3.421875 37.71875 1 \nQ 33.40625 -1.421875 27.6875 -1.421875 \nQ 18.265625 -1.421875 13.375 4.4375 \nQ 8.5 10.296875 8.5 21.578125 \nz\nM 31.109375 56 \nz\n\" id=\"DejaVuSans-117\"/>\n     <path d=\"M 48.78125 52.59375 \nL 48.78125 44.1875 \nQ 44.96875 46.296875 41.140625 47.34375 \nQ 37.3125 48.390625 33.40625 48.390625 \nQ 24.65625 48.390625 19.8125 42.84375 \nQ 14.984375 37.3125 14.984375 27.296875 \nQ 14.984375 17.28125 19.8125 11.734375 \nQ 24.65625 6.203125 33.40625 6.203125 \nQ 37.3125 6.203125 41.140625 7.25 \nQ 44.96875 8.296875 48.78125 10.40625 \nL 48.78125 2.09375 \nQ 45.015625 0.34375 40.984375 -0.53125 \nQ 36.96875 -1.421875 32.421875 -1.421875 \nQ 20.0625 -1.421875 12.78125 6.34375 \nQ 5.515625 14.109375 5.515625 27.296875 \nQ 5.515625 40.671875 12.859375 48.328125 \nQ 20.21875 56 33.015625 56 \nQ 37.15625 56 41.109375 55.140625 \nQ 45.0625 54.296875 48.78125 52.59375 \nz\nM 36.078125 0 \nQ 38.765625 -3.03125 40.078125 -5.59375 \nQ 41.40625 -8.15625 41.40625 -10.5 \nQ 41.40625 -14.84375 38.46875 -17.0625 \nQ 35.546875 -19.28125 29.78125 -19.28125 \nQ 27.546875 -19.28125 25.421875 -18.984375 \nQ 23.296875 -18.703125 21.1875 -18.109375 \nL 21.1875 -11.71875 \nQ 22.859375 -12.546875 24.65625 -12.90625 \nQ 26.46875 -13.28125 28.765625 -13.28125 \nQ 31.640625 -13.28125 33.109375 -12.109375 \nQ 34.578125 -10.9375 34.578125 -8.6875 \nQ 34.578125 -7.234375 33.515625 -5.109375 \nQ 32.46875 -2.984375 30.28125 0 \nz\n\" id=\"DejaVuSans-231\"/>\n     <path d=\"M 34.28125 27.484375 \nQ 23.390625 27.484375 19.1875 25 \nQ 14.984375 22.515625 14.984375 16.5 \nQ 14.984375 11.71875 18.140625 8.90625 \nQ 21.296875 6.109375 26.703125 6.109375 \nQ 34.1875 6.109375 38.703125 11.40625 \nQ 43.21875 16.703125 43.21875 25.484375 \nL 43.21875 27.484375 \nz\nM 52.203125 31.203125 \nL 52.203125 0 \nL 43.21875 0 \nL 43.21875 8.296875 \nQ 40.140625 3.328125 35.546875 0.953125 \nQ 30.953125 -1.421875 24.3125 -1.421875 \nQ 15.921875 -1.421875 10.953125 3.296875 \nQ 6 8.015625 6 15.921875 \nQ 6 25.140625 12.171875 29.828125 \nQ 18.359375 34.515625 30.609375 34.515625 \nL 43.21875 34.515625 \nL 43.21875 35.40625 \nQ 43.21875 41.609375 39.140625 45 \nQ 35.0625 48.390625 27.6875 48.390625 \nQ 23 48.390625 18.546875 47.265625 \nQ 14.109375 46.140625 10.015625 43.890625 \nL 10.015625 52.203125 \nQ 14.9375 54.109375 19.578125 55.046875 \nQ 24.21875 56 28.609375 56 \nQ 40.484375 56 46.34375 49.84375 \nQ 52.203125 43.703125 52.203125 31.203125 \nz\nM 28.8125 66.890625 \nL 26.03125 69.578125 \nQ 24.953125 70.5625 24.140625 71.015625 \nQ 23.34375 71.484375 22.703125 71.484375 \nQ 20.84375 71.484375 19.96875 69.703125 \nQ 19.09375 67.921875 19 63.921875 \nL 12.890625 63.921875 \nQ 12.984375 70.515625 15.46875 74.09375 \nQ 17.96875 77.6875 22.40625 77.6875 \nQ 24.265625 77.6875 25.828125 77 \nQ 27.390625 76.3125 29.203125 74.703125 \nL 31.984375 72.015625 \nQ 33.0625 71.046875 33.859375 70.578125 \nQ 34.671875 70.125 35.296875 70.125 \nQ 37.15625 70.125 38.03125 71.90625 \nQ 38.921875 73.6875 39.015625 77.6875 \nL 45.125 77.6875 \nQ 45.015625 71.09375 42.53125 67.5 \nQ 40.046875 63.921875 35.59375 63.921875 \nQ 33.734375 63.921875 32.171875 64.59375 \nQ 30.609375 65.28125 28.8125 66.890625 \nz\n\" id=\"DejaVuSans-227\"/>\n     <path d=\"M 45.40625 46.390625 \nL 45.40625 75.984375 \nL 54.390625 75.984375 \nL 54.390625 0 \nL 45.40625 0 \nL 45.40625 8.203125 \nQ 42.578125 3.328125 38.25 0.953125 \nQ 33.9375 -1.421875 27.875 -1.421875 \nQ 17.96875 -1.421875 11.734375 6.484375 \nQ 5.515625 14.40625 5.515625 27.296875 \nQ 5.515625 40.1875 11.734375 48.09375 \nQ 17.96875 56 27.875 56 \nQ 33.9375 56 38.25 53.625 \nQ 42.578125 51.265625 45.40625 46.390625 \nz\nM 14.796875 27.296875 \nQ 14.796875 17.390625 18.875 11.75 \nQ 22.953125 6.109375 30.078125 6.109375 \nQ 37.203125 6.109375 41.296875 11.75 \nQ 45.40625 17.390625 45.40625 27.296875 \nQ 45.40625 37.203125 41.296875 42.84375 \nQ 37.203125 48.484375 30.078125 48.484375 \nQ 22.953125 48.484375 18.875 42.84375 \nQ 14.796875 37.203125 14.796875 27.296875 \nz\n\" id=\"DejaVuSans-100\"/>\n     <path d=\"M 56.203125 29.59375 \nL 56.203125 25.203125 \nL 14.890625 25.203125 \nQ 15.484375 15.921875 20.484375 11.0625 \nQ 25.484375 6.203125 34.421875 6.203125 \nQ 39.59375 6.203125 44.453125 7.46875 \nQ 49.3125 8.734375 54.109375 11.28125 \nL 54.109375 2.78125 \nQ 49.265625 0.734375 44.1875 -0.34375 \nQ 39.109375 -1.421875 33.890625 -1.421875 \nQ 20.796875 -1.421875 13.15625 6.1875 \nQ 5.515625 13.8125 5.515625 26.8125 \nQ 5.515625 40.234375 12.765625 48.109375 \nQ 20.015625 56 32.328125 56 \nQ 43.359375 56 49.78125 48.890625 \nQ 56.203125 41.796875 56.203125 29.59375 \nz\nM 47.21875 32.234375 \nQ 47.125 39.59375 43.09375 43.984375 \nQ 39.0625 48.390625 32.421875 48.390625 \nQ 24.90625 48.390625 20.390625 44.140625 \nQ 15.875 39.890625 15.1875 32.171875 \nz\n\" id=\"DejaVuSans-101\"/>\n     <path d=\"M 18.109375 8.203125 \nL 18.109375 -20.796875 \nL 9.078125 -20.796875 \nL 9.078125 54.6875 \nL 18.109375 54.6875 \nL 18.109375 46.390625 \nQ 20.953125 51.265625 25.265625 53.625 \nQ 29.59375 56 35.59375 56 \nQ 45.5625 56 51.78125 48.09375 \nQ 58.015625 40.1875 58.015625 27.296875 \nQ 58.015625 14.40625 51.78125 6.484375 \nQ 45.5625 -1.421875 35.59375 -1.421875 \nQ 29.59375 -1.421875 25.265625 0.953125 \nQ 20.953125 3.328125 18.109375 8.203125 \nz\nM 48.6875 27.296875 \nQ 48.6875 37.203125 44.609375 42.84375 \nQ 40.53125 48.484375 33.40625 48.484375 \nQ 26.265625 48.484375 22.1875 42.84375 \nQ 18.109375 37.203125 18.109375 27.296875 \nQ 18.109375 17.390625 22.1875 11.75 \nQ 26.265625 6.109375 33.40625 6.109375 \nQ 40.53125 6.109375 44.609375 11.75 \nQ 48.6875 17.390625 48.6875 27.296875 \nz\n\" id=\"DejaVuSans-112\"/>\n    </defs>\n    <g transform=\"translate(107.513125 16.798125)scale(0.12 -0.12)\">\n     <use xlink:href=\"#DejaVuSans-68\"/>\n     <use x=\"77.001953\" xlink:href=\"#DejaVuSans-105\"/>\n     <use x=\"104.785156\" xlink:href=\"#DejaVuSans-115\"/>\n     <use x=\"156.884766\" xlink:href=\"#DejaVuSans-105\"/>\n     <use x=\"184.667969\" xlink:href=\"#DejaVuSans-116\"/>\n     <use x=\"223.876953\" xlink:href=\"#DejaVuSans-114\"/>\n     <use x=\"264.990234\" xlink:href=\"#DejaVuSans-105\"/>\n     <use x=\"292.773438\" xlink:href=\"#DejaVuSans-98\"/>\n     <use x=\"356.25\" xlink:href=\"#DejaVuSans-117\"/>\n     <use x=\"419.628906\" xlink:href=\"#DejaVuSans-105\"/>\n     <use x=\"447.412109\" xlink:href=\"#DejaVuSans-231\"/>\n     <use x=\"502.392578\" xlink:href=\"#DejaVuSans-227\"/>\n     <use x=\"563.671875\" xlink:href=\"#DejaVuSans-111\"/>\n     <use x=\"624.853516\" xlink:href=\"#DejaVuSans-32\"/>\n     <use x=\"656.640625\" xlink:href=\"#DejaVuSans-100\"/>\n     <use x=\"720.117188\" xlink:href=\"#DejaVuSans-101\"/>\n     <use x=\"781.640625\" xlink:href=\"#DejaVuSans-32\"/>\n     <use x=\"813.427734\" xlink:href=\"#DejaVuSans-79\"/>\n     <use x=\"892.138672\" xlink:href=\"#DejaVuSans-99\"/>\n     <use x=\"947.119141\" xlink:href=\"#DejaVuSans-111\"/>\n     <use x=\"1008.300781\" xlink:href=\"#DejaVuSans-114\"/>\n     <use x=\"1049.398438\" xlink:href=\"#DejaVuSans-114\"/>\n     <use x=\"1090.480469\" xlink:href=\"#DejaVuSans-234\"/>\n     <use x=\"1152.003906\" xlink:href=\"#DejaVuSans-110\"/>\n     <use x=\"1215.382812\" xlink:href=\"#DejaVuSans-99\"/>\n     <use x=\"1270.363281\" xlink:href=\"#DejaVuSans-105\"/>\n     <use x=\"1298.146484\" xlink:href=\"#DejaVuSans-97\"/>\n     <use x=\"1359.425781\" xlink:href=\"#DejaVuSans-115\"/>\n     <use x=\"1411.525391\" xlink:href=\"#DejaVuSans-32\"/>\n     <use x=\"1443.3125\" xlink:href=\"#DejaVuSans-112\"/>\n     <use x=\"1506.789062\" xlink:href=\"#DejaVuSans-111\"/>\n     <use x=\"1567.970703\" xlink:href=\"#DejaVuSans-114\"/>\n     <use x=\"1609.083984\" xlink:href=\"#DejaVuSans-32\"/>\n     <use x=\"1640.871094\" xlink:href=\"#DejaVuSans-65\"/>\n     <use x=\"1709.279297\" xlink:href=\"#DejaVuSans-110\"/>\n     <use x=\"1772.658203\" xlink:href=\"#DejaVuSans-111\"/>\n    </g>\n   </g>\n  </g>\n </g>\n <defs>\n  <clipPath id=\"p52fb71d0f2\">\n   <rect height=\"217.44\" width=\"334.8\" x=\"50.14375\" y=\"22.798125\"/>\n  </clipPath>\n </defs>\n</svg>\n",
      "text/plain": "<Figure size 432x288 with 1 Axes>"
     },
     "metadata": {
      "needs_background": "light"
     },
     "output_type": "display_data"
    }
   ],
   "source": [
    "df['ANO_BO'].value_counts(normalize=True).plot(kind='bar')\n",
    "plt.ylabel('% Ocorrências')\n",
    "plt.xlabel('Ano')\n",
    "plt.title('Disitribuição de Ocorrências por Ano')\n",
    "plt.show()"
   ]
  },
  {
   "cell_type": "markdown",
   "execution_count": null,
   "metadata": {},
   "outputs": [],
   "source": [
    "### FEATURE 'MES_OCORRENCIA_BO'\n",
    "\n",
    "**Distribuição de Ocorrências por Mês**"
   ]
  },
  {
   "cell_type": "code",
   "execution_count": 52,
   "metadata": {},
   "outputs": [
    {
     "data": {
      "image/png": "[encoded data removed]",
      "image/svg+xml": "<?xml version=\"1.0\" encoding=\"utf-8\" standalone=\"no\"?>\n<!DOCTYPE svg PUBLIC \"-//W3C//DTD SVG 1.1//EN\"\n  \"http://www.w3.org/Graphics/SVG/1.1/DTD/svg11.dtd\">\n<!-- Created with matplotlib (https://matplotlib.org/) -->\n<svg height=\"277.794375pt\" version=\"1.1\" viewBox=\"0 0 440.953125 277.794375\" width=\"440.953125pt\" xmlns=\"http://www.w3.org/2000/svg\" xmlns:xlink=\"http://www.w3.org/1999/xlink\">\n <defs>\n  <style type=\"text/css\">\n*{stroke-linecap:butt;stroke-linejoin:round;}\n  </style>\n </defs>\n <g id=\"figure_1\">\n  <g id=\"patch_1\">\n   <path d=\"M 0 277.794375 \nL 440.953125 277.794375 \nL 440.953125 0 \nL 0 0 \nz\n\" style=\"fill:none;\"/>\n  </g>\n  <g id=\"axes_1\">\n   <g id=\"patch_2\">\n    <path d=\"M 79.865625 240.238125 \nL 414.665625 240.238125 \nL 414.665625 22.798125 \nL 79.865625 22.798125 \nz\n\" style=\"fill:#ffffff;\"/>\n   </g>\n   <g id=\"patch_3\">\n    <path clip-path=\"url(#p30d2e4a83d)\" d=\"M 79.865625 235.708125 \nL 398.280513 235.708125 \nL 398.280513 226.648125 \nL 79.865625 226.648125 \nz\n\" style=\"fill:#1f77b4;\"/>\n   </g>\n   <g id=\"patch_4\">\n    <path clip-path=\"url(#p30d2e4a83d)\" d=\"M 79.865625 217.588125 \nL 395.086521 217.588125 \nL 395.086521 208.528125 \nL 79.865625 208.528125 \nz\n\" style=\"fill:#1f77b4;\"/>\n   </g>\n   <g id=\"patch_5\">\n    <path clip-path=\"url(#p30d2e4a83d)\" d=\"M 79.865625 199.468125 \nL 393.228381 199.468125 \nL 393.228381 190.408125 \nL 79.865625 190.408125 \nz\n\" style=\"fill:#1f77b4;\"/>\n   </g>\n   <g id=\"patch_6\">\n    <path clip-path=\"url(#p30d2e4a83d)\" d=\"M 79.865625 181.348125 \nL 379.026165 181.348125 \nL 379.026165 172.288125 \nL 79.865625 172.288125 \nz\n\" style=\"fill:#1f77b4;\"/>\n   </g>\n   <g id=\"patch_7\">\n    <path clip-path=\"url(#p30d2e4a83d)\" d=\"M 79.865625 163.228125 \nL 377.666877 163.228125 \nL 377.666877 154.168125 \nL 79.865625 154.168125 \nz\n\" style=\"fill:#1f77b4;\"/>\n   </g>\n   <g id=\"patch_8\">\n    <path clip-path=\"url(#p30d2e4a83d)\" d=\"M 79.865625 145.108125 \nL 371.904969 145.108125 \nL 371.904969 136.048125 \nL 79.865625 136.048125 \nz\n\" style=\"fill:#1f77b4;\"/>\n   </g>\n   <g id=\"patch_9\">\n    <path clip-path=\"url(#p30d2e4a83d)\" d=\"M 79.865625 126.988125 \nL 368.717673 126.988125 \nL 368.717673 117.928125 \nL 79.865625 117.928125 \nz\n\" style=\"fill:#1f77b4;\"/>\n   </g>\n   <g id=\"patch_10\">\n    <path clip-path=\"url(#p30d2e4a83d)\" d=\"M 79.865625 108.868125 \nL 365.496897 108.868125 \nL 365.496897 99.808125 \nL 79.865625 99.808125 \nz\n\" style=\"fill:#1f77b4;\"/>\n   </g>\n   <g id=\"patch_11\">\n    <path clip-path=\"url(#p30d2e4a83d)\" d=\"M 79.865625 90.748125 \nL 358.864509 90.748125 \nL 358.864509 81.688125 \nL 79.865625 81.688125 \nz\n\" style=\"fill:#1f77b4;\"/>\n   </g>\n   <g id=\"patch_12\">\n    <path clip-path=\"url(#p30d2e4a83d)\" d=\"M 79.865625 72.628125 \nL 358.338873 72.628125 \nL 358.338873 63.568125 \nL 79.865625 63.568125 \nz\n\" style=\"fill:#1f77b4;\"/>\n   </g>\n   <g id=\"patch_13\">\n    <path clip-path=\"url(#p30d2e4a83d)\" d=\"M 79.865625 54.508125 \nL 347.879721 54.508125 \nL 347.879721 45.448125 \nL 79.865625 45.448125 \nz\n\" style=\"fill:#1f77b4;\"/>\n   </g>\n   <g id=\"patch_14\">\n    <path clip-path=\"url(#p30d2e4a83d)\" d=\"M 79.865625 36.388125 \nL 341.866713 36.388125 \nL 341.866713 27.328125 \nL 79.865625 27.328125 \nz\n\" style=\"fill:#1f77b4;\"/>\n   </g>\n   <g id=\"matplotlib.axis_1\">\n    <g id=\"xtick_1\">\n     <g id=\"line2d_1\">\n      <defs>\n       <path d=\"M 0 0 \nL 0 3.5 \n\" id=\"md440a08cc4\" style=\"stroke:#000000;stroke-width:0.8;\"/>\n      </defs>\n      <g>\n       <use style=\"stroke:#000000;stroke-width:0.8;\" x=\"79.865625\" xlink:href=\"#md440a08cc4\" y=\"240.238125\"/>\n      </g>\n     </g>\n     <g id=\"text_1\">\n      <!-- 0 -->\n      <defs>\n       <path d=\"M 31.78125 66.40625 \nQ 24.171875 66.40625 20.328125 58.90625 \nQ 16.5 51.421875 16.5 36.375 \nQ 16.5 21.390625 20.328125 13.890625 \nQ 24.171875 6.390625 31.78125 6.390625 \nQ 39.453125 6.390625 43.28125 13.890625 \nQ 47.125 21.390625 47.125 36.375 \nQ 47.125 51.421875 43.28125 58.90625 \nQ 39.453125 66.40625 31.78125 66.40625 \nz\nM 31.78125 74.21875 \nQ 44.046875 74.21875 50.515625 64.515625 \nQ 56.984375 54.828125 56.984375 36.375 \nQ 56.984375 17.96875 50.515625 8.265625 \nQ 44.046875 -1.421875 31.78125 -1.421875 \nQ 19.53125 -1.421875 13.0625 8.265625 \nQ 6.59375 17.96875 6.59375 36.375 \nQ 6.59375 54.828125 13.0625 64.515625 \nQ 19.53125 74.21875 31.78125 74.21875 \nz\n\" id=\"DejaVuSans-48\"/>\n      </defs>\n      <g transform=\"translate(76.684375 254.836563)scale(0.1 -0.1)\">\n       <use xlink:href=\"#DejaVuSans-48\"/>\n      </g>\n     </g>\n    </g>\n    <g id=\"xtick_2\">\n     <g id=\"line2d_2\">\n      <g>\n       <use style=\"stroke:#000000;stroke-width:0.8;\" x=\"146.825625\" xlink:href=\"#md440a08cc4\" y=\"240.238125\"/>\n      </g>\n     </g>\n     <g id=\"text_2\">\n      <!-- 20000 -->\n      <defs>\n       <path d=\"M 19.1875 8.296875 \nL 53.609375 8.296875 \nL 53.609375 0 \nL 7.328125 0 \nL 7.328125 8.296875 \nQ 12.9375 14.109375 22.625 23.890625 \nQ 32.328125 33.6875 34.8125 36.53125 \nQ 39.546875 41.84375 41.421875 45.53125 \nQ 43.3125 49.21875 43.3125 52.78125 \nQ 43.3125 58.59375 39.234375 62.25 \nQ 35.15625 65.921875 28.609375 65.921875 \nQ 23.96875 65.921875 18.8125 64.3125 \nQ 13.671875 62.703125 7.8125 59.421875 \nL 7.8125 69.390625 \nQ 13.765625 71.78125 18.9375 73 \nQ 24.125 74.21875 28.421875 74.21875 \nQ 39.75 74.21875 46.484375 68.546875 \nQ 53.21875 62.890625 53.21875 53.421875 \nQ 53.21875 48.921875 51.53125 44.890625 \nQ 49.859375 40.875 45.40625 35.40625 \nQ 44.1875 33.984375 37.640625 27.21875 \nQ 31.109375 20.453125 19.1875 8.296875 \nz\n\" id=\"DejaVuSans-50\"/>\n      </defs>\n      <g transform=\"translate(130.919375 254.836563)scale(0.1 -0.1)\">\n       <use xlink:href=\"#DejaVuSans-50\"/>\n       <use x=\"63.623047\" xlink:href=\"#DejaVuSans-48\"/>\n       <use x=\"127.246094\" xlink:href=\"#DejaVuSans-48\"/>\n       <use x=\"190.869141\" xlink:href=\"#DejaVuSans-48\"/>\n       <use x=\"254.492188\" xlink:href=\"#DejaVuSans-48\"/>\n      </g>\n     </g>\n    </g>\n    <g id=\"xtick_3\">\n     <g id=\"line2d_3\">\n      <g>\n       <use style=\"stroke:#000000;stroke-width:0.8;\" x=\"213.785625\" xlink:href=\"#md440a08cc4\" y=\"240.238125\"/>\n      </g>\n     </g>\n     <g id=\"text_3\">\n      <!-- 40000 -->\n      <defs>\n       <path d=\"M 37.796875 64.3125 \nL 12.890625 25.390625 \nL 37.796875 25.390625 \nz\nM 35.203125 72.90625 \nL 47.609375 72.90625 \nL 47.609375 25.390625 \nL 58.015625 25.390625 \nL 58.015625 17.1875 \nL 47.609375 17.1875 \nL 47.609375 0 \nL 37.796875 0 \nL 37.796875 17.1875 \nL 4.890625 17.1875 \nL 4.890625 26.703125 \nz\n\" id=\"DejaVuSans-52\"/>\n      </defs>\n      <g transform=\"translate(197.879375 254.836563)scale(0.1 -0.1)\">\n       <use xlink:href=\"#DejaVuSans-52\"/>\n       <use x=\"63.623047\" xlink:href=\"#DejaVuSans-48\"/>\n       <use x=\"127.246094\" xlink:href=\"#DejaVuSans-48\"/>\n       <use x=\"190.869141\" xlink:href=\"#DejaVuSans-48\"/>\n       <use x=\"254.492188\" xlink:href=\"#DejaVuSans-48\"/>\n      </g>\n     </g>\n    </g>\n    <g id=\"xtick_4\">\n     <g id=\"line2d_4\">\n      <g>\n       <use style=\"stroke:#000000;stroke-width:0.8;\" x=\"280.745625\" xlink:href=\"#md440a08cc4\" y=\"240.238125\"/>\n      </g>\n     </g>\n     <g id=\"text_4\">\n      <!-- 60000 -->\n      <defs>\n       <path d=\"M 33.015625 40.375 \nQ 26.375 40.375 22.484375 35.828125 \nQ 18.609375 31.296875 18.609375 23.390625 \nQ 18.609375 15.53125 22.484375 10.953125 \nQ 26.375 6.390625 33.015625 6.390625 \nQ 39.65625 6.390625 43.53125 10.953125 \nQ 47.40625 15.53125 47.40625 23.390625 \nQ 47.40625 31.296875 43.53125 35.828125 \nQ 39.65625 40.375 33.015625 40.375 \nz\nM 52.59375 71.296875 \nL 52.59375 62.3125 \nQ 48.875 64.0625 45.09375 64.984375 \nQ 41.3125 65.921875 37.59375 65.921875 \nQ 27.828125 65.921875 22.671875 59.328125 \nQ 17.53125 52.734375 16.796875 39.40625 \nQ 19.671875 43.65625 24.015625 45.921875 \nQ 28.375 48.1875 33.59375 48.1875 \nQ 44.578125 48.1875 50.953125 41.515625 \nQ 57.328125 34.859375 57.328125 23.390625 \nQ 57.328125 12.15625 50.6875 5.359375 \nQ 44.046875 -1.421875 33.015625 -1.421875 \nQ 20.359375 -1.421875 13.671875 8.265625 \nQ 6.984375 17.96875 6.984375 36.375 \nQ 6.984375 53.65625 15.1875 63.9375 \nQ 23.390625 74.21875 37.203125 74.21875 \nQ 40.921875 74.21875 44.703125 73.484375 \nQ 48.484375 72.75 52.59375 71.296875 \nz\n\" id=\"DejaVuSans-54\"/>\n      </defs>\n      <g transform=\"translate(264.839375 254.836563)scale(0.1 -0.1)\">\n       <use xlink:href=\"#DejaVuSans-54\"/>\n       <use x=\"63.623047\" xlink:href=\"#DejaVuSans-48\"/>\n       <use x=\"127.246094\" xlink:href=\"#DejaVuSans-48\"/>\n       <use x=\"190.869141\" xlink:href=\"#DejaVuSans-48\"/>\n       <use x=\"254.492188\" xlink:href=\"#DejaVuSans-48\"/>\n      </g>\n     </g>\n    </g>\n    <g id=\"xtick_5\">\n     <g id=\"line2d_5\">\n      <g>\n       <use style=\"stroke:#000000;stroke-width:0.8;\" x=\"347.705625\" xlink:href=\"#md440a08cc4\" y=\"240.238125\"/>\n      </g>\n     </g>\n     <g id=\"text_5\">\n      <!-- 80000 -->\n      <defs>\n       <path d=\"M 31.78125 34.625 \nQ 24.75 34.625 20.71875 30.859375 \nQ 16.703125 27.09375 16.703125 20.515625 \nQ 16.703125 13.921875 20.71875 10.15625 \nQ 24.75 6.390625 31.78125 6.390625 \nQ 38.8125 6.390625 42.859375 10.171875 \nQ 46.921875 13.96875 46.921875 20.515625 \nQ 46.921875 27.09375 42.890625 30.859375 \nQ 38.875 34.625 31.78125 34.625 \nz\nM 21.921875 38.8125 \nQ 15.578125 40.375 12.03125 44.71875 \nQ 8.5 49.078125 8.5 55.328125 \nQ 8.5 64.0625 14.71875 69.140625 \nQ 20.953125 74.21875 31.78125 74.21875 \nQ 42.671875 74.21875 48.875 69.140625 \nQ 55.078125 64.0625 55.078125 55.328125 \nQ 55.078125 49.078125 51.53125 44.71875 \nQ 48 40.375 41.703125 38.8125 \nQ 48.828125 37.15625 52.796875 32.3125 \nQ 56.78125 27.484375 56.78125 20.515625 \nQ 56.78125 9.90625 50.3125 4.234375 \nQ 43.84375 -1.421875 31.78125 -1.421875 \nQ 19.734375 -1.421875 13.25 4.234375 \nQ 6.78125 9.90625 6.78125 20.515625 \nQ 6.78125 27.484375 10.78125 32.3125 \nQ 14.796875 37.15625 21.921875 38.8125 \nz\nM 18.3125 54.390625 \nQ 18.3125 48.734375 21.84375 45.5625 \nQ 25.390625 42.390625 31.78125 42.390625 \nQ 38.140625 42.390625 41.71875 45.5625 \nQ 45.3125 48.734375 45.3125 54.390625 \nQ 45.3125 60.0625 41.71875 63.234375 \nQ 38.140625 66.40625 31.78125 66.40625 \nQ 25.390625 66.40625 21.84375 63.234375 \nQ 18.3125 60.0625 18.3125 54.390625 \nz\n\" id=\"DejaVuSans-56\"/>\n      </defs>\n      <g transform=\"translate(331.799375 254.836563)scale(0.1 -0.1)\">\n       <use xlink:href=\"#DejaVuSans-56\"/>\n       <use x=\"63.623047\" xlink:href=\"#DejaVuSans-48\"/>\n       <use x=\"127.246094\" xlink:href=\"#DejaVuSans-48\"/>\n       <use x=\"190.869141\" xlink:href=\"#DejaVuSans-48\"/>\n       <use x=\"254.492188\" xlink:href=\"#DejaVuSans-48\"/>\n      </g>\n     </g>\n    </g>\n    <g id=\"xtick_6\">\n     <g id=\"line2d_6\">\n      <g>\n       <use style=\"stroke:#000000;stroke-width:0.8;\" x=\"414.665625\" xlink:href=\"#md440a08cc4\" y=\"240.238125\"/>\n      </g>\n     </g>\n     <g id=\"text_6\">\n      <!-- 100000 -->\n      <defs>\n       <path d=\"M 12.40625 8.296875 \nL 28.515625 8.296875 \nL 28.515625 63.921875 \nL 10.984375 60.40625 \nL 10.984375 69.390625 \nL 28.421875 72.90625 \nL 38.28125 72.90625 \nL 38.28125 8.296875 \nL 54.390625 8.296875 \nL 54.390625 0 \nL 12.40625 0 \nz\n\" id=\"DejaVuSans-49\"/>\n      </defs>\n      <g transform=\"translate(395.578125 254.836563)scale(0.1 -0.1)\">\n       <use xlink:href=\"#DejaVuSans-49\"/>\n       <use x=\"63.623047\" xlink:href=\"#DejaVuSans-48\"/>\n       <use x=\"127.246094\" xlink:href=\"#DejaVuSans-48\"/>\n       <use x=\"190.869141\" xlink:href=\"#DejaVuSans-48\"/>\n       <use x=\"254.492188\" xlink:href=\"#DejaVuSans-48\"/>\n       <use x=\"318.115234\" xlink:href=\"#DejaVuSans-48\"/>\n      </g>\n     </g>\n    </g>\n    <g id=\"text_7\">\n     <!-- Quantidade de Ocorrências -->\n     <defs>\n      <path d=\"M 39.40625 66.21875 \nQ 28.65625 66.21875 22.328125 58.203125 \nQ 16.015625 50.203125 16.015625 36.375 \nQ 16.015625 22.609375 22.328125 14.59375 \nQ 28.65625 6.59375 39.40625 6.59375 \nQ 50.140625 6.59375 56.421875 14.59375 \nQ 62.703125 22.609375 62.703125 36.375 \nQ 62.703125 50.203125 56.421875 58.203125 \nQ 50.140625 66.21875 39.40625 66.21875 \nz\nM 53.21875 1.3125 \nL 66.21875 -12.890625 \nL 54.296875 -12.890625 \nL 43.5 -1.21875 \nQ 41.890625 -1.3125 41.03125 -1.359375 \nQ 40.1875 -1.421875 39.40625 -1.421875 \nQ 24.03125 -1.421875 14.8125 8.859375 \nQ 5.609375 19.140625 5.609375 36.375 \nQ 5.609375 53.65625 14.8125 63.9375 \nQ 24.03125 74.21875 39.40625 74.21875 \nQ 54.734375 74.21875 63.90625 63.9375 \nQ 73.09375 53.65625 73.09375 36.375 \nQ 73.09375 23.6875 67.984375 14.640625 \nQ 62.890625 5.609375 53.21875 1.3125 \nz\n\" id=\"DejaVuSans-81\"/>\n      <path d=\"M 8.5 21.578125 \nL 8.5 54.6875 \nL 17.484375 54.6875 \nL 17.484375 21.921875 \nQ 17.484375 14.15625 20.5 10.265625 \nQ 23.53125 6.390625 29.59375 6.390625 \nQ 36.859375 6.390625 41.078125 11.03125 \nQ 45.3125 15.671875 45.3125 23.6875 \nL 45.3125 54.6875 \nL 54.296875 54.6875 \nL 54.296875 0 \nL 45.3125 0 \nL 45.3125 8.40625 \nQ 42.046875 3.421875 37.71875 1 \nQ 33.40625 -1.421875 27.6875 -1.421875 \nQ 18.265625 -1.421875 13.375 4.4375 \nQ 8.5 10.296875 8.5 21.578125 \nz\nM 31.109375 56 \nz\n\" id=\"DejaVuSans-117\"/>\n      <path d=\"M 34.28125 27.484375 \nQ 23.390625 27.484375 19.1875 25 \nQ 14.984375 22.515625 14.984375 16.5 \nQ 14.984375 11.71875 18.140625 8.90625 \nQ 21.296875 6.109375 26.703125 6.109375 \nQ 34.1875 6.109375 38.703125 11.40625 \nQ 43.21875 16.703125 43.21875 25.484375 \nL 43.21875 27.484375 \nz\nM 52.203125 31.203125 \nL 52.203125 0 \nL 43.21875 0 \nL 43.21875 8.296875 \nQ 40.140625 3.328125 35.546875 0.953125 \nQ 30.953125 -1.421875 24.3125 -1.421875 \nQ 15.921875 -1.421875 10.953125 3.296875 \nQ 6 8.015625 6 15.921875 \nQ 6 25.140625 12.171875 29.828125 \nQ 18.359375 34.515625 30.609375 34.515625 \nL 43.21875 34.515625 \nL 43.21875 35.40625 \nQ 43.21875 41.609375 39.140625 45 \nQ 35.0625 48.390625 27.6875 48.390625 \nQ 23 48.390625 18.546875 47.265625 \nQ 14.109375 46.140625 10.015625 43.890625 \nL 10.015625 52.203125 \nQ 14.9375 54.109375 19.578125 55.046875 \nQ 24.21875 56 28.609375 56 \nQ 40.484375 56 46.34375 49.84375 \nQ 52.203125 43.703125 52.203125 31.203125 \nz\n\" id=\"DejaVuSans-97\"/>\n      <path d=\"M 54.890625 33.015625 \nL 54.890625 0 \nL 45.90625 0 \nL 45.90625 32.71875 \nQ 45.90625 40.484375 42.875 44.328125 \nQ 39.84375 48.1875 33.796875 48.1875 \nQ 26.515625 48.1875 22.3125 43.546875 \nQ 18.109375 38.921875 18.109375 30.90625 \nL 18.109375 0 \nL 9.078125 0 \nL 9.078125 54.6875 \nL 18.109375 54.6875 \nL 18.109375 46.1875 \nQ 21.34375 51.125 25.703125 53.5625 \nQ 30.078125 56 35.796875 56 \nQ 45.21875 56 50.046875 50.171875 \nQ 54.890625 44.34375 54.890625 33.015625 \nz\n\" id=\"DejaVuSans-110\"/>\n      <path d=\"M 18.3125 70.21875 \nL 18.3125 54.6875 \nL 36.8125 54.6875 \nL 36.8125 47.703125 \nL 18.3125 47.703125 \nL 18.3125 18.015625 \nQ 18.3125 11.328125 20.140625 9.421875 \nQ 21.96875 7.515625 27.59375 7.515625 \nL 36.8125 7.515625 \nL 36.8125 0 \nL 27.59375 0 \nQ 17.1875 0 13.234375 3.875 \nQ 9.28125 7.765625 9.28125 18.015625 \nL 9.28125 47.703125 \nL 2.6875 47.703125 \nL 2.6875 54.6875 \nL 9.28125 54.6875 \nL 9.28125 70.21875 \nz\n\" id=\"DejaVuSans-116\"/>\n      <path d=\"M 9.421875 54.6875 \nL 18.40625 54.6875 \nL 18.40625 0 \nL 9.421875 0 \nz\nM 9.421875 75.984375 \nL 18.40625 75.984375 \nL 18.40625 64.59375 \nL 9.421875 64.59375 \nz\n\" id=\"DejaVuSans-105\"/>\n      <path d=\"M 45.40625 46.390625 \nL 45.40625 75.984375 \nL 54.390625 75.984375 \nL 54.390625 0 \nL 45.40625 0 \nL 45.40625 8.203125 \nQ 42.578125 3.328125 38.25 0.953125 \nQ 33.9375 -1.421875 27.875 -1.421875 \nQ 17.96875 -1.421875 11.734375 6.484375 \nQ 5.515625 14.40625 5.515625 27.296875 \nQ 5.515625 40.1875 11.734375 48.09375 \nQ 17.96875 56 27.875 56 \nQ 33.9375 56 38.25 53.625 \nQ 42.578125 51.265625 45.40625 46.390625 \nz\nM 14.796875 27.296875 \nQ 14.796875 17.390625 18.875 11.75 \nQ 22.953125 6.109375 30.078125 6.109375 \nQ 37.203125 6.109375 41.296875 11.75 \nQ 45.40625 17.390625 45.40625 27.296875 \nQ 45.40625 37.203125 41.296875 42.84375 \nQ 37.203125 48.484375 30.078125 48.484375 \nQ 22.953125 48.484375 18.875 42.84375 \nQ 14.796875 37.203125 14.796875 27.296875 \nz\n\" id=\"DejaVuSans-100\"/>\n      <path d=\"M 56.203125 29.59375 \nL 56.203125 25.203125 \nL 14.890625 25.203125 \nQ 15.484375 15.921875 20.484375 11.0625 \nQ 25.484375 6.203125 34.421875 6.203125 \nQ 39.59375 6.203125 44.453125 7.46875 \nQ 49.3125 8.734375 54.109375 11.28125 \nL 54.109375 2.78125 \nQ 49.265625 0.734375 44.1875 -0.34375 \nQ 39.109375 -1.421875 33.890625 -1.421875 \nQ 20.796875 -1.421875 13.15625 6.1875 \nQ 5.515625 13.8125 5.515625 26.8125 \nQ 5.515625 40.234375 12.765625 48.109375 \nQ 20.015625 56 32.328125 56 \nQ 43.359375 56 49.78125 48.890625 \nQ 56.203125 41.796875 56.203125 29.59375 \nz\nM 47.21875 32.234375 \nQ 47.125 39.59375 43.09375 43.984375 \nQ 39.0625 48.390625 32.421875 48.390625 \nQ 24.90625 48.390625 20.390625 44.140625 \nQ 15.875 39.890625 15.1875 32.171875 \nz\n\" id=\"DejaVuSans-101\"/>\n      <path id=\"DejaVuSans-32\"/>\n      <path d=\"M 39.40625 66.21875 \nQ 28.65625 66.21875 22.328125 58.203125 \nQ 16.015625 50.203125 16.015625 36.375 \nQ 16.015625 22.609375 22.328125 14.59375 \nQ 28.65625 6.59375 39.40625 6.59375 \nQ 50.140625 6.59375 56.421875 14.59375 \nQ 62.703125 22.609375 62.703125 36.375 \nQ 62.703125 50.203125 56.421875 58.203125 \nQ 50.140625 66.21875 39.40625 66.21875 \nz\nM 39.40625 74.21875 \nQ 54.734375 74.21875 63.90625 63.9375 \nQ 73.09375 53.65625 73.09375 36.375 \nQ 73.09375 19.140625 63.90625 8.859375 \nQ 54.734375 -1.421875 39.40625 -1.421875 \nQ 24.03125 -1.421875 14.8125 8.828125 \nQ 5.609375 19.09375 5.609375 36.375 \nQ 5.609375 53.65625 14.8125 63.9375 \nQ 24.03125 74.21875 39.40625 74.21875 \nz\n\" id=\"DejaVuSans-79\"/>\n      <path d=\"M 48.78125 52.59375 \nL 48.78125 44.1875 \nQ 44.96875 46.296875 41.140625 47.34375 \nQ 37.3125 48.390625 33.40625 48.390625 \nQ 24.65625 48.390625 19.8125 42.84375 \nQ 14.984375 37.3125 14.984375 27.296875 \nQ 14.984375 17.28125 19.8125 11.734375 \nQ 24.65625 6.203125 33.40625 6.203125 \nQ 37.3125 6.203125 41.140625 7.25 \nQ 44.96875 8.296875 48.78125 10.40625 \nL 48.78125 2.09375 \nQ 45.015625 0.34375 40.984375 -0.53125 \nQ 36.96875 -1.421875 32.421875 -1.421875 \nQ 20.0625 -1.421875 12.78125 6.34375 \nQ 5.515625 14.109375 5.515625 27.296875 \nQ 5.515625 40.671875 12.859375 48.328125 \nQ 20.21875 56 33.015625 56 \nQ 37.15625 56 41.109375 55.140625 \nQ 45.0625 54.296875 48.78125 52.59375 \nz\n\" id=\"DejaVuSans-99\"/>\n      <path d=\"M 30.609375 48.390625 \nQ 23.390625 48.390625 19.1875 42.75 \nQ 14.984375 37.109375 14.984375 27.296875 \nQ 14.984375 17.484375 19.15625 11.84375 \nQ 23.34375 6.203125 30.609375 6.203125 \nQ 37.796875 6.203125 41.984375 11.859375 \nQ 46.1875 17.53125 46.1875 27.296875 \nQ 46.1875 37.015625 41.984375 42.703125 \nQ 37.796875 48.390625 30.609375 48.390625 \nz\nM 30.609375 56 \nQ 42.328125 56 49.015625 48.375 \nQ 55.71875 40.765625 55.71875 27.296875 \nQ 55.71875 13.875 49.015625 6.21875 \nQ 42.328125 -1.421875 30.609375 -1.421875 \nQ 18.84375 -1.421875 12.171875 6.21875 \nQ 5.515625 13.875 5.515625 27.296875 \nQ 5.515625 40.765625 12.171875 48.375 \nQ 18.84375 56 30.609375 56 \nz\n\" id=\"DejaVuSans-111\"/>\n      <path d=\"M 41.109375 46.296875 \nQ 39.59375 47.171875 37.8125 47.578125 \nQ 36.03125 48 33.890625 48 \nQ 26.265625 48 22.1875 43.046875 \nQ 18.109375 38.09375 18.109375 28.8125 \nL 18.109375 0 \nL 9.078125 0 \nL 9.078125 54.6875 \nL 18.109375 54.6875 \nL 18.109375 46.1875 \nQ 20.953125 51.171875 25.484375 53.578125 \nQ 30.03125 56 36.53125 56 \nQ 37.453125 56 38.578125 55.875 \nQ 39.703125 55.765625 41.0625 55.515625 \nz\n\" id=\"DejaVuSans-114\"/>\n      <path d=\"M 56.203125 29.59375 \nL 56.203125 25.203125 \nL 14.890625 25.203125 \nQ 15.484375 15.921875 20.484375 11.0625 \nQ 25.484375 6.203125 34.421875 6.203125 \nQ 39.59375 6.203125 44.453125 7.46875 \nQ 49.3125 8.734375 54.109375 11.28125 \nL 54.109375 2.78125 \nQ 49.265625 0.734375 44.1875 -0.34375 \nQ 39.109375 -1.421875 33.890625 -1.421875 \nQ 20.796875 -1.421875 13.15625 6.1875 \nQ 5.515625 13.8125 5.515625 26.8125 \nQ 5.515625 40.234375 12.765625 48.109375 \nQ 20.015625 56 32.328125 56 \nQ 43.359375 56 49.78125 48.890625 \nQ 56.203125 41.796875 56.203125 29.59375 \nz\nM 47.21875 32.234375 \nQ 47.125 39.59375 43.09375 43.984375 \nQ 39.0625 48.390625 32.421875 48.390625 \nQ 24.90625 48.390625 20.390625 44.140625 \nQ 15.875 39.890625 15.1875 32.171875 \nz\nM 28.171875 79.984375 \nL 35.40625 79.984375 \nL 47.359375 61.625 \nL 40.578125 61.625 \nL 31.78125 73.578125 \nL 23 61.625 \nL 16.21875 61.625 \nz\n\" id=\"DejaVuSans-234\"/>\n      <path d=\"M 44.28125 53.078125 \nL 44.28125 44.578125 \nQ 40.484375 46.53125 36.375 47.5 \nQ 32.28125 48.484375 27.875 48.484375 \nQ 21.1875 48.484375 17.84375 46.4375 \nQ 14.5 44.390625 14.5 40.28125 \nQ 14.5 37.15625 16.890625 35.375 \nQ 19.28125 33.59375 26.515625 31.984375 \nL 29.59375 31.296875 \nQ 39.15625 29.25 43.1875 25.515625 \nQ 47.21875 21.78125 47.21875 15.09375 \nQ 47.21875 7.46875 41.1875 3.015625 \nQ 35.15625 -1.421875 24.609375 -1.421875 \nQ 20.21875 -1.421875 15.453125 -0.5625 \nQ 10.6875 0.296875 5.421875 2 \nL 5.421875 11.28125 \nQ 10.40625 8.6875 15.234375 7.390625 \nQ 20.0625 6.109375 24.8125 6.109375 \nQ 31.15625 6.109375 34.5625 8.28125 \nQ 37.984375 10.453125 37.984375 14.40625 \nQ 37.984375 18.0625 35.515625 20.015625 \nQ 33.0625 21.96875 24.703125 23.78125 \nL 21.578125 24.515625 \nQ 13.234375 26.265625 9.515625 29.90625 \nQ 5.8125 33.546875 5.8125 39.890625 \nQ 5.8125 47.609375 11.28125 51.796875 \nQ 16.75 56 26.8125 56 \nQ 31.78125 56 36.171875 55.265625 \nQ 40.578125 54.546875 44.28125 53.078125 \nz\n\" id=\"DejaVuSans-115\"/>\n     </defs>\n     <g transform=\"translate(178.755469 268.514687)scale(0.1 -0.1)\">\n      <use xlink:href=\"#DejaVuSans-81\"/>\n      <use x=\"78.710938\" xlink:href=\"#DejaVuSans-117\"/>\n      <use x=\"142.089844\" xlink:href=\"#DejaVuSans-97\"/>\n      <use x=\"203.369141\" xlink:href=\"#DejaVuSans-110\"/>\n      <use x=\"266.748047\" xlink:href=\"#DejaVuSans-116\"/>\n      <use x=\"305.957031\" xlink:href=\"#DejaVuSans-105\"/>\n      <use x=\"333.740234\" xlink:href=\"#DejaVuSans-100\"/>\n      <use x=\"397.216797\" xlink:href=\"#DejaVuSans-97\"/>\n      <use x=\"458.496094\" xlink:href=\"#DejaVuSans-100\"/>\n      <use x=\"521.972656\" xlink:href=\"#DejaVuSans-101\"/>\n      <use x=\"583.496094\" xlink:href=\"#DejaVuSans-32\"/>\n      <use x=\"615.283203\" xlink:href=\"#DejaVuSans-100\"/>\n      <use x=\"678.759766\" xlink:href=\"#DejaVuSans-101\"/>\n      <use x=\"740.283203\" xlink:href=\"#DejaVuSans-32\"/>\n      <use x=\"772.070312\" xlink:href=\"#DejaVuSans-79\"/>\n      <use x=\"850.78125\" xlink:href=\"#DejaVuSans-99\"/>\n      <use x=\"905.761719\" xlink:href=\"#DejaVuSans-111\"/>\n      <use x=\"966.943359\" xlink:href=\"#DejaVuSans-114\"/>\n      <use x=\"1008.041016\" xlink:href=\"#DejaVuSans-114\"/>\n      <use x=\"1049.123047\" xlink:href=\"#DejaVuSans-234\"/>\n      <use x=\"1110.646484\" xlink:href=\"#DejaVuSans-110\"/>\n      <use x=\"1174.025391\" xlink:href=\"#DejaVuSans-99\"/>\n      <use x=\"1229.005859\" xlink:href=\"#DejaVuSans-105\"/>\n      <use x=\"1256.789062\" xlink:href=\"#DejaVuSans-97\"/>\n      <use x=\"1318.068359\" xlink:href=\"#DejaVuSans-115\"/>\n     </g>\n    </g>\n   </g>\n   <g id=\"matplotlib.axis_2\">\n    <g id=\"ytick_1\">\n     <g id=\"line2d_7\">\n      <defs>\n       <path d=\"M 0 0 \nL -3.5 0 \n\" id=\"m96809eceb5\" style=\"stroke:#000000;stroke-width:0.8;\"/>\n      </defs>\n      <g>\n       <use style=\"stroke:#000000;stroke-width:0.8;\" x=\"79.865625\" xlink:href=\"#m96809eceb5\" y=\"231.178125\"/>\n      </g>\n     </g>\n     <g id=\"text_8\">\n      <!-- Maio -->\n      <defs>\n       <path d=\"M 9.8125 72.90625 \nL 24.515625 72.90625 \nL 43.109375 23.296875 \nL 61.8125 72.90625 \nL 76.515625 72.90625 \nL 76.515625 0 \nL 66.890625 0 \nL 66.890625 64.015625 \nL 48.09375 14.015625 \nL 38.1875 14.015625 \nL 19.390625 64.015625 \nL 19.390625 0 \nL 9.8125 0 \nz\n\" id=\"DejaVuSans-77\"/>\n      </defs>\n      <g transform=\"translate(49.2125 234.977344)scale(0.1 -0.1)\">\n       <use xlink:href=\"#DejaVuSans-77\"/>\n       <use x=\"86.279297\" xlink:href=\"#DejaVuSans-97\"/>\n       <use x=\"147.558594\" xlink:href=\"#DejaVuSans-105\"/>\n       <use x=\"175.341797\" xlink:href=\"#DejaVuSans-111\"/>\n      </g>\n     </g>\n    </g>\n    <g id=\"ytick_2\">\n     <g id=\"line2d_8\">\n      <g>\n       <use style=\"stroke:#000000;stroke-width:0.8;\" x=\"79.865625\" xlink:href=\"#m96809eceb5\" y=\"213.058125\"/>\n      </g>\n     </g>\n     <g id=\"text_9\">\n      <!-- Março -->\n      <defs>\n       <path d=\"M 48.78125 52.59375 \nL 48.78125 44.1875 \nQ 44.96875 46.296875 41.140625 47.34375 \nQ 37.3125 48.390625 33.40625 48.390625 \nQ 24.65625 48.390625 19.8125 42.84375 \nQ 14.984375 37.3125 14.984375 27.296875 \nQ 14.984375 17.28125 19.8125 11.734375 \nQ 24.65625 6.203125 33.40625 6.203125 \nQ 37.3125 6.203125 41.140625 7.25 \nQ 44.96875 8.296875 48.78125 10.40625 \nL 48.78125 2.09375 \nQ 45.015625 0.34375 40.984375 -0.53125 \nQ 36.96875 -1.421875 32.421875 -1.421875 \nQ 20.0625 -1.421875 12.78125 6.34375 \nQ 5.515625 14.109375 5.515625 27.296875 \nQ 5.515625 40.671875 12.859375 48.328125 \nQ 20.21875 56 33.015625 56 \nQ 37.15625 56 41.109375 55.140625 \nQ 45.0625 54.296875 48.78125 52.59375 \nz\nM 36.078125 0 \nQ 38.765625 -3.03125 40.078125 -5.59375 \nQ 41.40625 -8.15625 41.40625 -10.5 \nQ 41.40625 -14.84375 38.46875 -17.0625 \nQ 35.546875 -19.28125 29.78125 -19.28125 \nQ 27.546875 -19.28125 25.421875 -18.984375 \nQ 23.296875 -18.703125 21.1875 -18.109375 \nL 21.1875 -11.71875 \nQ 22.859375 -12.546875 24.65625 -12.90625 \nQ 26.46875 -13.28125 28.765625 -13.28125 \nQ 31.640625 -13.28125 33.109375 -12.109375 \nQ 34.578125 -10.9375 34.578125 -8.6875 \nQ 34.578125 -7.234375 33.515625 -5.109375 \nQ 32.46875 -2.984375 30.28125 0 \nz\n\" id=\"DejaVuSans-231\"/>\n      </defs>\n      <g transform=\"translate(42.384375 216.857344)scale(0.1 -0.1)\">\n       <use xlink:href=\"#DejaVuSans-77\"/>\n       <use x=\"86.279297\" xlink:href=\"#DejaVuSans-97\"/>\n       <use x=\"147.558594\" xlink:href=\"#DejaVuSans-114\"/>\n       <use x=\"188.640625\" xlink:href=\"#DejaVuSans-231\"/>\n       <use x=\"243.621094\" xlink:href=\"#DejaVuSans-111\"/>\n      </g>\n     </g>\n    </g>\n    <g id=\"ytick_3\">\n     <g id=\"line2d_9\">\n      <g>\n       <use style=\"stroke:#000000;stroke-width:0.8;\" x=\"79.865625\" xlink:href=\"#m96809eceb5\" y=\"194.938125\"/>\n      </g>\n     </g>\n     <g id=\"text_10\">\n      <!-- Abril -->\n      <defs>\n       <path d=\"M 34.1875 63.1875 \nL 20.796875 26.90625 \nL 47.609375 26.90625 \nz\nM 28.609375 72.90625 \nL 39.796875 72.90625 \nL 67.578125 0 \nL 57.328125 0 \nL 50.6875 18.703125 \nL 17.828125 18.703125 \nL 11.1875 0 \nL 0.78125 0 \nz\n\" id=\"DejaVuSans-65\"/>\n       <path d=\"M 48.6875 27.296875 \nQ 48.6875 37.203125 44.609375 42.84375 \nQ 40.53125 48.484375 33.40625 48.484375 \nQ 26.265625 48.484375 22.1875 42.84375 \nQ 18.109375 37.203125 18.109375 27.296875 \nQ 18.109375 17.390625 22.1875 11.75 \nQ 26.265625 6.109375 33.40625 6.109375 \nQ 40.53125 6.109375 44.609375 11.75 \nQ 48.6875 17.390625 48.6875 27.296875 \nz\nM 18.109375 46.390625 \nQ 20.953125 51.265625 25.265625 53.625 \nQ 29.59375 56 35.59375 56 \nQ 45.5625 56 51.78125 48.09375 \nQ 58.015625 40.1875 58.015625 27.296875 \nQ 58.015625 14.40625 51.78125 6.484375 \nQ 45.5625 -1.421875 35.59375 -1.421875 \nQ 29.59375 -1.421875 25.265625 0.953125 \nQ 20.953125 3.328125 18.109375 8.203125 \nL 18.109375 0 \nL 9.078125 0 \nL 9.078125 75.984375 \nL 18.109375 75.984375 \nz\n\" id=\"DejaVuSans-98\"/>\n       <path d=\"M 9.421875 75.984375 \nL 18.40625 75.984375 \nL 18.40625 0 \nL 9.421875 0 \nz\n\" id=\"DejaVuSans-108\"/>\n      </defs>\n      <g transform=\"translate(50.009375 198.737344)scale(0.1 -0.1)\">\n       <use xlink:href=\"#DejaVuSans-65\"/>\n       <use x=\"68.408203\" xlink:href=\"#DejaVuSans-98\"/>\n       <use x=\"131.884766\" xlink:href=\"#DejaVuSans-114\"/>\n       <use x=\"172.998047\" xlink:href=\"#DejaVuSans-105\"/>\n       <use x=\"200.78125\" xlink:href=\"#DejaVuSans-108\"/>\n      </g>\n     </g>\n    </g>\n    <g id=\"ytick_4\">\n     <g id=\"line2d_10\">\n      <g>\n       <use style=\"stroke:#000000;stroke-width:0.8;\" x=\"79.865625\" xlink:href=\"#m96809eceb5\" y=\"176.818125\"/>\n      </g>\n     </g>\n     <g id=\"text_11\">\n      <!-- Junho -->\n      <defs>\n       <path d=\"M 9.8125 72.90625 \nL 19.671875 72.90625 \nL 19.671875 5.078125 \nQ 19.671875 -8.109375 14.671875 -14.0625 \nQ 9.671875 -20.015625 -1.421875 -20.015625 \nL -5.171875 -20.015625 \nL -5.171875 -11.71875 \nL -2.09375 -11.71875 \nQ 4.4375 -11.71875 7.125 -8.046875 \nQ 9.8125 -4.390625 9.8125 5.078125 \nz\n\" id=\"DejaVuSans-74\"/>\n       <path d=\"M 54.890625 33.015625 \nL 54.890625 0 \nL 45.90625 0 \nL 45.90625 32.71875 \nQ 45.90625 40.484375 42.875 44.328125 \nQ 39.84375 48.1875 33.796875 48.1875 \nQ 26.515625 48.1875 22.3125 43.546875 \nQ 18.109375 38.921875 18.109375 30.90625 \nL 18.109375 0 \nL 9.078125 0 \nL 9.078125 75.984375 \nL 18.109375 75.984375 \nL 18.109375 46.1875 \nQ 21.34375 51.125 25.703125 53.5625 \nQ 30.078125 56 35.796875 56 \nQ 45.21875 56 50.046875 50.171875 \nQ 54.890625 44.34375 54.890625 33.015625 \nz\n\" id=\"DejaVuSans-104\"/>\n      </defs>\n      <g transform=\"translate(44.784375 180.617344)scale(0.1 -0.1)\">\n       <use xlink:href=\"#DejaVuSans-74\"/>\n       <use x=\"29.492188\" xlink:href=\"#DejaVuSans-117\"/>\n       <use x=\"92.871094\" xlink:href=\"#DejaVuSans-110\"/>\n       <use x=\"156.25\" xlink:href=\"#DejaVuSans-104\"/>\n       <use x=\"219.628906\" xlink:href=\"#DejaVuSans-111\"/>\n      </g>\n     </g>\n    </g>\n    <g id=\"ytick_5\">\n     <g id=\"line2d_11\">\n      <g>\n       <use style=\"stroke:#000000;stroke-width:0.8;\" x=\"79.865625\" xlink:href=\"#m96809eceb5\" y=\"158.698125\"/>\n      </g>\n     </g>\n     <g id=\"text_12\">\n      <!-- Outubro -->\n      <g transform=\"translate(31.823438 162.497344)scale(0.1 -0.1)\">\n       <use xlink:href=\"#DejaVuSans-79\"/>\n       <use x=\"78.710938\" xlink:href=\"#DejaVuSans-117\"/>\n       <use x=\"142.089844\" xlink:href=\"#DejaVuSans-116\"/>\n       <use x=\"181.298828\" xlink:href=\"#DejaVuSans-117\"/>\n       <use x=\"244.677734\" xlink:href=\"#DejaVuSans-98\"/>\n       <use x=\"308.154297\" xlink:href=\"#DejaVuSans-114\"/>\n       <use x=\"349.236328\" xlink:href=\"#DejaVuSans-111\"/>\n      </g>\n     </g>\n    </g>\n    <g id=\"ytick_6\">\n     <g id=\"line2d_12\">\n      <g>\n       <use style=\"stroke:#000000;stroke-width:0.8;\" x=\"79.865625\" xlink:href=\"#m96809eceb5\" y=\"140.578125\"/>\n      </g>\n     </g>\n     <g id=\"text_13\">\n      <!-- Agosto -->\n      <defs>\n       <path d=\"M 45.40625 27.984375 \nQ 45.40625 37.75 41.375 43.109375 \nQ 37.359375 48.484375 30.078125 48.484375 \nQ 22.859375 48.484375 18.828125 43.109375 \nQ 14.796875 37.75 14.796875 27.984375 \nQ 14.796875 18.265625 18.828125 12.890625 \nQ 22.859375 7.515625 30.078125 7.515625 \nQ 37.359375 7.515625 41.375 12.890625 \nQ 45.40625 18.265625 45.40625 27.984375 \nz\nM 54.390625 6.78125 \nQ 54.390625 -7.171875 48.1875 -13.984375 \nQ 42 -20.796875 29.203125 -20.796875 \nQ 24.46875 -20.796875 20.265625 -20.09375 \nQ 16.0625 -19.390625 12.109375 -17.921875 \nL 12.109375 -9.1875 \nQ 16.0625 -11.328125 19.921875 -12.34375 \nQ 23.78125 -13.375 27.78125 -13.375 \nQ 36.625 -13.375 41.015625 -8.765625 \nQ 45.40625 -4.15625 45.40625 5.171875 \nL 45.40625 9.625 \nQ 42.625 4.78125 38.28125 2.390625 \nQ 33.9375 0 27.875 0 \nQ 17.828125 0 11.671875 7.65625 \nQ 5.515625 15.328125 5.515625 27.984375 \nQ 5.515625 40.671875 11.671875 48.328125 \nQ 17.828125 56 27.875 56 \nQ 33.9375 56 38.28125 53.609375 \nQ 42.625 51.21875 45.40625 46.390625 \nL 45.40625 54.6875 \nL 54.390625 54.6875 \nz\n\" id=\"DejaVuSans-103\"/>\n      </defs>\n      <g transform=\"translate(38.309375 144.377344)scale(0.1 -0.1)\">\n       <use xlink:href=\"#DejaVuSans-65\"/>\n       <use x=\"68.408203\" xlink:href=\"#DejaVuSans-103\"/>\n       <use x=\"131.884766\" xlink:href=\"#DejaVuSans-111\"/>\n       <use x=\"193.066406\" xlink:href=\"#DejaVuSans-115\"/>\n       <use x=\"245.166016\" xlink:href=\"#DejaVuSans-116\"/>\n       <use x=\"284.375\" xlink:href=\"#DejaVuSans-111\"/>\n      </g>\n     </g>\n    </g>\n    <g id=\"ytick_7\">\n     <g id=\"line2d_13\">\n      <g>\n       <use style=\"stroke:#000000;stroke-width:0.8;\" x=\"79.865625\" xlink:href=\"#m96809eceb5\" y=\"122.458125\"/>\n      </g>\n     </g>\n     <g id=\"text_14\">\n      <!-- Julho -->\n      <g transform=\"translate(48.34375 126.257344)scale(0.1 -0.1)\">\n       <use xlink:href=\"#DejaVuSans-74\"/>\n       <use x=\"29.492188\" xlink:href=\"#DejaVuSans-117\"/>\n       <use x=\"92.871094\" xlink:href=\"#DejaVuSans-108\"/>\n       <use x=\"120.654297\" xlink:href=\"#DejaVuSans-104\"/>\n       <use x=\"184.033203\" xlink:href=\"#DejaVuSans-111\"/>\n      </g>\n     </g>\n    </g>\n    <g id=\"ytick_8\">\n     <g id=\"line2d_14\">\n      <g>\n       <use style=\"stroke:#000000;stroke-width:0.8;\" x=\"79.865625\" xlink:href=\"#m96809eceb5\" y=\"104.338125\"/>\n      </g>\n     </g>\n     <g id=\"text_15\">\n      <!-- Novembro -->\n      <defs>\n       <path d=\"M 9.8125 72.90625 \nL 23.09375 72.90625 \nL 55.421875 11.921875 \nL 55.421875 72.90625 \nL 64.984375 72.90625 \nL 64.984375 0 \nL 51.703125 0 \nL 19.390625 60.984375 \nL 19.390625 0 \nL 9.8125 0 \nz\n\" id=\"DejaVuSans-78\"/>\n       <path d=\"M 2.984375 54.6875 \nL 12.5 54.6875 \nL 29.59375 8.796875 \nL 46.6875 54.6875 \nL 56.203125 54.6875 \nL 35.6875 0 \nL 23.484375 0 \nz\n\" id=\"DejaVuSans-118\"/>\n       <path d=\"M 52 44.1875 \nQ 55.375 50.25 60.0625 53.125 \nQ 64.75 56 71.09375 56 \nQ 79.640625 56 84.28125 50.015625 \nQ 88.921875 44.046875 88.921875 33.015625 \nL 88.921875 0 \nL 79.890625 0 \nL 79.890625 32.71875 \nQ 79.890625 40.578125 77.09375 44.375 \nQ 74.3125 48.1875 68.609375 48.1875 \nQ 61.625 48.1875 57.5625 43.546875 \nQ 53.515625 38.921875 53.515625 30.90625 \nL 53.515625 0 \nL 44.484375 0 \nL 44.484375 32.71875 \nQ 44.484375 40.625 41.703125 44.40625 \nQ 38.921875 48.1875 33.109375 48.1875 \nQ 26.21875 48.1875 22.15625 43.53125 \nQ 18.109375 38.875 18.109375 30.90625 \nL 18.109375 0 \nL 9.078125 0 \nL 9.078125 54.6875 \nL 18.109375 54.6875 \nL 18.109375 46.1875 \nQ 21.1875 51.21875 25.484375 53.609375 \nQ 29.78125 56 35.6875 56 \nQ 41.65625 56 45.828125 52.96875 \nQ 50 49.953125 52 44.1875 \nz\n\" id=\"DejaVuSans-109\"/>\n      </defs>\n      <g transform=\"translate(20.878125 108.137344)scale(0.1 -0.1)\">\n       <use xlink:href=\"#DejaVuSans-78\"/>\n       <use x=\"74.804688\" xlink:href=\"#DejaVuSans-111\"/>\n       <use x=\"135.986328\" xlink:href=\"#DejaVuSans-118\"/>\n       <use x=\"195.166016\" xlink:href=\"#DejaVuSans-101\"/>\n       <use x=\"256.689453\" xlink:href=\"#DejaVuSans-109\"/>\n       <use x=\"354.101562\" xlink:href=\"#DejaVuSans-98\"/>\n       <use x=\"417.578125\" xlink:href=\"#DejaVuSans-114\"/>\n       <use x=\"458.660156\" xlink:href=\"#DejaVuSans-111\"/>\n      </g>\n     </g>\n    </g>\n    <g id=\"ytick_9\">\n     <g id=\"line2d_15\">\n      <g>\n       <use style=\"stroke:#000000;stroke-width:0.8;\" x=\"79.865625\" xlink:href=\"#m96809eceb5\" y=\"86.218125\"/>\n      </g>\n     </g>\n     <g id=\"text_16\">\n      <!-- Setembro -->\n      <defs>\n       <path d=\"M 53.515625 70.515625 \nL 53.515625 60.890625 \nQ 47.90625 63.578125 42.921875 64.890625 \nQ 37.9375 66.21875 33.296875 66.21875 \nQ 25.25 66.21875 20.875 63.09375 \nQ 16.5 59.96875 16.5 54.203125 \nQ 16.5 49.359375 19.40625 46.890625 \nQ 22.3125 44.4375 30.421875 42.921875 \nL 36.375 41.703125 \nQ 47.40625 39.59375 52.65625 34.296875 \nQ 57.90625 29 57.90625 20.125 \nQ 57.90625 9.515625 50.796875 4.046875 \nQ 43.703125 -1.421875 29.984375 -1.421875 \nQ 24.8125 -1.421875 18.96875 -0.25 \nQ 13.140625 0.921875 6.890625 3.21875 \nL 6.890625 13.375 \nQ 12.890625 10.015625 18.65625 8.296875 \nQ 24.421875 6.59375 29.984375 6.59375 \nQ 38.421875 6.59375 43.015625 9.90625 \nQ 47.609375 13.234375 47.609375 19.390625 \nQ 47.609375 24.75 44.3125 27.78125 \nQ 41.015625 30.8125 33.5 32.328125 \nL 27.484375 33.5 \nQ 16.453125 35.6875 11.515625 40.375 \nQ 6.59375 45.0625 6.59375 53.421875 \nQ 6.59375 63.09375 13.40625 68.65625 \nQ 20.21875 74.21875 32.171875 74.21875 \nQ 37.3125 74.21875 42.625 73.28125 \nQ 47.953125 72.359375 53.515625 70.515625 \nz\n\" id=\"DejaVuSans-83\"/>\n      </defs>\n      <g transform=\"translate(23.975 90.017344)scale(0.1 -0.1)\">\n       <use xlink:href=\"#DejaVuSans-83\"/>\n       <use x=\"63.476562\" xlink:href=\"#DejaVuSans-101\"/>\n       <use x=\"125\" xlink:href=\"#DejaVuSans-116\"/>\n       <use x=\"164.208984\" xlink:href=\"#DejaVuSans-101\"/>\n       <use x=\"225.732422\" xlink:href=\"#DejaVuSans-109\"/>\n       <use x=\"323.144531\" xlink:href=\"#DejaVuSans-98\"/>\n       <use x=\"386.621094\" xlink:href=\"#DejaVuSans-114\"/>\n       <use x=\"427.703125\" xlink:href=\"#DejaVuSans-111\"/>\n      </g>\n     </g>\n    </g>\n    <g id=\"ytick_10\">\n     <g id=\"line2d_16\">\n      <g>\n       <use style=\"stroke:#000000;stroke-width:0.8;\" x=\"79.865625\" xlink:href=\"#m96809eceb5\" y=\"68.098125\"/>\n      </g>\n     </g>\n     <g id=\"text_17\">\n      <!-- Janeiro -->\n      <g transform=\"translate(38.292188 71.897344)scale(0.1 -0.1)\">\n       <use xlink:href=\"#DejaVuSans-74\"/>\n       <use x=\"29.492188\" xlink:href=\"#DejaVuSans-97\"/>\n       <use x=\"90.771484\" xlink:href=\"#DejaVuSans-110\"/>\n       <use x=\"154.150391\" xlink:href=\"#DejaVuSans-101\"/>\n       <use x=\"215.673828\" xlink:href=\"#DejaVuSans-105\"/>\n       <use x=\"243.457031\" xlink:href=\"#DejaVuSans-114\"/>\n       <use x=\"284.539062\" xlink:href=\"#DejaVuSans-111\"/>\n      </g>\n     </g>\n    </g>\n    <g id=\"ytick_11\">\n     <g id=\"line2d_17\">\n      <g>\n       <use style=\"stroke:#000000;stroke-width:0.8;\" x=\"79.865625\" xlink:href=\"#m96809eceb5\" y=\"49.978125\"/>\n      </g>\n     </g>\n     <g id=\"text_18\">\n      <!-- Fevereiro -->\n      <defs>\n       <path d=\"M 9.8125 72.90625 \nL 51.703125 72.90625 \nL 51.703125 64.59375 \nL 19.671875 64.59375 \nL 19.671875 43.109375 \nL 48.578125 43.109375 \nL 48.578125 34.8125 \nL 19.671875 34.8125 \nL 19.671875 0 \nL 9.8125 0 \nz\n\" id=\"DejaVuSans-70\"/>\n      </defs>\n      <g transform=\"translate(25.63125 53.777344)scale(0.1 -0.1)\">\n       <use xlink:href=\"#DejaVuSans-70\"/>\n       <use x=\"57.441406\" xlink:href=\"#DejaVuSans-101\"/>\n       <use x=\"118.964844\" xlink:href=\"#DejaVuSans-118\"/>\n       <use x=\"178.144531\" xlink:href=\"#DejaVuSans-101\"/>\n       <use x=\"239.667969\" xlink:href=\"#DejaVuSans-114\"/>\n       <use x=\"280.75\" xlink:href=\"#DejaVuSans-101\"/>\n       <use x=\"342.273438\" xlink:href=\"#DejaVuSans-105\"/>\n       <use x=\"370.056641\" xlink:href=\"#DejaVuSans-114\"/>\n       <use x=\"411.138672\" xlink:href=\"#DejaVuSans-111\"/>\n      </g>\n     </g>\n    </g>\n    <g id=\"ytick_12\">\n     <g id=\"line2d_18\">\n      <g>\n       <use style=\"stroke:#000000;stroke-width:0.8;\" x=\"79.865625\" xlink:href=\"#m96809eceb5\" y=\"31.858125\"/>\n      </g>\n     </g>\n     <g id=\"text_19\">\n      <!-- Dezembro -->\n      <defs>\n       <path d=\"M 19.671875 64.796875 \nL 19.671875 8.109375 \nL 31.59375 8.109375 \nQ 46.6875 8.109375 53.6875 14.9375 \nQ 60.6875 21.78125 60.6875 36.53125 \nQ 60.6875 51.171875 53.6875 57.984375 \nQ 46.6875 64.796875 31.59375 64.796875 \nz\nM 9.8125 72.90625 \nL 30.078125 72.90625 \nQ 51.265625 72.90625 61.171875 64.09375 \nQ 71.09375 55.28125 71.09375 36.53125 \nQ 71.09375 17.671875 61.125 8.828125 \nQ 51.171875 0 30.078125 0 \nL 9.8125 0 \nz\n\" id=\"DejaVuSans-68\"/>\n       <path d=\"M 5.515625 54.6875 \nL 48.1875 54.6875 \nL 48.1875 46.484375 \nL 14.40625 7.171875 \nL 48.1875 7.171875 \nL 48.1875 0 \nL 4.296875 0 \nL 4.296875 8.203125 \nL 38.09375 47.515625 \nL 5.515625 47.515625 \nz\n\" id=\"DejaVuSans-122\"/>\n      </defs>\n      <g transform=\"translate(21.295313 35.657344)scale(0.1 -0.1)\">\n       <use xlink:href=\"#DejaVuSans-68\"/>\n       <use x=\"77.001953\" xlink:href=\"#DejaVuSans-101\"/>\n       <use x=\"138.525391\" xlink:href=\"#DejaVuSans-122\"/>\n       <use x=\"191.015625\" xlink:href=\"#DejaVuSans-101\"/>\n       <use x=\"252.539062\" xlink:href=\"#DejaVuSans-109\"/>\n       <use x=\"349.951172\" xlink:href=\"#DejaVuSans-98\"/>\n       <use x=\"413.427734\" xlink:href=\"#DejaVuSans-114\"/>\n       <use x=\"454.509766\" xlink:href=\"#DejaVuSans-111\"/>\n      </g>\n     </g>\n    </g>\n    <g id=\"text_20\">\n     <!-- Mês -->\n     <g transform=\"translate(14.798438 141.513438)rotate(-90)scale(0.1 -0.1)\">\n      <use xlink:href=\"#DejaVuSans-77\"/>\n      <use x=\"86.279297\" xlink:href=\"#DejaVuSans-234\"/>\n      <use x=\"147.802734\" xlink:href=\"#DejaVuSans-115\"/>\n     </g>\n    </g>\n   </g>\n   <g id=\"patch_15\">\n    <path d=\"M 79.865625 240.238125 \nL 79.865625 22.798125 \n\" style=\"fill:none;stroke:#000000;stroke-linecap:square;stroke-linejoin:miter;stroke-width:0.8;\"/>\n   </g>\n   <g id=\"patch_16\">\n    <path d=\"M 414.665625 240.238125 \nL 414.665625 22.798125 \n\" style=\"fill:none;stroke:#000000;stroke-linecap:square;stroke-linejoin:miter;stroke-width:0.8;\"/>\n   </g>\n   <g id=\"patch_17\">\n    <path d=\"M 79.865625 240.238125 \nL 414.665625 240.238125 \n\" style=\"fill:none;stroke:#000000;stroke-linecap:square;stroke-linejoin:miter;stroke-width:0.8;\"/>\n   </g>\n   <g id=\"patch_18\">\n    <path d=\"M 79.865625 22.798125 \nL 414.665625 22.798125 \n\" style=\"fill:none;stroke:#000000;stroke-linecap:square;stroke-linejoin:miter;stroke-width:0.8;\"/>\n   </g>\n   <g id=\"text_21\">\n    <!-- Disitribuição de Ocorrências por Ano -->\n    <defs>\n     <path d=\"M 34.28125 27.484375 \nQ 23.390625 27.484375 19.1875 25 \nQ 14.984375 22.515625 14.984375 16.5 \nQ 14.984375 11.71875 18.140625 8.90625 \nQ 21.296875 6.109375 26.703125 6.109375 \nQ 34.1875 6.109375 38.703125 11.40625 \nQ 43.21875 16.703125 43.21875 25.484375 \nL 43.21875 27.484375 \nz\nM 52.203125 31.203125 \nL 52.203125 0 \nL 43.21875 0 \nL 43.21875 8.296875 \nQ 40.140625 3.328125 35.546875 0.953125 \nQ 30.953125 -1.421875 24.3125 -1.421875 \nQ 15.921875 -1.421875 10.953125 3.296875 \nQ 6 8.015625 6 15.921875 \nQ 6 25.140625 12.171875 29.828125 \nQ 18.359375 34.515625 30.609375 34.515625 \nL 43.21875 34.515625 \nL 43.21875 35.40625 \nQ 43.21875 41.609375 39.140625 45 \nQ 35.0625 48.390625 27.6875 48.390625 \nQ 23 48.390625 18.546875 47.265625 \nQ 14.109375 46.140625 10.015625 43.890625 \nL 10.015625 52.203125 \nQ 14.9375 54.109375 19.578125 55.046875 \nQ 24.21875 56 28.609375 56 \nQ 40.484375 56 46.34375 49.84375 \nQ 52.203125 43.703125 52.203125 31.203125 \nz\nM 28.8125 66.890625 \nL 26.03125 69.578125 \nQ 24.953125 70.5625 24.140625 71.015625 \nQ 23.34375 71.484375 22.703125 71.484375 \nQ 20.84375 71.484375 19.96875 69.703125 \nQ 19.09375 67.921875 19 63.921875 \nL 12.890625 63.921875 \nQ 12.984375 70.515625 15.46875 74.09375 \nQ 17.96875 77.6875 22.40625 77.6875 \nQ 24.265625 77.6875 25.828125 77 \nQ 27.390625 76.3125 29.203125 74.703125 \nL 31.984375 72.015625 \nQ 33.0625 71.046875 33.859375 70.578125 \nQ 34.671875 70.125 35.296875 70.125 \nQ 37.15625 70.125 38.03125 71.90625 \nQ 38.921875 73.6875 39.015625 77.6875 \nL 45.125 77.6875 \nQ 45.015625 71.09375 42.53125 67.5 \nQ 40.046875 63.921875 35.59375 63.921875 \nQ 33.734375 63.921875 32.171875 64.59375 \nQ 30.609375 65.28125 28.8125 66.890625 \nz\n\" id=\"DejaVuSans-227\"/>\n     <path d=\"M 18.109375 8.203125 \nL 18.109375 -20.796875 \nL 9.078125 -20.796875 \nL 9.078125 54.6875 \nL 18.109375 54.6875 \nL 18.109375 46.390625 \nQ 20.953125 51.265625 25.265625 53.625 \nQ 29.59375 56 35.59375 56 \nQ 45.5625 56 51.78125 48.09375 \nQ 58.015625 40.1875 58.015625 27.296875 \nQ 58.015625 14.40625 51.78125 6.484375 \nQ 45.5625 -1.421875 35.59375 -1.421875 \nQ 29.59375 -1.421875 25.265625 0.953125 \nQ 20.953125 3.328125 18.109375 8.203125 \nz\nM 48.6875 27.296875 \nQ 48.6875 37.203125 44.609375 42.84375 \nQ 40.53125 48.484375 33.40625 48.484375 \nQ 26.265625 48.484375 22.1875 42.84375 \nQ 18.109375 37.203125 18.109375 27.296875 \nQ 18.109375 17.390625 22.1875 11.75 \nQ 26.265625 6.109375 33.40625 6.109375 \nQ 40.53125 6.109375 44.609375 11.75 \nQ 48.6875 17.390625 48.6875 27.296875 \nz\n\" id=\"DejaVuSans-112\"/>\n    </defs>\n    <g transform=\"translate(137.235 16.798125)scale(0.12 -0.12)\">\n     <use xlink:href=\"#DejaVuSans-68\"/>\n     <use x=\"77.001953\" xlink:href=\"#DejaVuSans-105\"/>\n     <use x=\"104.785156\" xlink:href=\"#DejaVuSans-115\"/>\n     <use x=\"156.884766\" xlink:href=\"#DejaVuSans-105\"/>\n     <use x=\"184.667969\" xlink:href=\"#DejaVuSans-116\"/>\n     <use x=\"223.876953\" xlink:href=\"#DejaVuSans-114\"/>\n     <use x=\"264.990234\" xlink:href=\"#DejaVuSans-105\"/>\n     <use x=\"292.773438\" xlink:href=\"#DejaVuSans-98\"/>\n     <use x=\"356.25\" xlink:href=\"#DejaVuSans-117\"/>\n     <use x=\"419.628906\" xlink:href=\"#DejaVuSans-105\"/>\n     <use x=\"447.412109\" xlink:href=\"#DejaVuSans-231\"/>\n     <use x=\"502.392578\" xlink:href=\"#DejaVuSans-227\"/>\n     <use x=\"563.671875\" xlink:href=\"#DejaVuSans-111\"/>\n     <use x=\"624.853516\" xlink:href=\"#DejaVuSans-32\"/>\n     <use x=\"656.640625\" xlink:href=\"#DejaVuSans-100\"/>\n     <use x=\"720.117188\" xlink:href=\"#DejaVuSans-101\"/>\n     <use x=\"781.640625\" xlink:href=\"#DejaVuSans-32\"/>\n     <use x=\"813.427734\" xlink:href=\"#DejaVuSans-79\"/>\n     <use x=\"892.138672\" xlink:href=\"#DejaVuSans-99\"/>\n     <use x=\"947.119141\" xlink:href=\"#DejaVuSans-111\"/>\n     <use x=\"1008.300781\" xlink:href=\"#DejaVuSans-114\"/>\n     <use x=\"1049.398438\" xlink:href=\"#DejaVuSans-114\"/>\n     <use x=\"1090.480469\" xlink:href=\"#DejaVuSans-234\"/>\n     <use x=\"1152.003906\" xlink:href=\"#DejaVuSans-110\"/>\n     <use x=\"1215.382812\" xlink:href=\"#DejaVuSans-99\"/>\n     <use x=\"1270.363281\" xlink:href=\"#DejaVuSans-105\"/>\n     <use x=\"1298.146484\" xlink:href=\"#DejaVuSans-97\"/>\n     <use x=\"1359.425781\" xlink:href=\"#DejaVuSans-115\"/>\n     <use x=\"1411.525391\" xlink:href=\"#DejaVuSans-32\"/>\n     <use x=\"1443.3125\" xlink:href=\"#DejaVuSans-112\"/>\n     <use x=\"1506.789062\" xlink:href=\"#DejaVuSans-111\"/>\n     <use x=\"1567.970703\" xlink:href=\"#DejaVuSans-114\"/>\n     <use x=\"1609.083984\" xlink:href=\"#DejaVuSans-32\"/>\n     <use x=\"1640.871094\" xlink:href=\"#DejaVuSans-65\"/>\n     <use x=\"1709.279297\" xlink:href=\"#DejaVuSans-110\"/>\n     <use x=\"1772.658203\" xlink:href=\"#DejaVuSans-111\"/>\n    </g>\n   </g>\n  </g>\n </g>\n <defs>\n  <clipPath id=\"p30d2e4a83d\">\n   <rect height=\"217.44\" width=\"334.8\" x=\"79.865625\" y=\"22.798125\"/>\n  </clipPath>\n </defs>\n</svg>\n",
      "text/plain": "<Figure size 432x288 with 1 Axes>"
     },
     "metadata": {
      "needs_background": "light"
     },
     "output_type": "display_data"
    }
   ],
   "source": [
    "df[\"MES_OCORRENCIA_BO\"].value_counts().plot(kind=\"barh\")\n",
    "plt.xlim(0, 100000)\n",
    "plt.xlabel('Quantidade de Ocorrências')\n",
    "plt.ylabel('Mês')\n",
    "plt.title('Disitribuição de Ocorrências por Ano')\n",
    "plt.show()"
   ]
  },
  {
   "cell_type": "markdown",
   "metadata": {},
   "outputs": [],
   "source": [
    "#### 4.2) **(20%)** Análise 2 - Dependência entre variáveis\n",
    "O aluno deve apresentar as mesmas distribuições para cada valor da variável dependente. Exemplo: Em um conjunto de dados em que as variáveis independentes são idade e sexo, e a variável dependente é renda. O aluno pode dividir a renda em 3 \"grupos\", <1000 reais, entre 1000 e 10000 reais e >1000 reais. Para cada um desses grupos, é necessário apresentar a distribuição das variáveis \"idade\" e \"sexo\".\n"
   ]
  },
  {
   "cell_type": "code",
   "metadata": {},
   "outputs": [],
   "source": [
    "# Implemente sua análise aqui. Use mais blocos se achar que ficará mais organizado."
   ]
  },
  {
   "cell_type": "markdown",
   "metadata": {},
   "outputs": [],
   "source": [
    "#### 4.3) **(20%)** Análise 3 - Correlação entre variáveis\n",
    "\n",
    "O aluno deve apresentar 3 análises de correlação entre variáveis do conjunto de dados trabalhado. Exemplo: Em um conjunto de dados com as informações de temperatura e ocorrência de incêndios, eu gostaria de saber a incidência de correlação entre as duas variáveis.\n",
    "\n"
   ]
  },
  {
   "cell_type": "code",
   "metadata": {},
   "outputs": [],
   "source": [
    "# Primeiro par de variáveis: Implemente sua análise aqui. Use mais blocos se achar que ficará mais organizado."
   ]
  },
  {
   "cell_type": "code",
   "metadata": {},
   "outputs": [],
   "source": [
    "# Segundo par de variáveis: Implemente sua análise aqui. Use mais blocos se achar que ficará mais organizado."
   ]
  },
  {
   "cell_type": "code",
   "metadata": {},
   "outputs": [],
   "source": [
    "# Terceiro par de variáveis: Implemente sua análise aqui. Use mais blocos se achar que ficará mais organizado."
   ]
  },
  {
   "cell_type": "markdown",
   "metadata": {},
   "outputs": [],
   "source": [
    "### 5) Conclusões **15%**"
   ]
  },
  {
   "cell_type": "markdown",
   "metadata": {},
   "outputs": [],
   "source": [
    "*O que é possível concluir com os dados que você analisou? Se fosse fazer uma apresentação, o que levaria como os maiores destaques e por que?*"
   ]
  },
  {
   "cell_type": "markdown",
   "metadata": {},
   "outputs": [],
   "source": []
  }
 ],
 "metadata": {
  "file_extension": ".py",
  "kernelspec": {
   "display_name": "Python 3",
   "language": "python",
   "name": "python3"
  },
  "language_info": {
   "codemirror_mode": {
    "name": "ipython",
    "version": 3
   },
   "file_extension": ".py",
   "mimetype": "text/x-python",
   "name": "python",
   "nbconvert_exporter": "python",
   "pygments_lexer": "ipython3",
   "version": "3.7.4"
  },
  "mimetype": "text/x-python",
  "name": "python",
  "npconvert_exporter": "python",
  "pygments_lexer": "ipython3",
  "version": 3
 },
 "nbformat": 4,
 "nbformat_minor": 2
}